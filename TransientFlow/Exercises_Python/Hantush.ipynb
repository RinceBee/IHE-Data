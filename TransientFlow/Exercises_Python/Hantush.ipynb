{
 "metadata": {
  "name": "",
  "signature": "sha256:2279f46545b5db57cb9b8ed4931a18e323504abd89f605967bfeae2a828f90da"
 },
 "nbformat": 3,
 "nbformat_minor": 0,
 "worksheets": [
  {
   "cells": [
    {
     "cell_type": "markdown",
     "metadata": {},
     "source": [
      "#Hantush' well function\n",
      "## Mahdi Hantush (1956)\n",
      "\n",
      "Hantush's well function yields the drawdown due to a well extracting a constant flow Q from t=0 from a semi-confined aquifer. A semi-confined aquifer is one in which leakage occurs through a leayky confining layer, while the head beyond this confining layers is constant. The aquifer has a constant transmissivity and the confining layer a constant resistance against vertical flow. The aquifer has a constant elastic storage coefficient, while the confining layer has not storage.\n",
      "\n",
      "The  drawdown according to Hantush reads\n",
      "\n",
      "$$ s(r,t) = \\frac {Q} {4 \\pi kD} W \\left( u, \\frac r \\lambda \\right) $$\n",
      "\n",
      "where\n",
      "\n",
      "$ u = \\frac {r^2 S} {4 kD t} \\,\\,\\,\\, $    and    $ \\,\\,\\,\\, \\lambda = \\sqrt { kD c } $\n",
      "\n",
      "Notice the difference between the lower s (drawdown) and the upper S (storage) !\n",
      "The well function can be mathematically be described as\n",
      "\n",
      "$ W(u,\\frac r \\lambda) = \\intop _u ^\\infty \\frac {e^{-y -\\frac 1 y  \\left(\\frac r {2 \\lambda} \\right)^2 } }  y dy $\n"
     ]
    },
    {
     "cell_type": "code",
     "collapsed": false,
     "input": [
      "import numpy as np\n",
      "import matplotlib.pyplot as plt"
     ],
     "language": "python",
     "metadata": {},
     "outputs": [],
     "prompt_number": 1
    },
    {
     "cell_type": "markdown",
     "metadata": {},
     "source": [
      "There are many ways to numerically compute the Hantush well function. But the simplest way may be to just carry out the integration numerically.\n",
      "Because the integration runs over many orders of magnitude for u for instance between u=1e-5 to u=e^20, which is about 5e8 as an arbitraty upper limit which should be large enough to figure as infinity, i.e. such that the integration beyond this limit to real infinity plays not signicant role for the outcome, we could implement it as follows:"
     ]
    },
    {
     "cell_type": "code",
     "collapsed": false,
     "input": [
      "def Wh(u,Rho,limit=20,N=2000):\n",
      "    '''\n",
      "    Hantush's well function  w = W(u,r/lambda,limit=20,N=2000)\n",
      "    limit is upper integration boundary 10**limit\n",
      "    N is number of points on which the argument is integrated.\n",
      "    \n",
      "    s = Wh(u,rho,limit=20,N=2000)\n",
      "    \n",
      "    s.shape = (N,M),  N = len(rho) and M = len(u)\n",
      "    '''\n",
      "    u   = np.asarray(u).reshape(1,size(u))\n",
      "    Rho = np.asarray(Rho).reshape(size(Rho),1)\n",
      "    print u.shape\n",
      "    print Rho.shape\n",
      "    \n",
      "    y   = np.logspace(log10(np.min(u)), limit, N)\n",
      "    dy  = np.diff(y)\n",
      "    \n",
      "    f   = np.exp(-y -  Rho**2 / 4.0 / y) / y\n",
      "    print f.shape\n",
      "    fdy = np.hstack( ( (f[:,:-1] + f[:,1:]) * dy/2, np.zeros_like(Rho) ) )\n",
      "    Fdy = np.cumsum(fdy[:,-1::-1], axis=1)[:,-1::-1]\n",
      "    \n",
      "    from scipy.interpolate import bisplrep, bisplev\n",
      "    tk = bisplrep(Rho * np.ones_like(y), y * np.ones_like(Rho), Fdy)\n",
      "    wh = bisplev(Rho.ravel(),u,tk)\n",
      "        \n",
      "    return wh"
     ],
     "language": "python",
     "metadata": {},
     "outputs": [],
     "prompt_number": 2
    },
    {
     "cell_type": "code",
     "collapsed": false,
     "input": [
      "print Wh(0.001,[0.01,0.1])\n",
      "print Wh([0.0001, 0.001, 0.01, 0.1],[0.01, 0.1])\n",
      "print Wh([0.01, 0.1],[0.0001, 0.001, 0.01, 0.1])"
     ],
     "language": "python",
     "metadata": {},
     "outputs": [
      {
       "output_type": "stream",
       "stream": "stdout",
       "text": [
        "(1, 1)\n",
        "(2, 1)\n",
        "(2, 2000)\n",
        "Warning:     No more knots can be added because the additional knot would coincide\n",
        "    with an old one. Probably cause: s too small or too large a weight\n",
        "    to an inaccurate data point. (fp>s)"
       ]
      },
      {
       "ename": "ValueError",
       "evalue": "First two entries should be rank-1 arrays.",
       "output_type": "pyerr",
       "traceback": [
        "\u001b[0;31m---------------------------------------------------------------------------\u001b[0m\n\u001b[0;31mValueError\u001b[0m                                Traceback (most recent call last)",
        "\u001b[0;32m<ipython-input-3-e666273d1cab>\u001b[0m in \u001b[0;36m<module>\u001b[0;34m()\u001b[0m\n\u001b[0;32m----> 1\u001b[0;31m \u001b[0;32mprint\u001b[0m \u001b[0mWh\u001b[0m\u001b[0;34m(\u001b[0m\u001b[0;36m0.001\u001b[0m\u001b[0;34m,\u001b[0m\u001b[0;34m[\u001b[0m\u001b[0;36m0.01\u001b[0m\u001b[0;34m,\u001b[0m\u001b[0;36m0.1\u001b[0m\u001b[0;34m]\u001b[0m\u001b[0;34m)\u001b[0m\u001b[0;34m\u001b[0m\u001b[0m\n\u001b[0m\u001b[1;32m      2\u001b[0m \u001b[0;32mprint\u001b[0m \u001b[0mWh\u001b[0m\u001b[0;34m(\u001b[0m\u001b[0;34m[\u001b[0m\u001b[0;36m0.0001\u001b[0m\u001b[0;34m,\u001b[0m \u001b[0;36m0.001\u001b[0m\u001b[0;34m,\u001b[0m \u001b[0;36m0.01\u001b[0m\u001b[0;34m,\u001b[0m \u001b[0;36m0.1\u001b[0m\u001b[0;34m]\u001b[0m\u001b[0;34m,\u001b[0m\u001b[0;34m[\u001b[0m\u001b[0;36m0.01\u001b[0m\u001b[0;34m,\u001b[0m \u001b[0;36m0.1\u001b[0m\u001b[0;34m]\u001b[0m\u001b[0;34m)\u001b[0m\u001b[0;34m\u001b[0m\u001b[0m\n\u001b[1;32m      3\u001b[0m \u001b[0;32mprint\u001b[0m \u001b[0mWh\u001b[0m\u001b[0;34m(\u001b[0m\u001b[0;34m[\u001b[0m\u001b[0;36m0.01\u001b[0m\u001b[0;34m,\u001b[0m \u001b[0;36m0.1\u001b[0m\u001b[0;34m]\u001b[0m\u001b[0;34m,\u001b[0m\u001b[0;34m[\u001b[0m\u001b[0;36m0.0001\u001b[0m\u001b[0;34m,\u001b[0m \u001b[0;36m0.001\u001b[0m\u001b[0;34m,\u001b[0m \u001b[0;36m0.01\u001b[0m\u001b[0;34m,\u001b[0m \u001b[0;36m0.1\u001b[0m\u001b[0;34m]\u001b[0m\u001b[0;34m)\u001b[0m\u001b[0;34m\u001b[0m\u001b[0m\n",
        "\u001b[0;32m<ipython-input-2-b15b270b0773>\u001b[0m in \u001b[0;36mWh\u001b[0;34m(u, Rho, limit, N)\u001b[0m\n\u001b[1;32m     24\u001b[0m     \u001b[0;32mfrom\u001b[0m \u001b[0mscipy\u001b[0m\u001b[0;34m.\u001b[0m\u001b[0minterpolate\u001b[0m \u001b[0;32mimport\u001b[0m \u001b[0mbisplrep\u001b[0m\u001b[0;34m,\u001b[0m \u001b[0mbisplev\u001b[0m\u001b[0;34m\u001b[0m\u001b[0m\n\u001b[1;32m     25\u001b[0m     \u001b[0mtk\u001b[0m \u001b[0;34m=\u001b[0m \u001b[0mbisplrep\u001b[0m\u001b[0;34m(\u001b[0m\u001b[0mRho\u001b[0m \u001b[0;34m*\u001b[0m \u001b[0mnp\u001b[0m\u001b[0;34m.\u001b[0m\u001b[0mones_like\u001b[0m\u001b[0;34m(\u001b[0m\u001b[0my\u001b[0m\u001b[0;34m)\u001b[0m\u001b[0;34m,\u001b[0m \u001b[0my\u001b[0m \u001b[0;34m*\u001b[0m \u001b[0mnp\u001b[0m\u001b[0;34m.\u001b[0m\u001b[0mones_like\u001b[0m\u001b[0;34m(\u001b[0m\u001b[0mRho\u001b[0m\u001b[0;34m)\u001b[0m\u001b[0;34m,\u001b[0m \u001b[0mFdy\u001b[0m\u001b[0;34m)\u001b[0m\u001b[0;34m\u001b[0m\u001b[0m\n\u001b[0;32m---> 26\u001b[0;31m     \u001b[0mwh\u001b[0m \u001b[0;34m=\u001b[0m \u001b[0mbisplev\u001b[0m\u001b[0;34m(\u001b[0m\u001b[0mRho\u001b[0m\u001b[0;34m.\u001b[0m\u001b[0mravel\u001b[0m\u001b[0;34m(\u001b[0m\u001b[0;34m)\u001b[0m\u001b[0;34m,\u001b[0m\u001b[0mu\u001b[0m\u001b[0;34m,\u001b[0m\u001b[0mtk\u001b[0m\u001b[0;34m)\u001b[0m\u001b[0;34m\u001b[0m\u001b[0m\n\u001b[0m\u001b[1;32m     27\u001b[0m \u001b[0;34m\u001b[0m\u001b[0m\n\u001b[1;32m     28\u001b[0m     \u001b[0;32mreturn\u001b[0m \u001b[0mwh\u001b[0m\u001b[0;34m\u001b[0m\u001b[0m\n",
        "\u001b[0;32m/Users/Theo/Library/Enthought/Canopy_64bit/User/lib/python2.7/site-packages/scipy/interpolate/fitpack.pyc\u001b[0m in \u001b[0;36mbisplev\u001b[0;34m(x, y, tck, dx, dy)\u001b[0m\n\u001b[1;32m   1024\u001b[0m     \u001b[0mx\u001b[0m\u001b[0;34m,\u001b[0m\u001b[0my\u001b[0m \u001b[0;34m=\u001b[0m \u001b[0mmap\u001b[0m\u001b[0;34m(\u001b[0m\u001b[0mmyasarray\u001b[0m\u001b[0;34m,\u001b[0m\u001b[0;34m[\u001b[0m\u001b[0mx\u001b[0m\u001b[0;34m,\u001b[0m\u001b[0my\u001b[0m\u001b[0;34m]\u001b[0m\u001b[0;34m)\u001b[0m\u001b[0;34m\u001b[0m\u001b[0m\n\u001b[1;32m   1025\u001b[0m     \u001b[0;32mif\u001b[0m \u001b[0;34m(\u001b[0m\u001b[0mlen\u001b[0m\u001b[0;34m(\u001b[0m\u001b[0mx\u001b[0m\u001b[0;34m.\u001b[0m\u001b[0mshape\u001b[0m\u001b[0;34m)\u001b[0m \u001b[0;34m!=\u001b[0m \u001b[0;36m1\u001b[0m\u001b[0;34m)\u001b[0m \u001b[0;32mor\u001b[0m \u001b[0;34m(\u001b[0m\u001b[0mlen\u001b[0m\u001b[0;34m(\u001b[0m\u001b[0my\u001b[0m\u001b[0;34m.\u001b[0m\u001b[0mshape\u001b[0m\u001b[0;34m)\u001b[0m \u001b[0;34m!=\u001b[0m \u001b[0;36m1\u001b[0m\u001b[0;34m)\u001b[0m\u001b[0;34m:\u001b[0m\u001b[0;34m\u001b[0m\u001b[0m\n\u001b[0;32m-> 1026\u001b[0;31m         \u001b[0;32mraise\u001b[0m \u001b[0mValueError\u001b[0m\u001b[0;34m(\u001b[0m\u001b[0;34m\"First two entries should be rank-1 arrays.\"\u001b[0m\u001b[0;34m)\u001b[0m\u001b[0;34m\u001b[0m\u001b[0m\n\u001b[0m\u001b[1;32m   1027\u001b[0m     \u001b[0mz\u001b[0m\u001b[0;34m,\u001b[0m\u001b[0mier\u001b[0m \u001b[0;34m=\u001b[0m \u001b[0m_fitpack\u001b[0m\u001b[0;34m.\u001b[0m\u001b[0m_bispev\u001b[0m\u001b[0;34m(\u001b[0m\u001b[0mtx\u001b[0m\u001b[0;34m,\u001b[0m\u001b[0mty\u001b[0m\u001b[0;34m,\u001b[0m\u001b[0mc\u001b[0m\u001b[0;34m,\u001b[0m\u001b[0mkx\u001b[0m\u001b[0;34m,\u001b[0m\u001b[0mky\u001b[0m\u001b[0;34m,\u001b[0m\u001b[0mx\u001b[0m\u001b[0;34m,\u001b[0m\u001b[0my\u001b[0m\u001b[0;34m,\u001b[0m\u001b[0mdx\u001b[0m\u001b[0;34m,\u001b[0m\u001b[0mdy\u001b[0m\u001b[0;34m)\u001b[0m\u001b[0;34m\u001b[0m\u001b[0m\n\u001b[1;32m   1028\u001b[0m     \u001b[0;32mif\u001b[0m \u001b[0mier\u001b[0m \u001b[0;34m==\u001b[0m \u001b[0;36m10\u001b[0m\u001b[0;34m:\u001b[0m\u001b[0;34m\u001b[0m\u001b[0m\n",
        "\u001b[0;31mValueError\u001b[0m: First two entries should be rank-1 arrays."
       ]
      },
      {
       "output_type": "stream",
       "stream": "stdout",
       "text": [
        "\n",
        "\tkx,ky=3,3 nx,ny=9,8 m=4000 fp=5209.105395 s=3910.557281\n"
       ]
      }
     ],
     "prompt_number": 3
    },
    {
     "cell_type": "code",
     "collapsed": false,
     "input": [
      "def W(u):\n",
      "    '''Theis' well function, which is actually the exponential integral expn(1,u)\n",
      "       that can be found in module scipy.special\n",
      "    '''\n",
      "    from scipy.special import expn\n",
      "    return expn(1,u)\n"
     ],
     "language": "python",
     "metadata": {},
     "outputs": [],
     "prompt_number": 4
    },
    {
     "cell_type": "markdown",
     "metadata": {},
     "source": [
      "Then define some testing function, in this case we'll print the value of W for 7 values of u and 3 values of rho. This allows us to verify the values on the hand of publishe tables. For instance, see the web looking for the words \"Kruseman and de Ridder download\". You'll find the year 2000 version of the world-famous book of Kruseman and de Ridder on Pumping test analysis. You'll find the table of W(u,r/lambda) in that book in table 4.2, page 298 for verification."
     ]
    },
    {
     "cell_type": "code",
     "collapsed": false,
     "input": [
      "# test\n",
      "U = np.logspace(-5,0,6)\n",
      "Rho = [0.01, 0.1, 1]\n",
      "WH  = np.zeros((size(U),size(Rho)))\n",
      "for i,u in enumerate(list(U)):\n",
      "    for j,rho in enumerate(Rho):\n",
      "        # import pdb; pdb.set_trace()\n",
      "        # print Wh(u,rho)\n",
      "        WH[i,j]=Wh(u,rho)\n",
      "print WH"
     ],
     "language": "python",
     "metadata": {},
     "outputs": [
      {
       "ename": "ValueError",
       "evalue": "Invalid inputs.",
       "output_type": "pyerr",
       "traceback": [
        "\u001b[0;31m---------------------------------------------------------------------------\u001b[0m\n\u001b[0;31mValueError\u001b[0m                                Traceback (most recent call last)",
        "\u001b[0;32m<ipython-input-5-bf3f63149dbe>\u001b[0m in \u001b[0;36m<module>\u001b[0;34m()\u001b[0m\n\u001b[1;32m      7\u001b[0m         \u001b[0;31m# import pdb; pdb.set_trace()\u001b[0m\u001b[0;34m\u001b[0m\u001b[0;34m\u001b[0m\u001b[0m\n\u001b[1;32m      8\u001b[0m         \u001b[0;31m# print Wh(u,rho)\u001b[0m\u001b[0;34m\u001b[0m\u001b[0;34m\u001b[0m\u001b[0m\n\u001b[0;32m----> 9\u001b[0;31m         \u001b[0mWH\u001b[0m\u001b[0;34m[\u001b[0m\u001b[0mi\u001b[0m\u001b[0;34m,\u001b[0m\u001b[0mj\u001b[0m\u001b[0;34m]\u001b[0m\u001b[0;34m=\u001b[0m\u001b[0mWh\u001b[0m\u001b[0;34m(\u001b[0m\u001b[0mu\u001b[0m\u001b[0;34m,\u001b[0m\u001b[0mrho\u001b[0m\u001b[0;34m)\u001b[0m\u001b[0;34m\u001b[0m\u001b[0m\n\u001b[0m\u001b[1;32m     10\u001b[0m \u001b[0;32mprint\u001b[0m \u001b[0mWH\u001b[0m\u001b[0;34m\u001b[0m\u001b[0m\n",
        "\u001b[0;32m<ipython-input-2-b15b270b0773>\u001b[0m in \u001b[0;36mWh\u001b[0;34m(u, Rho, limit, N)\u001b[0m\n\u001b[1;32m     23\u001b[0m \u001b[0;34m\u001b[0m\u001b[0m\n\u001b[1;32m     24\u001b[0m     \u001b[0;32mfrom\u001b[0m \u001b[0mscipy\u001b[0m\u001b[0;34m.\u001b[0m\u001b[0minterpolate\u001b[0m \u001b[0;32mimport\u001b[0m \u001b[0mbisplrep\u001b[0m\u001b[0;34m,\u001b[0m \u001b[0mbisplev\u001b[0m\u001b[0;34m\u001b[0m\u001b[0m\n\u001b[0;32m---> 25\u001b[0;31m     \u001b[0mtk\u001b[0m \u001b[0;34m=\u001b[0m \u001b[0mbisplrep\u001b[0m\u001b[0;34m(\u001b[0m\u001b[0mRho\u001b[0m \u001b[0;34m*\u001b[0m \u001b[0mnp\u001b[0m\u001b[0;34m.\u001b[0m\u001b[0mones_like\u001b[0m\u001b[0;34m(\u001b[0m\u001b[0my\u001b[0m\u001b[0;34m)\u001b[0m\u001b[0;34m,\u001b[0m \u001b[0my\u001b[0m \u001b[0;34m*\u001b[0m \u001b[0mnp\u001b[0m\u001b[0;34m.\u001b[0m\u001b[0mones_like\u001b[0m\u001b[0;34m(\u001b[0m\u001b[0mRho\u001b[0m\u001b[0;34m)\u001b[0m\u001b[0;34m,\u001b[0m \u001b[0mFdy\u001b[0m\u001b[0;34m)\u001b[0m\u001b[0;34m\u001b[0m\u001b[0m\n\u001b[0m\u001b[1;32m     26\u001b[0m     \u001b[0mwh\u001b[0m \u001b[0;34m=\u001b[0m \u001b[0mbisplev\u001b[0m\u001b[0;34m(\u001b[0m\u001b[0mRho\u001b[0m\u001b[0;34m.\u001b[0m\u001b[0mravel\u001b[0m\u001b[0;34m(\u001b[0m\u001b[0;34m)\u001b[0m\u001b[0;34m,\u001b[0m\u001b[0mu\u001b[0m\u001b[0;34m,\u001b[0m\u001b[0mtk\u001b[0m\u001b[0;34m)\u001b[0m\u001b[0;34m\u001b[0m\u001b[0m\n\u001b[1;32m     27\u001b[0m \u001b[0;34m\u001b[0m\u001b[0m\n",
        "\u001b[0;32m/Users/Theo/Library/Enthought/Canopy_64bit/User/lib/python2.7/site-packages/scipy/interpolate/fitpack.pyc\u001b[0m in \u001b[0;36mbisplrep\u001b[0;34m(x, y, z, w, xb, xe, yb, ye, kx, ky, task, s, eps, tx, ty, full_output, nxest, nyest, quiet)\u001b[0m\n\u001b[1;32m    938\u001b[0m     \u001b[0mlwrk2\u001b[0m \u001b[0;34m=\u001b[0m \u001b[0m_intc_overflow\u001b[0m\u001b[0;34m(\u001b[0m\u001b[0mu\u001b[0m\u001b[0;34m*\u001b[0m\u001b[0mv\u001b[0m\u001b[0;34m*\u001b[0m\u001b[0;34m(\u001b[0m\u001b[0mb2\u001b[0m\u001b[0;34m+\u001b[0m\u001b[0;36m1\u001b[0m\u001b[0;34m)\u001b[0m\u001b[0;34m+\u001b[0m\u001b[0mb2\u001b[0m\u001b[0;34m,\u001b[0m \u001b[0mmsg\u001b[0m\u001b[0;34m=\u001b[0m\u001b[0mmsg\u001b[0m\u001b[0;34m)\u001b[0m\u001b[0;34m\u001b[0m\u001b[0m\n\u001b[1;32m    939\u001b[0m     tx,ty,c,o = _fitpack._surfit(x,y,z,w,xb,xe,yb,ye,kx,ky,task,s,eps,\n\u001b[0;32m--> 940\u001b[0;31m                                    tx,ty,nxest,nyest,wrk,lwrk1,lwrk2)\n\u001b[0m\u001b[1;32m    941\u001b[0m     \u001b[0m_curfit_cache\u001b[0m\u001b[0;34m[\u001b[0m\u001b[0;34m'tx'\u001b[0m\u001b[0;34m]\u001b[0m \u001b[0;34m=\u001b[0m \u001b[0mtx\u001b[0m\u001b[0;34m\u001b[0m\u001b[0m\n\u001b[1;32m    942\u001b[0m     \u001b[0m_curfit_cache\u001b[0m\u001b[0;34m[\u001b[0m\u001b[0;34m'ty'\u001b[0m\u001b[0;34m]\u001b[0m \u001b[0;34m=\u001b[0m \u001b[0mty\u001b[0m\u001b[0;34m\u001b[0m\u001b[0m\n",
        "\u001b[0;31mValueError\u001b[0m: Invalid inputs."
       ]
      },
      {
       "output_type": "stream",
       "stream": "stdout",
       "text": [
        "(1, 1)\n",
        "(1, 1)\n",
        "(1, 2000)\n"
       ]
      }
     ],
     "prompt_number": 5
    },
    {
     "cell_type": "code",
     "collapsed": false,
     "input": [
      "U = np.logspace(-5,0,6)\n",
      "Rho = [0.01, 0.1, 1]\n",
      "x  = np.zeros((size(U),size(Rho)))\n"
     ],
     "language": "python",
     "metadata": {},
     "outputs": []
    },
    {
     "cell_type": "markdown",
     "metadata": {},
     "source": [
      "Let's type in the values from the Wh(u,r/lambda) from the book of Kruseman and De Ridder (2000). See their table 4.2."
     ]
    },
    {
     "cell_type": "code",
     "collapsed": false,
     "input": [
      "# values for the same u (vertical) and rho (horizontal) from the table 4.2 in Kruseman and De Ridder (2000)\n",
      "KdR2000 = array([[9.42, 4.85, 0.84],\n",
      "                 [8.40, 4.85, 0.84],\n",
      "                 [6.31, 4.83, 0.84],\n",
      "                 [4.03, 3.81, 0.84],\n",
      "                 [1.81, 1.80, 0.819],\n",
      "                 [0.219, 0.219, 0.185]\n",
      "                 ])\n",
      "print KdR2000"
     ],
     "language": "python",
     "metadata": {},
     "outputs": [
      {
       "output_type": "stream",
       "stream": "stdout",
       "text": [
        "[[ 9.42   4.85   0.84 ]\n",
        " [ 8.4    4.85   0.84 ]\n",
        " [ 6.31   4.83   0.84 ]\n",
        " [ 4.03   3.81   0.84 ]\n",
        " [ 1.81   1.8    0.819]\n",
        " [ 0.219  0.219  0.185]]\n"
       ]
      }
     ],
     "prompt_number": 6
    },
    {
     "cell_type": "markdown",
     "metadata": {},
     "source": [
      "The comparison looks good, so we accept our implementation.\n",
      "\n",
      "The next step will be to compute as set of type curves, such as those that can be found in books. See for instance Kruseman and De Ridder (2000), page 82, fig 4.5."
     ]
    },
    {
     "cell_type": "code",
     "collapsed": false,
     "input": [
      "# use the U and Rho valaues that we already have\n",
      "fig = plt.figure\n",
      "title('Theis and Hantush well function type curves')\n",
      "xlabel('1/u')\n",
      "ylabel('Wh(u)')\n",
      "\n",
      "u   = np.logspace(-5,0,60)\n",
      "Rho = np.array([0.001, 0.002, 0.005, 0.01, 0.02, 0.05, 0.1, 0.2, 0.5, 1, 2, 5])\n",
      "plt.plot(1/u,W(u),'ro', label='Theis')\n",
      "for rho in Rho:\n",
      "    lbl = 'Wh(..,rho=%g)' % rho\n",
      "    plt.plot(1/u,Wh(u,rho), label=lbl)\n",
      "\n",
      "plt.legend(loc=(1.2,-0.1))\n",
      "plt.setp(gca(), xscale='log',yscale='log')\n",
      "plt.grid(True, which='both', axis='both')\n",
      "plt.show()\n",
      "\n"
     ],
     "language": "python",
     "metadata": {},
     "outputs": [
      {
       "ename": "NameError",
       "evalue": "name 'W' is not defined",
       "output_type": "pyerr",
       "traceback": [
        "\u001b[0;31m---------------------------------------------------------------------------\u001b[0m\n\u001b[0;31mNameError\u001b[0m                                 Traceback (most recent call last)",
        "\u001b[0;32m<ipython-input-16-6854900f29e7>\u001b[0m in \u001b[0;36m<module>\u001b[0;34m()\u001b[0m\n\u001b[1;32m      7\u001b[0m \u001b[0mu\u001b[0m   \u001b[0;34m=\u001b[0m \u001b[0mnp\u001b[0m\u001b[0;34m.\u001b[0m\u001b[0mlogspace\u001b[0m\u001b[0;34m(\u001b[0m\u001b[0;34m-\u001b[0m\u001b[0;36m5\u001b[0m\u001b[0;34m,\u001b[0m\u001b[0;36m0\u001b[0m\u001b[0;34m,\u001b[0m\u001b[0;36m60\u001b[0m\u001b[0;34m)\u001b[0m\u001b[0;34m\u001b[0m\u001b[0m\n\u001b[1;32m      8\u001b[0m \u001b[0mRho\u001b[0m \u001b[0;34m=\u001b[0m \u001b[0mnp\u001b[0m\u001b[0;34m.\u001b[0m\u001b[0marray\u001b[0m\u001b[0;34m(\u001b[0m\u001b[0;34m[\u001b[0m\u001b[0;36m0.001\u001b[0m\u001b[0;34m,\u001b[0m \u001b[0;36m0.002\u001b[0m\u001b[0;34m,\u001b[0m \u001b[0;36m0.005\u001b[0m\u001b[0;34m,\u001b[0m \u001b[0;36m0.01\u001b[0m\u001b[0;34m,\u001b[0m \u001b[0;36m0.02\u001b[0m\u001b[0;34m,\u001b[0m \u001b[0;36m0.05\u001b[0m\u001b[0;34m,\u001b[0m \u001b[0;36m0.1\u001b[0m\u001b[0;34m,\u001b[0m \u001b[0;36m0.2\u001b[0m\u001b[0;34m,\u001b[0m \u001b[0;36m0.5\u001b[0m\u001b[0;34m,\u001b[0m \u001b[0;36m1\u001b[0m\u001b[0;34m,\u001b[0m \u001b[0;36m2\u001b[0m\u001b[0;34m,\u001b[0m \u001b[0;36m5\u001b[0m\u001b[0;34m]\u001b[0m\u001b[0;34m)\u001b[0m\u001b[0;34m\u001b[0m\u001b[0m\n\u001b[0;32m----> 9\u001b[0;31m \u001b[0mplt\u001b[0m\u001b[0;34m.\u001b[0m\u001b[0mplot\u001b[0m\u001b[0;34m(\u001b[0m\u001b[0;36m1\u001b[0m\u001b[0;34m/\u001b[0m\u001b[0mu\u001b[0m\u001b[0;34m,\u001b[0m\u001b[0mW\u001b[0m\u001b[0;34m(\u001b[0m\u001b[0mu\u001b[0m\u001b[0;34m)\u001b[0m\u001b[0;34m,\u001b[0m\u001b[0;34m'ro'\u001b[0m\u001b[0;34m,\u001b[0m \u001b[0mlabel\u001b[0m\u001b[0;34m=\u001b[0m\u001b[0;34m'Theis'\u001b[0m\u001b[0;34m)\u001b[0m\u001b[0;34m\u001b[0m\u001b[0m\n\u001b[0m\u001b[1;32m     10\u001b[0m \u001b[0;32mfor\u001b[0m \u001b[0mrho\u001b[0m \u001b[0;32min\u001b[0m \u001b[0mRho\u001b[0m\u001b[0;34m:\u001b[0m\u001b[0;34m\u001b[0m\u001b[0m\n\u001b[1;32m     11\u001b[0m     \u001b[0mlbl\u001b[0m \u001b[0;34m=\u001b[0m \u001b[0;34m'Wh(..,rho=%g)'\u001b[0m \u001b[0;34m%\u001b[0m \u001b[0mrho\u001b[0m\u001b[0;34m\u001b[0m\u001b[0m\n",
        "\u001b[0;31mNameError\u001b[0m: name 'W' is not defined"
       ]
      },
      {
       "metadata": {},
       "output_type": "display_data",
       "png": "[encoded data removed]",
       "text": [
        "<matplotlib.figure.Figure at 0x10def3750>"
       ]
      }
     ],
     "prompt_number": 16
    },
    {
     "cell_type": "markdown",
     "metadata": {},
     "source": [
      "This shows the type curves for both Theis and Hantush. The Hantush lines depende on the `rho`, the ratio of $ \\rho = r / \\lambda $, where $ \\lambda = \\sqrt {kD c } $.\n",
      "From the expressions of the Theis and Hantush well functions, we see that `W(u) = Wh(u,0)`. Therefore, in fact, we need only the Hantush well function. Nevertheless, the Theis well functions, i.e. `scipy.special.expn(n,x)` is built in, and therefore more accurate and faster. In practice, however, the difference is hardly noticible as our Hantush implemenation is efficiently vectorized.\n",
      "\n",
      "The Hantush well function could be made arbitrarily accurate by increasing the number of points used in the integration. Also, we could use a more advanced interpolation than linear to vectorize the function."
     ]
    },
    {
     "cell_type": "code",
     "collapsed": false,
     "input": [
      "# extration and properties of aquifer\n",
      "Q = 1200 # m3/d\n",
      "kD= 900  # m2/d\n",
      "c = 600  # m\n",
      "S = 0.001\n",
      "\n",
      "# location of piezometer and time\n",
      "r = np.array([1 10 30 100 300])\n",
      "t = np.logspace(-3,1,41)\n",
      "u = r ** 2 * S / (4 * kD * t)\n",
      "rho = r / sqrt(kD * c)\n",
      "\n",
      "# compute drawdown\n",
      "s = Q/(4*np.pi*kD) * Wh(u,rho)\n",
      "\n",
      "plt.figure\n",
      "title('Drawdown due to well in semo-confined aquifer')\n",
      "plt.xlabel('t [d]'); plt.ylabel('drawdown [m]')\n",
      "\n",
      "# plot darwdown\n",
      "plt.plot(t,s)\n",
      "\n",
      "# embellish the plot by setting properties\n",
      "plt.setp(gca(), xscale='log', yscale='linear')\n",
      "plt.grid(True, which='both', axis='both')\n",
      "plt.gca().invert_yaxis()"
     ],
     "language": "python",
     "metadata": {},
     "outputs": [
      {
       "metadata": {},
       "output_type": "display_data",
       "png": "[encoded data removed]",
       "text": [
        "<matplotlib.figure.Figure at 0x10ef44510>"
       ]
      }
     ],
     "prompt_number": 18
    },
    {
     "cell_type": "code",
     "collapsed": false,
     "input": [],
     "language": "python",
     "metadata": {},
     "outputs": []
    }
   ],
   "metadata": {}
  }
 ]
}