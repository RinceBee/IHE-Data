{
 "metadata": {
  "name": "river1.ipynb"
 },
 "nbformat": 3,
 "nbformat_minor": 0,
 "worksheets": [
  {
   "cells": [
    {
     "cell_type": "markdown",
     "metadata": {},
     "source": [
      "# Fluctuating head boundary where `x=0`"
     ]
    },
    {
     "cell_type": "code",
     "collapsed": false,
     "input": [
      "#import numpy as np\n",
      "#import matplotlib.pyplot as plt\n",
      "%pylab inline"
     ],
     "language": "python",
     "metadata": {},
     "outputs": [
      {
       "output_type": "stream",
       "stream": "stdout",
       "text": [
        "Populating the interactive namespace from numpy and matplotlib\n"
       ]
      }
     ],
     "prompt_number": 2
    },
    {
     "cell_type": "code",
     "collapsed": false,
     "input": [],
     "language": "python",
     "metadata": {},
     "outputs": [
      {
       "output_type": "stream",
       "stream": "stdout",
       "text": [
        "Using matplotlib backend: MacOSX\n",
        "Populating the interactive namespace from numpy and matplotlib\n"
       ]
      }
     ],
     "prompt_number": 1
    },
    {
     "cell_type": "code",
     "collapsed": false,
     "input": [
      "def fluctuate(kD,S,A,omega,t0,x,t):\n",
      "    a = np.sqrt(omega * S / 2 / kD)\n",
      "    s = A * np.exp(-a*x) * np.sin(omega * (t-t0) - a * x)\n",
      "    return s"
     ],
     "language": "python",
     "metadata": {},
     "outputs": [],
     "prompt_number": 3
    },
    {
     "cell_type": "code",
     "collapsed": false,
     "input": [
      "kD = 900 # m2/d\n",
      "S  = 0.2 # -\n",
      "A  = 1.0 # m\n",
      "omega = 2*np.pi / 12  # rad/h\n",
      "t0 = 1.0 # h\n",
      "x  = np.linspace(0,1500,1500)\n",
      "times = np.linspace(0,48,4*48)"
     ],
     "language": "python",
     "metadata": {},
     "outputs": [],
     "prompt_number": 4
    },
    {
     "cell_type": "code",
     "collapsed": false,
     "input": [
      "fig = figure()"
     ],
     "language": "python",
     "metadata": {},
     "outputs": [
      {
       "metadata": {},
       "output_type": "display_data",
       "text": [
        "<matplotlib.figure.Figure at 0x10d6139d0>"
       ]
      }
     ],
     "prompt_number": 5
    },
    {
     "cell_type": "code",
     "collapsed": false,
     "input": [
      "fig.add_axes(xlabel='time [h]')"
     ],
     "language": "python",
     "metadata": {},
     "outputs": [],
     "prompt_number": 6
    },
    {
     "cell_type": "code",
     "collapsed": false,
     "input": [
      "fig = plt.figure(figsize=(10,5))\n",
      "ax = fig.add_axes( xlabel='time [h]', ylabel='stage or head [m]', title='fluctuations')\n",
      "h=[]\n",
      "for i,t in enumerate(times):\n",
      "    if i==0:\n",
      "        h.append(plot(x, fluctuate(kD,S,A,omega,t0,x,t)))\n",
      "    else:\n",
      "        h.setp(xdata=fluctuate(kD,S,A,omega,t0,x,t))\n",
      "    plt.show()"
     ],
     "language": "python",
     "metadata": {},
     "outputs": [
      {
       "ename": "AttributeError",
       "evalue": "'NoneType' object has no attribute 'plot'",
       "output_type": "pyerr",
       "traceback": [
        "\u001b[0;31m---------------------------------------------------------------------------\u001b[0m\n\u001b[0;31mAttributeError\u001b[0m                            Traceback (most recent call last)",
        "\u001b[0;32m<ipython-input-41-6c06ee730bff>\u001b[0m in \u001b[0;36m<module>\u001b[0;34m()\u001b[0m\n\u001b[1;32m      3\u001b[0m \u001b[0;32mfor\u001b[0m \u001b[0mi\u001b[0m\u001b[0;34m,\u001b[0m\u001b[0mt\u001b[0m \u001b[0;32min\u001b[0m \u001b[0menumerate\u001b[0m\u001b[0;34m(\u001b[0m\u001b[0mtimes\u001b[0m\u001b[0;34m)\u001b[0m\u001b[0;34m:\u001b[0m\u001b[0;34m\u001b[0m\u001b[0m\n\u001b[1;32m      4\u001b[0m     \u001b[0;32mif\u001b[0m \u001b[0mi\u001b[0m\u001b[0;34m==\u001b[0m\u001b[0;36m0\u001b[0m\u001b[0;34m:\u001b[0m\u001b[0;34m\u001b[0m\u001b[0m\n\u001b[0;32m----> 5\u001b[0;31m         \u001b[0mh\u001b[0m \u001b[0;34m=\u001b[0m \u001b[0max\u001b[0m\u001b[0;34m.\u001b[0m\u001b[0mplot\u001b[0m\u001b[0;34m(\u001b[0m\u001b[0mx\u001b[0m\u001b[0;34m,\u001b[0m \u001b[0mfluctuate\u001b[0m\u001b[0;34m(\u001b[0m\u001b[0mkD\u001b[0m\u001b[0;34m,\u001b[0m\u001b[0mS\u001b[0m\u001b[0;34m,\u001b[0m\u001b[0mA\u001b[0m\u001b[0;34m,\u001b[0m\u001b[0momega\u001b[0m\u001b[0;34m,\u001b[0m\u001b[0mt0\u001b[0m\u001b[0;34m,\u001b[0m\u001b[0mx\u001b[0m\u001b[0;34m,\u001b[0m\u001b[0mt\u001b[0m\u001b[0;34m)\u001b[0m\u001b[0;34m)\u001b[0m\u001b[0;34m\u001b[0m\u001b[0m\n\u001b[0m\u001b[1;32m      6\u001b[0m     \u001b[0;32melse\u001b[0m\u001b[0;34m:\u001b[0m\u001b[0;34m\u001b[0m\u001b[0m\n\u001b[1;32m      7\u001b[0m         \u001b[0mh\u001b[0m\u001b[0;34m.\u001b[0m\u001b[0msetp\u001b[0m\u001b[0;34m(\u001b[0m\u001b[0mxdata\u001b[0m\u001b[0;34m=\u001b[0m\u001b[0mfluctuate\u001b[0m\u001b[0;34m(\u001b[0m\u001b[0mkD\u001b[0m\u001b[0;34m,\u001b[0m\u001b[0mS\u001b[0m\u001b[0;34m,\u001b[0m\u001b[0mA\u001b[0m\u001b[0;34m,\u001b[0m\u001b[0momega\u001b[0m\u001b[0;34m,\u001b[0m\u001b[0mt0\u001b[0m\u001b[0;34m,\u001b[0m\u001b[0mx\u001b[0m\u001b[0;34m,\u001b[0m\u001b[0mt\u001b[0m\u001b[0;34m)\u001b[0m\u001b[0;34m)\u001b[0m\u001b[0;34m\u001b[0m\u001b[0m\n",
        "\u001b[0;31mAttributeError\u001b[0m: 'NoneType' object has no attribute 'plot'"
       ]
      },
      {
       "metadata": {},
       "output_type": "display_data",
       "text": [
        "<matplotlib.figure.Figure at 0x10ddbb750>"
       ]
      }
     ],
     "prompt_number": 41
    },
    {
     "cell_type": "code",
     "collapsed": false,
     "input": [
      "for t in times: print t,"
     ],
     "language": "python",
     "metadata": {},
     "outputs": [
      {
       "output_type": "stream",
       "stream": "stdout",
       "text": [
        "0.0 0.251308900524 0.502617801047 0.753926701571 1.00523560209 1.25654450262 1.50785340314 1.75916230366 2.01047120419 2.26178010471 2.51308900524 2.76439790576 3.01570680628 3.26701570681 3.51832460733 3.76963350785 4.02094240838 4.2722513089 4.52356020942 4.77486910995 5.02617801047 5.27748691099 5.52879581152 5.78010471204 6.03141361257 6.28272251309 6.53403141361 6.78534031414 7.03664921466 7.28795811518 7.53926701571 7.79057591623 8.04188481675 8.29319371728 8.5445026178 8.79581151832 9.04712041885 9.29842931937 9.5497382199 9.80104712042 10.0523560209 10.3036649215 10.554973822 10.8062827225 11.057591623 11.3089005236 11.5602094241 11.8115183246 12.0628272251 12.3141361257 12.5654450262 12.8167539267 13.0680628272 13.3193717277 13.5706806283 13.8219895288 14.0732984293 14.3246073298 14.5759162304 14.8272251309 15.0785340314 15.3298429319 15.5811518325 15.832460733 16.0837696335 16.335078534 16.5863874346 16.8376963351 17.0890052356 17.3403141361 17.5916230366 17.8429319372 18.0942408377 18.3455497382 18.5968586387 18.8481675393 19.0994764398 19.3507853403 19.6020942408 19.8534031414 20.1047120419 20.3560209424 20.6073298429 20.8586387435 21.109947644 21.3612565445 21.612565445 21.8638743455 22.1151832461 22.3664921466 22.6178010471 22.8691099476 23.1204188482 23.3717277487 23.6230366492 23.8743455497 24.1256544503 24.3769633508 24.6282722513 24.8795811518 25.1308900524 25.3821989529 25.6335078534 25.8848167539 26.1361256545 26.387434555 26.6387434555 26.890052356 27.1413612565 27.3926701571 27.6439790576 27.8952879581 28.1465968586 28.3979057592 28.6492146597 28.9005235602 29.1518324607 29.4031413613 29.6544502618 29.9057591623 30.1570680628 30.4083769634 30.6596858639 30.9109947644 31.1623036649 31.4136125654 31.664921466 31.9162303665 32.167539267 32.4188481675 32.6701570681 32.9214659686 33.1727748691 33.4240837696 33.6753926702 33.9267015707 34.1780104712 34.4293193717 34.6806282723 34.9319371728 35.1832460733 35.4345549738 35.6858638743 35.9371727749 36.1884816754 36.4397905759 36.6910994764 36.942408377 37.1937172775 37.445026178 37.6963350785 37.9476439791 38.1989528796 38.4502617801 38.7015706806 38.9528795812 39.2041884817 39.4554973822 39.7068062827 39.9581151832 40.2094240838 40.4607329843 40.7120418848 40.9633507853 41.2146596859 41.4659685864 41.7172774869 41.9685863874 42.219895288 42.4712041885 42.722513089 42.9738219895 43.2251308901 43.4764397906 43.7277486911 43.9790575916 44.2303664921 44.4816753927 44.7329842932 44.9842931937 45.2356020942 45.4869109948 45.7382198953 45.9895287958 46.2408376963 46.4921465969 46.7434554974 46.9947643979 47.2460732984 47.497382199 47.7486910995 48.0\n"
       ]
      }
     ],
     "prompt_number": 36
    },
    {
     "cell_type": "code",
     "collapsed": false,
     "input": [],
     "language": "python",
     "metadata": {},
     "outputs": []
    },
    {
     "cell_type": "code",
     "collapsed": false,
     "input": [
      "time"
     ],
     "language": "python",
     "metadata": {},
     "outputs": [
      {
       "metadata": {},
       "output_type": "pyout",
       "prompt_number": 10,
       "text": [
        "array([], dtype=float64)"
       ]
      }
     ],
     "prompt_number": 10
    },
    {
     "cell_type": "code",
     "collapsed": false,
     "input": [],
     "language": "python",
     "metadata": {},
     "outputs": []
    }
   ],
   "metadata": {}
  }
 ]
}