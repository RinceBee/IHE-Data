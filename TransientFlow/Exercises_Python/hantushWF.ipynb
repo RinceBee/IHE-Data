{
 "metadata": {
  "name": "",
  "signature": "sha256:e6755f0baffcfbb4edf4f03dcdd850900a953ec5e1ff37245cb9c91d2870e76a"
 },
 "nbformat": 3,
 "nbformat_minor": 0,
 "worksheets": [
  {
   "cells": [
    {
     "cell_type": "markdown",
     "metadata": {},
     "source": [
      "# Implementing the Hantush well function in Python\n",
      "Transient solutions, 9 Feb 2015\n",
      "In clas"
     ]
    },
    {
     "cell_type": "code",
     "collapsed": false,
     "input": [
      "import numpy as np\n",
      "import matplotlib as plt"
     ],
     "language": "python",
     "metadata": {},
     "outputs": [],
     "prompt_number": 1
    },
    {
     "cell_type": "code",
     "collapsed": false,
     "input": [
      "rho = 1\n",
      "u   = 1.0\n",
      "\n",
      "def Wh(u,rho):\n",
      "    y   = np.logspace(np.log10(u),20,1000)\n",
      "    #arg = np.exp( -y-((rho/2)**2)/y         )/y\n",
      "    arg = np.exp( -y-(rho**2)/4.0/y         )/y\n",
      "    \n",
      "    #arg = np.exp( -y-1/y*(rho/2)**2 )   /y\n",
      "    dy  = np.diff(y)\n",
      "    return np.sum ((arg[:-1]+arg[1:])*dy/2)\n",
      "\n",
      "print Wh(u,rho)"
     ],
     "language": "python",
     "metadata": {},
     "outputs": [
      {
       "output_type": "stream",
       "stream": "stdout",
       "text": [
        "0.185730807881\n"
       ]
      }
     ],
     "prompt_number": 16
    },
    {
     "cell_type": "code",
     "collapsed": false,
     "input": [
      "kD = 1200\n",
      "Sy = 0.001\n",
      "c  = 1000;\n",
      "lam = np.sqrt(kD*c)\n",
      "Q  = 800 # m3/d\n",
      "r  = 100 # m\n",
      "t  = 1   # d\n",
      "rho = r/lam\n",
      "u   = r**2 * Sy /(4 * kD * t)\n",
      "\n",
      "s = Q/(4 * np.pi * kD) * Wh(u,rho)\n",
      "print s"
     ],
     "language": "python",
     "metadata": {},
     "outputs": [
      {
       "output_type": "stream",
       "stream": "stdout",
       "text": [
        "0.255564280595\n"
       ]
      }
     ],
     "prompt_number": 61
    },
    {
     "cell_type": "code",
     "collapsed": false,
     "input": [],
     "language": "python",
     "metadata": {},
     "outputs": []
    }
   ],
   "metadata": {}
  }
 ]
}