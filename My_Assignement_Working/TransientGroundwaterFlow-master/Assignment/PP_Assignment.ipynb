{
 "cells": [
  {
   "cell_type": "markdown",
   "metadata": {},
   "source": [
    "# Assignment on Transient flow \n",
    "Pranisha Pokhrel \n",
    "\n",
    "1058713 \n",
    "\n",
    "Hydrology and water Resources"
   ]
  },
  {
   "cell_type": "markdown",
   "metadata": {},
   "source": [
    "## Situation of well\n",
    "A large construction is to be realized next to a river that is in direct contact with the aquifer next to it. The building pit measures 50x50 m and river side is at 400 m distance from the river shore.\n",
    "\n",
    "Aquifer properties are given below\n",
    "\n",
    "    kD = 900 m2/d is Transmissivity\n",
    "    S = 0.25 [-] is storativity\n",
    "    \n",
    "Two extraction wells are used at the corners of the building pit.\n",
    "\n",
    "The drawdown everywhere in the building pit must be at least 5 m, to be reached within one month of pumping.\n",
    "\n",
    "The pumping will continue after this month for 5 more months during which the drawdown is to be maintained. However the pumping can be reuced after the first month. Adjust the pumping once per month, such that at the end of each month the darwdown fullfils the requied 5 m.\n",
    "\n",
    "After 6 months, pumping is stopped, so that the water levels can restore"
   ]
  },
  {
   "cell_type": "markdown",
   "metadata": {},
   "source": [
    "The current situation as described by the assignment \n",
    "    ![Situation](situation2019.png)\n",
    "    "
   ]
  },
  {
   "cell_type": "markdown",
   "metadata": {},
   "source": [
    "### 1. On which two corners of the builing pit should you place the two extraction wells to have most effect."
   ]
  },
  {
   "cell_type": "markdown",
   "metadata": {},
   "source": [
    "We know, \n",
    "\n",
    "Theis well drawdown is\n",
    "\n",
    "$$ s = \\frac {Q_0} {4 \\pi kD} W(u) $$\n",
    "\n",
    "where,\n",
    "\n",
    "$$ W(u) = exp1(u)$$\n",
    "\n",
    "the exponential integral, and\n",
    "\n",
    "$$ u = \\frac {r^2 S} { 4 kD t} $$\n",
    "\n",
    "\n",
    "\n",
    "The flow from the drawdown for a well ring with radius $r$ can be calculated by taking derivative with respect to distance which yields:\n",
    "\n",
    "$$ Q_r = Q_0 e^{-u} $$\n",
    "\n",
    "\n",
    "We can see that u is proportional to square of r (distance), with the above formula discharge at distance r diminishes exponentially with distance from the well.\n",
    "\n",
    "Therefore, to have the most effect, the extraction wells should be placed at the two corners of the building pit that are near to the river."
   ]
  },
  {
   "cell_type": "code",
   "execution_count": null,
   "metadata": {},
   "outputs": [],
   "source": []
  },
  {
   "cell_type": "markdown",
   "metadata": {},
   "source": [
    "### 2. Find the most critical point and make sure that the drawdown is as required at that point."
   ]
  },
  {
   "cell_type": "markdown",
   "metadata": {},
   "source": [
    "As well is near a river that is in good contact with the aquifer next to it and we assume that the aquifer extends to infinity for the rest.\n",
    "To understand the well relation to the river which causes constant head in the groundwater, we need a mirror well (injecting well) at the opposite side of river with opposite discharge. Let's aasume a mirror well as shown in figure below.\n",
    "\n"
   ]
  },
  {
   "cell_type": "markdown",
   "metadata": {},
   "source": [
    "##### Figure"
   ]
  },
  {
   "cell_type": "markdown",
   "metadata": {},
   "source": [
    "Assume the river is straight along the y axis, and that the wells which has a constant extraction $Q_0$ starting at $t=0$ are at points: $$A(-400,\\, 50)$$ and $$B(-400,\\, 0)$$ \n",
    "\n",
    "The other two sides of square are: $$C(-450,\\,0)$$ and $$D(-450,\\,50)$$\n",
    "\n",
    "We just place injecting wells with opposite flow at the other side of the river, at points $$A'(400,\\, 50)$$ and $$B'(400,\\, 0 )$$"
   ]
  },
  {
   "cell_type": "code",
   "execution_count": 10,
   "metadata": {},
   "outputs": [
    {
     "name": "stdout",
     "output_type": "stream",
     "text": [
      "In order to maintain the drawdown s= 5.0 m, the extraction rate at: E (-400,25) is QE=4825 m3/day, F(-450,25) is QF= 6604 m3/day, C(-450,0) is QC= 6797 m3/day, D(-450,50) is QD= 6797 m3/day \n"
     ]
    }
   ],
   "source": [
    "import numpy as np \n",
    "import matplotlib.pyplot as plt\n",
    "import scipy.special as sp #theis well function\n",
    "from scipy.special import erfc\n",
    "W= sp.exp1\n",
    "\n",
    "# Aquifer properties\n",
    "kD= 900  #[m2/d] is Transmissivity\n",
    "S= 0.25  # [-] is Storativity\n",
    "xr= 400  #[m] distance from the river\n",
    "l= 50    #[m ]length of square\n",
    "r0= 0.3  #[m] assumed well radius \n",
    "t= 30    # [d] 1 month duration\n",
    "s= 5     # [m] required drawdown\n",
    "\n",
    "#let's find the drawdown at point midpoint of square E(-400,25) and F(-450,250) and\n",
    "#also at the corners of the square distant to the river C(-450,0) and D(-450,50)\n",
    "\n",
    "#Flow QE for drawdown s(5m) at mid-point E(-400,25)\n",
    "rE1 = l/2 #distance from  extration well at A\n",
    "rE2 = l/2 #distance from extration well at B\n",
    "rE3 = np.sqrt ((2*xr)**2+ (l/2)**2) #distance from injection well at A'\n",
    "rE4 = np.sqrt ((2*xr)**2+ (l/2)**2) #distance from injection well at B'\n",
    "\n",
    "uE1 = rE1 ** 2 * S / (4 * kD * t) \n",
    "uE2 = rE2 ** 2 * S / (4 * kD * t)\n",
    "uE3 = rE3 ** 2 * S / (4 * kD * t)\n",
    "uE4 = rE4 ** 2 * S / (4 * kD * t)\n",
    "\n",
    "#Using Superposition,\n",
    "QE = s*(4 * np.pi * kD) / (W(uE1) + W(uE2)- W(uE3)- W(uE4)) # minus injecting wells \n",
    "\n",
    "\n",
    "#Flow QF for drawdown s(5m) at mid-point F(-450,25)\n",
    "rF1 = np.sqrt((l/2)**2 + l**2) #distance from  extration well at A\n",
    "rF2 = np.sqrt((l/2)**2 + l**2) #distance from extration well at B\n",
    "rF3 = np.sqrt ((2*xr+l)**2+ (l/2)**2) #distance from injection well at A'\n",
    "rF4 = np.sqrt ((2*xr+l)**2+ (l/2)**2) #distance from injection well at B'\n",
    "\n",
    "uF1 = rF1 ** 2 * S / (4 * kD * t) \n",
    "uF2 = rF2 ** 2 * S / (4 * kD * t)\n",
    "uF3 = rF3 ** 2 * S / (4 * kD * t)\n",
    "uF4 = rF4 ** 2 * S / (4 * kD * t)\n",
    "\n",
    "#Using Superposition,\n",
    "QF = s*(4 * np.pi * kD) / (W(uF1) + W(uF2)- W(uF3)- W(uF4)) # minus injecting wells \n",
    "\n",
    "\n",
    "#Flow QF for drawdown s(5m) at C(-450,0) \n",
    "rC1 = np.sqrt(l**2 + l**2) #distance from  extration well at A\n",
    "rC2 = l                    #distance from extration well at B\n",
    "rC3 = np.sqrt ((2*xr+l)**2+ l**2) #distance from injection well at A'\n",
    "rC4 = 2*xr+l                      #distance from injection well at B'\n",
    "\n",
    "uC1 = rC1 ** 2 * S / (4 * kD * t) \n",
    "uC2 = rC2 ** 2 * S / (4 * kD * t)\n",
    "uC3 = rC3 ** 2 * S / (4 * kD * t)\n",
    "uC4 = rC4 ** 2 * S / (4 * kD * t)\n",
    "\n",
    "#Using Superposition,\n",
    "QC = s*(4 * np.pi * kD) / (W(uC1) + W(uC2)- W(uC3)- W(uC4)) # minus injecting wells \n",
    "\n",
    "\n",
    "#Flow QF for drawdown s(5m) at D(-450,50) \n",
    "rD1 = l #distance from  extration well at A\n",
    "rD2 = np.sqrt(l**2 + l**2) #distance from extration well at B\n",
    "rD3 = 2*xr+l               #distance from injection well at A'\n",
    "rD4 = np.sqrt ((2*xr+l)**2+ l**2)  #distance from injection well at B'\n",
    "\n",
    "uD1 = rD1 ** 2 * S / (4 * kD * t) \n",
    "uD2 = rD2 ** 2 * S / (4 * kD * t)\n",
    "uD3 = rD3 ** 2 * S / (4 * kD * t)\n",
    "uD4 = rD4 ** 2 * S / (4 * kD * t)\n",
    "\n",
    "#Using Superposition,\n",
    "QD = s*(4 * np.pi * kD) / (W(uD1) + W(uD2)- W(uD3)- W(uD4)) # minus injecting wells \n",
    "\n",
    "\n",
    "\n",
    "print(\"In order to maintain the drawdown s= {:.1f} m, the extraction rate at:\\\n",
    " E (-400,25) is QE={:.0f} m3/day, F(-450,25) is QF= {:.0f} m3/day,\\\n",
    " C(-450,0) is QC= {:.0f} m3/day, D(-450,50) is QD= {:.0f} m3/day \"\\\n",
    ".format (s,QE, QF, QC, QD))\n",
    "\n",
    "\n"
   ]
  },
  {
   "cell_type": "markdown",
   "metadata": {},
   "source": [
    "From the results we can see that the most critical points are $C$ and $D$. In order to maintain the drawdown $ 5 \\,m  $ at C and D, the extraction rate of all the wells should be maintained to  $Q_0$ $ = $ $Q_D$ $ = $ $Q_C$ $= 6797 \\,\\  m^3/day $\n"
   ]
  },
  {
   "cell_type": "markdown",
   "metadata": {},
   "source": [
    "### 3. Show the extraction as a function of time form the start until one year after the stop. Also plot the drawdown at the critical location for this period."
   ]
  },
  {
   "cell_type": "code",
   "execution_count": 12,
   "metadata": {},
   "outputs": [
    {
     "name": "stdout",
     "output_type": "stream",
     "text": [
      "Second month drawdown is s2= 5.57 m for initial extraction rate at Q0= 6797 m3/day \n",
      "5.572015969304188\n"
     ]
    }
   ],
   "source": [
    "#2nd month drawdown S2 at edge D(-450,50) of the building pit which is the critical point\n",
    "t2 = 60 #[days]\n",
    "rD1 = l #distance from  extration well at A\n",
    "rD2 = np.sqrt(l**2 + l**2) #distance from extration well at B\n",
    "rD3 = 2*xr+l               #distance from injection well at A'\n",
    "rD4 = np.sqrt ((2*xr+l)**2+ l**2)  #distance from injection well at B'\n",
    "\n",
    "uD1 = rD1 ** 2 * S / (4 * kD * t2) \n",
    "uD2 = rD2 ** 2 * S / (4 * kD * t2)\n",
    "uD3 = rD3 ** 2 * S / (4 * kD * t2)\n",
    "uD4 = rD4 ** 2 * S / (4 * kD * t2)\n",
    "\n",
    "#Using Superposition,\n",
    "s2 = QD/(4 * np.pi * kD) * (W(uD1) + W(uD2)- W(uD3)- W(uD4)) # minus injecting wells \n",
    "\n",
    "print(\"Second month drawdown is s2= {:.2f} m for initial extraction rate at Q0= {:.0f} m3/day \"\\\n",
    ".format (s2,QD))\n",
    "print(s2)"
   ]
  },
  {
   "cell_type": "markdown",
   "metadata": {},
   "source": [
    "We can see that, if we continue the pumping at same rate $Q_0 \\,\\ (6797 \\,\\ m^3/day)$, the drawdown even in the critical point is going to be $ 5.6 \\,\\  meters $ for the second month. Therefore, drawdown 's' must be adjusted for each month so that drawdown fulfills the required $5 \\,\\ meters$ and not be overpumped at the same time.\n"
   ]
  },
  {
   "cell_type": "code",
   "execution_count": 17,
   "metadata": {},
   "outputs": [
    {
     "name": "stdout",
     "output_type": "stream",
     "text": [
      "In order to maintain the drawdown s= 5.0 m, the extraction rate for second month should be Q2 = 6020 m3/day\n"
     ]
    }
   ],
   "source": [
    "# for compensating the excess drawdown, extraction rate must be changed to Q2 for second month\n",
    "sexcess= s2-s\n",
    "tt=30\n",
    "uD1 = rD1 ** 2 * S / (4 * kD * tt) \n",
    "uD2 = rD2 ** 2 * S / (4 * kD * tt)\n",
    "uD3 = rD3 ** 2 * S / (4 * kD * tt)\n",
    "uD4 = rD4 ** 2 * S / (4 * kD * tt)\n",
    "\n",
    "\n",
    "#Using Superposition,\n",
    "Qexcess =sexcess*(4 * np.pi * kD) / (W(uD1) + W(uD2)- W(uD3)- W(uD4)) # minus injecting wells\n",
    "\n",
    "Q2= QD-Qexcess\n",
    "\n",
    "print(\"In order to maintain the drawdown s= {:.1f} m, the extraction rate for second month should be Q2 = {:.0f} m3/day\"\\\n",
    ".format (s,QD-Qexcess))\n",
    "\n"
   ]
  },
  {
   "cell_type": "markdown",
   "metadata": {},
   "source": [
    "#### Extraction as the function of time (Take to loop)"
   ]
  },
  {
   "cell_type": "code",
   "execution_count": 14,
   "metadata": {},
   "outputs": [
    {
     "name": "stdout",
     "output_type": "stream",
     "text": [
      "50 70.71 850 851.47\n",
      "[6797.2899837977475, 6099.488965253778, 5847.552517815787, 5717.777449777796, 5638.685282602624, 5585.445677855919]\n",
      "[4.999999999999999, 5.0, 5.0, 5.0, 5.0, 5.0]\n",
      "[30, 60, 90, 120, 150, 180]\n"
     ]
    },
    {
     "data": {
      "text/plain": [
       "<matplotlib.legend.Legend at 0x959c9b0>"
      ]
     },
     "execution_count": 14,
     "metadata": {},
     "output_type": "execute_result"
    },
    {
     "data": {
      "image/png": "[encoded data removed]",
      "text/plain": [
       "<Figure size 720x288 with 1 Axes>"
      ]
     },
     "metadata": {
      "needs_background": "light"
     },
     "output_type": "display_data"
    }
   ],
   "source": [
    "#2nd month drawdown S2 at edge D(-450,50) of the building pit which is the critical point\n",
    "#s= 5 #[m] required drawdown\n",
    "#rD1 = l #distance from  extration well at A\n",
    "#rD2 = np.sqrt(l**2 + l**2) #distance from extration well at B\n",
    "#rD3 = 2*xr+l #distance from injection well at A'\n",
    "#rD4 = np.sqrt ((2*xr+l)**2+ l**2) #distance from injection well at B'\n",
    "\n",
    "#print(round(rD1,2),round(rD2,2), round(rD3,2), round(rD4,2))\n",
    "#if the discharge of previous month is continued for next month also i.e. 60 days\n",
    "#month= np.array([0,1,2,3,4,5])\n",
    "#discharge= np.array([0,1,2,3,4,5])\n",
    "\n",
    "#for n, Qd in zip(month, discharge):\n",
    "    #Qd= QD #[m3/day]\n",
    "    #Qd = np.zeros_like(month)\n",
    "    #time = 60 #[days]\n",
    "    #uD1 = rD1 ** 2 * S / (4 * kD * time) \n",
    "   # uD2 = rD2 ** 2 * S / (4 * kD * time)\n",
    "    #uD3 = rD3 ** 2 * S / (4 * kD * time)\n",
    "   # uD4 = rD4 ** 2 * S / (4 * kD * time)\n",
    "    #Using Superposition,\n",
    "   # sd = Qd/(4 * np.pi * kD) * (W(uD1) + W(uD2)- W(uD3)- W(uD4)) # minus injecting wells \n",
    "   # sexcess= sd-s\n",
    "   # print(\"Drawdown at month {:.0f} is s= {:.2f} m for extraction rate at Q= {:.0f} m3/day \"\\\n",
    "   # .format (n,sd,Qd))\n",
    "    \n",
    "    # for compensating the excess drawdown, extraction rate must be changed for next month\n",
    "    #tt=30\n",
    "   #uD1 = rD1 ** 2 * S / (4 * kD * tt) \n",
    "   # uD2 = rD2 ** 2 * S / (4 * kD * tt)\n",
    "   # uD3 = rD3 ** 2 * S / (4 * kD * tt)\n",
    "   # uD4 = rD4 ** 2 * S / (4 * kD * tt)\n",
    "    \n",
    "    #Using Superposition,\n",
    " #   Qexcess =sexcess*(4 * np.pi * kD) / (W(uD1) + W(uD2)- W(uD3)- W(uD4)) # minus injecting wells\n",
    "   # Qnew= Qd-Qexcess\n",
    "   # n += n\n",
    "  #  Qd =Qnew\n",
    "  #  print(\"In order to maintain the drawdown s= {:.1f} m, the extraction rate for month {:.0f} should be Q = {:.0f} m3/day\"\\\n",
    "  #  .format (s,n, Qnew))\n",
    "#\n",
    "import numpy as np \n",
    "import matplotlib.pyplot as plt\n",
    "import scipy.special as sp #theis well function\n",
    "from scipy.special import erfc\n",
    "W= sp.exp1\n",
    "\n",
    "# Aquifer properties\n",
    "kD= 900  #[m2/d] is Transmissivity\n",
    "S= 0.25  # [-] is Storativity\n",
    "xr= 400  #[m] distance from the river\n",
    "l= 50    #[m ]length of square\n",
    "r0= 0.3  #[m] assumed well radius \n",
    "#t= 30    # [d] 1 month duration\n",
    "s= 5     # [m] required drawdown\n",
    "\n",
    "#Using Superposition,\n",
    "#Flow QF for drawdown s(5m) at D(-450,50) \n",
    "rD1 = l #distance from  extration well at A\n",
    "rD2 = np.sqrt(l**2 + l**2) #distance from extration well at B\n",
    "rD3 = 2*xr+l               #distance from injection well at A'\n",
    "rD4 = np.sqrt ((2*xr+l)**2+ l**2)  #distance from injection well at B'\n",
    "print(round(rD1,2),round(rD2,2), round(rD3,2), round(rD4,2))\n",
    "#uD1 = rD1 ** 2 * S / (4 * kD * t) \n",
    "#uD2 = rD2 ** 2 * S / (4 * kD * t)\n",
    "#uD3 = rD3 ** 2 * S / (4 * kD * t)\n",
    "#uD4 = rD4 ** 2 * S / (4 * kD * t)\n",
    "\n",
    "Qd =[]\n",
    "time = []\n",
    "draw_down = []\n",
    "days = [30,60,90,120,150,180]\n",
    "for t in days:\n",
    "    \n",
    "    uD1 = rD1 ** 2 * S / (4 * kD * t) \n",
    "    uD2 = rD2 ** 2 * S / (4 * kD * t)\n",
    "    uD3 = rD3 ** 2 * S / (4 * kD * t)\n",
    "    uD4 = rD4 ** 2 * S / (4 * kD * t)\n",
    "    \n",
    "    QD1 = s*(4 * np.pi * kD) / (W(uD1) + W(uD2)- W(uD3)- W(uD4))\n",
    "                    \n",
    "    sd =(QD1/(4 * np.pi * kD)) * (W(uD1) + W(uD2)- W(uD3)- W(uD4))\n",
    "    s = sd\n",
    "    t = t \n",
    "    Qd.append(QD1)\n",
    "    time.append(t)\n",
    "    draw_down.append(s)\n",
    "\n",
    "print (Qd)\n",
    "print (draw_down)\n",
    "print(time)\n",
    "        \n",
    "#plotting the curves\n",
    "plt.figure(figsize=[10,4])\n",
    "\n",
    "plt.plot(time, Qd, linestyle='--', linewidth=1.80, marker='.', color='b', label='Draw_down_Curve')\n",
    "plt.plot(time, draw_down, linestyle='--', linewidth=1.80, marker='.', color='b', label='Draw_down_Curve')\n",
    "\n",
    "plt.grid(color='m', linestyle='-.', linewidth=0.8)\n",
    "plt.title('$Drawdown$ $Vsr$ $Time$')\n",
    "plt.xlabel(\"Time_in_Days\")\n",
    "plt.ylabel(\"Discharge_m3/s\")\n",
    "plt.legend(loc = 3) \n",
    "    \n",
    "    \n",
    "\n",
    "\n",
    "\n",
    "\n"
   ]
  },
  {
   "cell_type": "markdown",
   "metadata": {},
   "source": [
    "#### The drawdown at the critical location for these period (from start of the wells until 1 year after end of the extraction)\n",
    "(write formula )"
   ]
  },
  {
   "cell_type": "code",
   "execution_count": 18,
   "metadata": {},
   "outputs": [
    {
     "data": {
      "image/png": "[encoded data removed]",
      "text/plain": [
       "<Figure size 432x288 with 1 Axes>"
      ]
     },
     "metadata": {
      "needs_background": "light"
     },
     "output_type": "display_data"
    },
    {
     "data": {
      "image/png": "[encoded data removed]",
      "text/plain": [
       "<Figure size 432x288 with 2 Axes>"
      ]
     },
     "metadata": {
      "needs_background": "light"
     },
     "output_type": "display_data"
    }
   ],
   "source": [
    "Q   = np.array([6797.28, 6099.48, 5847.55, 5717.77, 5638.68, 5585.44, 0]) #discharge rate for different months\n",
    "times = np.array([0,30,60,90,120,150,180]) #time in days when the extraction rate is changed\n",
    "\n",
    "ty = np.linspace (0, 180, 181) + 0.00001 #1.5 year is nearly 540 days # 0.00001  to prevent division by zero.\n",
    "dQ = np.hstack((Q[0],np.diff(Q))) #Theis drawdown to compute drawdown at any moment\n",
    "\n",
    "#aquifer properties as defined above\n",
    "kD = 900 # [m2/day]\n",
    "S = 0.25 # [-]\n",
    "\n",
    "sy = np.zeros_like(ty) #drawdown when extraction is changed which is set to zero at first\n",
    "\n",
    "for te, da in zip(times, dQ) :\n",
    "    uD1 = rD1 ** 2 * S / (4 * kD * (ty[ty>=te]-te))\n",
    "    uD2 = rD2 ** 2 * S / (4 * kD * (ty[ty>=te]-te))\n",
    "    uD3 = rD3 ** 2 * S / (4 * kD * (ty[ty>=te]-te))\n",
    "    uD4 = rD4 ** 2 * S / (4 * kD * (ty[ty>=te]-te)) \n",
    "    \n",
    "    ds = np.zeros_like(ty) #setting initial values to zero\n",
    "    ds[ty>=te] = -da / (4 * np.pi *kD) * (W(uD1) + W(uD2)- W(uD3)- W(uD4)) # filling the values for which t>=tt\n",
    "       \n",
    "    sy = sy + ds # add change due to this stage to total drawdown\n",
    "    plt.plot(ty,ds)\n",
    "plt.plot(ty, sy, lw=3, label='total drawdown')\n",
    "    \n",
    "a = np.zeros_like(ty)  # initially zero\n",
    "for aa, te in zip(Q, times):\n",
    "    a[ty>=te] = aa\n",
    "\n",
    "#Plotting s and Q vs t in same graph\n",
    "\n",
    "fig, ax = plt.subplots()  \n",
    "color = 'tab:red'\n",
    "ax.set_xlabel('time (days)')\n",
    "ax.set_ylabel('drawdown', color=color)\n",
    "ax.plot(ty, sy, linewidth=3, label='total drawdown',color=color)\n",
    "ax.tick_params(axis='y', labelcolor=color)\n",
    "\n",
    "ay = ax.twinx()  # instantiate a second axes that shares the same x-axis\n",
    "\n",
    "color = 'tab:blue'\n",
    "ay.set_ylabel('Extraction rate', color=color)  # we already handled the x-label with ax1\n",
    "ay.plot(ty, a, 'k', label='Extration rate', color=color)\n",
    "ay.tick_params(axis='y', labelcolor=color)\n",
    "\n",
    "fig.tight_layout()  # otherwise the right y-label is slightly clipped\n",
    "plt.grid()\n",
    "plt.legend()\n",
    "plt.show()"
   ]
  },
  {
   "cell_type": "code",
   "execution_count": 8,
   "metadata": {},
   "outputs": [
    {
     "data": {
      "image/png": "[encoded data removed]",
      "text/plain": [
       "<Figure size 432x288 with 1 Axes>"
      ]
     },
     "metadata": {
      "needs_background": "light"
     },
     "output_type": "display_data"
    }
   ],
   "source": [
    "#Drawdown curve at many observation point through C ( a critical point)\n",
    "\n",
    "# Aquifer properties\n",
    "kD= 900  #[m2/d] is Transmissivity\n",
    "S= 0.25  # [-] is Storativity\n",
    "xr= 400  #[m] distance from the river\n",
    "l= 50    #[m ]length of square\n",
    "r0= 0.3  #[m] assumed well radius \n",
    "t= 30    # [d] 1 month duration\n",
    "s= 5     # [m] required drawdown\n",
    "\n",
    "x=np.linspace((-2)*(l+xr),2*(l+xr),901)\n",
    "y  = np.zeros_like(x)\n",
    "\n",
    "x1, y1 = -xr, 0  # location of extraction well 1 at B\n",
    "x2, y2 = -xr, 50 # location of extraction well 2 at A\n",
    "x3, y3 = +xr, 0  # location of mirror well 1 at B'\n",
    "x4, y4 = +xr, 50  # location of mirror well 2 A'\n",
    "\n",
    "#Taking critical point C(-450,0) \n",
    "rC1 = np.sqrt(((x1-x)**2)+((y1-0)**2)) #distance from  extration well at A\n",
    "rC2 = np.sqrt(((x2-x)**2)+((y2-0)**2)) #distance from extration well at B\n",
    "rC3 = np.sqrt(((x3-x)**2)+((y3-0)**2)) #distance from injection well at A'\n",
    "rC4 = np.sqrt(((x4-x)**2)+((y4-0)**2)) #distance from injection well at B'\n",
    "\n",
    "uC1 = rC1 ** 2 * S / (4 * kD * t) \n",
    "uC2 = rC2 ** 2 * S / (4 * kD * t)\n",
    "uC3 = rC3 ** 2 * S / (4 * kD * t)\n",
    "uC4 = rC4 ** 2 * S / (4 * kD * t)\n",
    "\n",
    "#Using Superposition,\n",
    "sc = QC /(4 * np.pi * kD)* (W(uC1) + W(uC2)- W(uC3)- W(uC4)) # minus injecting wells \n",
    "\n",
    "\n",
    "plt.title('Figure 3. Drawdown along a line through the critical point and its mirror.')\n",
    "plt.xlabel('x [m], y=0')\n",
    "plt.ylabel('s [m]')\n",
    "plt.grid()\n",
    "plt.plot(x, sc,\"g-\", label=\"Drawdown curve\")\n",
    "plt.plot(-450,0,'ro', label=\"Location of critical point\") #critical point\n",
    "plt.plot([0,0],[-10,10],'b--',lw=4, label=\"River\" )\n",
    "plt.ylim(10, -10) # invert the direction of the y-axis\n",
    "plt.legend()\n",
    "\n",
    "plt.show()"
   ]
  },
  {
   "cell_type": "markdown",
   "metadata": {},
   "source": [
    "###  4. Compute as a function of time the flow from the river into the groundwater system. It is assumed that the groundwater head is initially uniform and equal to the river stage (water level in the river). Do this for the averate flow during the 6 month of building pit operation (ignore the variation in the extraction for simplicity)."
   ]
  },
  {
   "cell_type": "code",
   "execution_count": 10,
   "metadata": {},
   "outputs": [
    {
     "name": "stdout",
     "output_type": "stream",
     "text": [
      "6797.2899837977475\n"
     ]
    },
    {
     "data": {
      "image/png": "[encoded data removed]",
      "text/plain": [
       "<Figure size 432x288 with 1 Axes>"
      ]
     },
     "metadata": {
      "needs_background": "light"
     },
     "output_type": "display_data"
    }
   ],
   "source": [
    "# We know from above that \n",
    "Q= QD #initial extraction rate assuming that there is no variation in extraction\n",
    "T= 180 #[days] 6 months of building pit operation\n",
    "xr= 400 #[meters] distance of wells to river shore\n",
    "print(QD)\n",
    "\n",
    "x1, y1 = -xr, 0  # location of extraction well 1 at B\n",
    "x2, y2 = -xr, 50 # location of extraction well 2 at A\n",
    "x3, y3 = +xr, 0  # location of mirror well 1 at B'\n",
    "x4, y4 = +xr, 50  # location of mirror well 2 A\n",
    "\n",
    "y = np.linspace(-2500,2500,2000)+0.00001\n",
    "x  = np.zeros_like(y)\n",
    "\n",
    "r1 = np.sqrt(((x1-x)**2)+((y1-y)**2)) #distance from  extration well at A\n",
    "r2 = np.sqrt(((x2-x)**2)+((y2-y)**2)) #distance from extration well at B\n",
    "r3 = np.sqrt(((x3-x)**2)+((y3-y)**2)) #distance from injection well at A'\n",
    "r4 = np.sqrt(((x4-x)**2)+((y4-y)**2)) #distance from injection well at B'\n",
    "\n",
    "u1 = r1 ** 2 * S / (4 * kD * t) \n",
    "u2 = r2 ** 2 * S / (4 * kD * t)\n",
    "u3 = r3 ** 2 * S / (4 * kD * t)\n",
    "u4 = r4 ** 2 * S / (4 * kD * t)\n",
    "\n",
    "qr1= +Q/ (2* np.pi* r1)* np.exp(-u1)\n",
    "qr2= +Q/ (2* np.pi* r2)* np.exp(-u2)\n",
    "qr3= -Q/ (2* np.pi* r3)* np.exp(-u3)\n",
    "qr4= -Q/ (2* np.pi* r4)* np.exp(-u4)\n",
    "\n",
    "alpha1= np.arctan2((y-y1),(x-x1))\n",
    "alpha2= np.arctan2((y-y2),(x-x2))\n",
    "alpha3= np.arctan2((y-y3),(x-x3))\n",
    "alpha4= np.arctan2((y-y4),(x-x4))\n",
    "\n",
    "#the flow perpendicular to the shore is \n",
    "qpx1= qr1*np.cos(alpha1)+qr2* np.cos(alpha2)+ qr3* np.cos(alpha3)+ qr4* np.cos(alpha4)\n",
    "qin =qpx1\n",
    "\n",
    "plt.title('Inflow towards the well from the river')\n",
    "plt.xlabel('y [m]')\n",
    "plt.ylabel('inflow m2/d')\n",
    "plt.grid()\n",
    "plt.plot(y, qin, \"r-\", label= \"Inflow\")\n",
    "plt.plot([0,0],[9,0], \"b--\",lw=4, label=\"River\")\n",
    "plt.legend()\n",
    "plt.show()\n",
    "\n",
    "\n"
   ]
  },
  {
   "cell_type": "markdown",
   "metadata": {},
   "source": [
    "### 5. After exactly 3 months, the water level in the river rises suddenly by 1 m and stays so during one month, after which it suddenly returns to its original level.  To what extent does this wave affect the water level in the building pit if no measure is taken?What must be the extraction during this month to guarantee that the building pit fulfills the required 5 m drawdown relative to the original water level? If both effects do not overlap, say so, and explain what you could to as building-pit owner to better counteract the effect of the wave  in the river stage on the head below the building pit."
   ]
  },
  {
   "cell_type": "code",
   "execution_count": null,
   "metadata": {},
   "outputs": [],
   "source": []
  }
 ],
 "metadata": {
  "kernelspec": {
   "display_name": "Python 3",
   "language": "python",
   "name": "python3"
  },
  "language_info": {
   "codemirror_mode": {
    "name": "ipython",
    "version": 3
   },
   "file_extension": ".py",
   "mimetype": "text/x-python",
   "name": "python",
   "nbconvert_exporter": "python",
   "pygments_lexer": "ipython3",
   "version": "3.7.0"
  }
 },
 "nbformat": 4,
 "nbformat_minor": 2
}
