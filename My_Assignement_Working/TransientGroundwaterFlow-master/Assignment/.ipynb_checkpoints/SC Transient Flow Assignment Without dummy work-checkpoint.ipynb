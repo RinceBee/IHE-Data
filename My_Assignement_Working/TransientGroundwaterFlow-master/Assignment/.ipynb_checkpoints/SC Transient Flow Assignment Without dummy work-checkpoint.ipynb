{
 "cells": [
  {
   "cell_type": "markdown",
   "metadata": {},
   "source": [
    "# Transient Flow Assignment #"
   ]
  },
  {
   "cell_type": "markdown",
   "metadata": {},
   "source": [
    "## Scenario ##\n",
    "A large construction is to be realized next to a river that is in direct contact with the aquifer next to it. The building pit measures 50x50 m and river side is at 400 m distance from the river shore.\n",
    "\n",
    "Transmissivity and storage coefficient are given.\n",
    "\n",
    "  $$  kD = 900 \\,m^2d^{-1} $$\n",
    "   $$ S = 0.25 \\,[-] $$\n",
    "    \n",
    "Two extraction wells are used at the corners of the building pit.\n",
    "\n",
    "The drawdown everywhere in the building pit must be at least 5 m, to be reached within one month of pumping.\n",
    "\n",
    "The pumping will continue after this month for 5 more months during which the drawdown is to be maintained. However the pumping can be reduced after the first month. Adjust the pumping once per month, such that at the end of each month the drawdown fullfils the requied 5 m.\n",
    "\n",
    "After 6 months, pumping is stopped, so that the water levels can restore."
   ]
  },
  {
   "cell_type": "markdown",
   "metadata": {},
   "source": [
    "## Setup the situation, define the wells and observation point"
   ]
  },
  {
   "cell_type": "markdown",
   "metadata": {},
   "source": [
    "$ Question: a) $ On which two corners of the builing pit should you place the two extraction wells to have most effect. "
   ]
  },
  {
   "cell_type": "markdown",
   "metadata": {},
   "source": [
    "$ Answer: $ Wells should be placed on the two corners nearest the river to counteract the effects of the recharge coming in from being in direct contact with the river."
   ]
  },
  {
   "cell_type": "markdown",
   "metadata": {},
   "source": [
    "$ Question: b) $ Find the most critical (observation) point and make sure that the drawdown is as required at that point."
   ]
  },
  {
   "cell_type": "markdown",
   "metadata": {},
   "source": [
    "$ Answer: $ Due to the inverse relation between drawdown, s and radial distance, the critical (observation) point for this pit was used as the top left corner of the building pit. \n",
    "\n",
    "The rationale behind this was using the calculation of net drawdown due to extraction using two points along the far side (from the river of the pit).\n",
    "\n",
    "#### Point 1, midway between the far corners of the building pit: ####\n",
    "$$ r_1 = r_2 $$\n",
    "$$ \\therefore r_1 + r_2 = 2 * \\sqrt {50^2 + 25^2} = 111. 80 m $$\n",
    "\n",
    "#### Point 2, at far corners of the building pit: ####\n",
    "$$ r_1 = 50m r_2 = \\sqrt {50^2 + 50^2}$$\n",
    "$$ \\therefore r_1 + r_2 = 50 m + \\sqrt {50^2 + 50^2} = 120. 71 $$"
   ]
  },
  {
   "cell_type": "markdown",
   "metadata": {},
   "source": [
    "To simulate the scenario river mirror wells are placed at the opposite side of the river, with opposite flow. This is done using the river as the mirror.\n",
    "\n",
    "The Theis well drawdown is\n",
    "\n",
    "$$ s = \\frac {Q_0} {4 \\pi kD} W(u) $$\n",
    "\n",
    "where\n",
    "\n",
    "$$ W(u) = exp1(u)$$\n",
    "\n",
    "the exponential integral, and\n",
    "\n",
    "$$ u = \\frac {r^2 S} { 4 kD t} $$\n",
    "\n",
    "as drawdown, s is known, rearranging for Q gives:\n",
    "\n",
    "$$ {Q_0} = \\frac {4 \\pi kD s} {W(u)} $$ \n",
    "\n",
    "The river is assumed to be straight along the y axis, and that the wells are at points ($-a,\\, 0$) and ($-a,\\, b$) and with known drawdown of $s=5$ m at critical point at time $t=30$ days. The mirror wells with opposite flow is at location ($+a,\\, 0$) and ($+a,\\, b$).\n",
    "\n",
    "$$ Thus, \\, {Q_0} = \\frac {4 \\pi kD s} {W(u1) + W(u2) - W(u3) - W(u4)} $$"
   ]
  },
  {
   "cell_type": "code",
   "execution_count": 1,
   "metadata": {},
   "outputs": [],
   "source": [
    "import numpy as np\n",
    "import scipy.special as sp\n",
    "import matplotlib.pyplot as plt\n",
    "from scipy.special import exp1 # Theis well function\n",
    "from scipy.special import erfc\n",
    "W = sp.exp1"
   ]
  },
  {
   "cell_type": "markdown",
   "metadata": {},
   "source": [
    "## Calculating pumping rate ##"
   ]
  },
  {
   "cell_type": "code",
   "execution_count": 2,
   "metadata": {},
   "outputs": [
    {
     "name": "stdout",
     "output_type": "stream",
     "text": [
      "The pumping rate, Q at x0=450.0, y0=50.0 at t=30.00 d with s =5.00 m equals  Qo =-6797.29 m^3/d\n"
     ]
    }
   ],
   "source": [
    "kD = 900 #m2/d\n",
    "S = 0.25 # [-]\n",
    "t = 30.0 #days\n",
    "a = 400 # m, distance from river to well\n",
    "b = 50 # m, length of side\n",
    "s = 5 # m, drawdown at critical point\n",
    "\n",
    "# the locations of wells, mirror wells and observation points\n",
    "x1, y1 = -a, 0 # location of extraction well 1 \n",
    "x2, y2 = -a, b # location of extraction well 2\n",
    "x3, y3 = +a, 0  # location of mirror well 1\n",
    "x4, y4 = +a, b  # location of mirror well 2\n",
    "x0, y0 = (a + b), b  # location of observation point (top left corner of pit)\n",
    "\n",
    "r1 = np.sqrt((x1 - x0)**2 + (y1 - y0)**2)\n",
    "r2 = np.sqrt((x2 - x0)**2 + (y2 - y0)**2)\n",
    "r3 = np.sqrt((x3 - x0)**2 + (y3 - y0)**2)\n",
    "r4 = np.sqrt((x4 - x0)**2 + (y4 - y0)**2)\n",
    "\n",
    "u1 = r1 ** 2 * S / (4 * kD * t)\n",
    "u2 = r2 ** 2 * S / (4 * kD * t)\n",
    "u3 = r3 ** 2 * S / (4 * kD * t)\n",
    "u4 = r4 ** 2 * S / (4 * kD * t)\n",
    "\n",
    "# Pumping rate\n",
    "Q = 4 * np.pi * kD * s / (W(u1) + W(u2) - W(u3) - W(u4)) \n",
    "\n",
    "print(\"The pumping rate, Q at x0={:.1f}, y0={:.1f} at t={:.2f} d with s ={:.2f} m equals  Qo ={:.2f} m^3/d\"\\\n",
    "      .format(x0, y0, t, s, Q))                       "
   ]
  },
  {
   "cell_type": "code",
   "execution_count": null,
   "metadata": {},
   "outputs": [],
   "source": []
  },
  {
   "cell_type": "markdown",
   "metadata": {},
   "source": [
    "### Drawdown threshold and new pumping rate to apply during month ###"
   ]
  },
  {
   "cell_type": "markdown",
   "metadata": {},
   "source": [
    "The pumping rate, $Q_0$ to maintain 5m at the critical point is 6797.29 $m^{3}/d$ "
   ]
  },
  {
   "cell_type": "markdown",
   "metadata": {},
   "source": [
    "To find pumping rate for monthly change in drawdown rate a threshold value of 5.25m is set at maximum drawdown, s at critical point. A drawdown value of $5.24\\, m$ was calculated $9 \\,days$ into the following month with a pumping rate $Q_0 = 6797.29 m^3/d$."
   ]
  },
  {
   "cell_type": "code",
   "execution_count": 3,
   "metadata": {},
   "outputs": [
    {
     "name": "stdout",
     "output_type": "stream",
     "text": [
      "The ddn s at x0=450.0, y0=50.0 at t=39.00 d with Q=6800 m3/d equals -5.24 m\n"
     ]
    }
   ],
   "source": [
    "kD = 900 # m2/d\n",
    "S = 0.25 # [-]\n",
    "x0 = 450 # m # distance from river\n",
    "Q = 6800 # m3/d, extraction of the real well\n",
    "#r0 = 0.25 # well radius\n",
    "t = 39.0 # d\n",
    "a = 400 # m distance between well and river shore\n",
    "\n",
    "# locations of well, mirror well an observation points\n",
    "x1, y1 = -a, 0.  # location of extraction well\n",
    "x2, y2 = +a, 0.  # location of mirror well\n",
    "x3, y3 = -a, 50.\n",
    "x4, y4 = +a, 50\n",
    "x0, y0 = 450., 50.  # location of observation point\n",
    "\n",
    "r1 = np.sqrt((x1 - x0)**2 + (y1 - y0)**2)\n",
    "r2 = np.sqrt((x2 - x0)**2 + (y2 - y0)**2)\n",
    "r3 = np.sqrt((x3 - x0)**2 + (y3 - y0)**2)\n",
    "r4 = np.sqrt((x4 - x0)**2 + (y4 - y0)**2)\n",
    "\n",
    "u1 = r1 ** 2 * S / (4 * kD * t)\n",
    "u2 = r2 ** 2 * S / (4 * kD * t)\n",
    "u3 = r3 ** 2 * S / (4 * kD * t)\n",
    "u4 = r4 ** 2 * S / (4 * kD * t)\n",
    "\n",
    "# drawdown\n",
    "s = Q /(4 * np.pi * kD) * (W(u1) - W(u2) + W(u3) - W(u4)) # minus because mirror well has opposite Q\n",
    "\n",
    "print(\"The ddn s at x0={:.1f}, y0={:.1f} at t={:.2f} d with Q={:.0f} m3/d equals {:.2f} m\"\\\n",
    "      .format(x0, y0, t, Q, s))"
   ]
  },
  {
   "cell_type": "code",
   "execution_count": 4,
   "metadata": {},
   "outputs": [
    {
     "data": {
      "image/png": "[encoded data removed]",
      "text/plain": [
       "<Figure size 432x288 with 1 Axes>"
      ]
     },
     "metadata": {
      "needs_background": "light"
     },
     "output_type": "display_data"
    }
   ],
   "source": [
    "#flow direction\n",
    "Q0 = 6800 # m3/d Well\n",
    "x0, y0 = 0., 0.  # the location of the well\n",
    "\n",
    "# The random observation points\n",
    "a = 50 # m  a length to scale randomly chosen points\n",
    "x = a * (np.random.randn(25) - 0.5)  # choose 25 random values\n",
    "y = a * (np.random.randn(25) - 0.5)  # same\n",
    "\n",
    "# Distance from each point to the well\n",
    "r = np.sqrt((x-x0)**2 + (y-y0)**2)\n",
    "\n",
    "# u\n",
    "u = r**2 * S /(4 * kD * t)\n",
    "\n",
    "# the specific discharge\n",
    "q = Q0 / (2 * np.pi * r) * np.exp(-u) # m2/d\n",
    "alpha = np.arctan2(y - y0, x- x0) # angle between vector and horizontal\n",
    "qx = q * np.cos(alpha)   # x component of specific discharge\n",
    "qy = q * np.sin(alpha)   # y component of specific discharge\n",
    "\n",
    "scale = 2.0 # scale factor to plot specific discharge vectors\n",
    "\n",
    "# plot the location of the well as  black ('k') circle ('o') of size 8\n",
    "plt.plot(x0, y0, 'ko', markersize=8)\n",
    "\n",
    "# in a loop, plot one vector after another\n",
    "for xx, yy, qxx, qyy in zip(x, y, qx, qy):\n",
    "    plt.plot(x, y, 'o', markersize=4)    # plot marker at obs. point\n",
    "    plt.plot([x, x - scale * qx], [y, y - scale * qy]) # plot vector\n",
    "\n",
    "# embelishment of the plot\n",
    "plt.title('Specific discharge vectors due to well at x0={:.1f}, y0={:.1f}'\\\n",
    "         .format(x0, y0))\n",
    "plt.xlabel('x [m]')\n",
    "plt.ylabel('y [m]')\n",
    "plt.grid()\n",
    "\n",
    "# show it all\n",
    "plt.show()"
   ]
  },
  {
   "cell_type": "code",
   "execution_count": 5,
   "metadata": {},
   "outputs": [
    {
     "name": "stdout",
     "output_type": "stream",
     "text": [
      "\n",
      "Tsw[d]    Qsw\n",
      "    30   6800\n",
      "    60 -13600\n",
      "    90  13600\n",
      "   120 -13600\n",
      "   150  13600\n",
      "   180 -13600\n",
      "   210  13600\n",
      "   240 -13600\n",
      "   270  13600\n",
      "   300 -13600\n",
      "   330  13600\n",
      "   360 -13600\n",
      "   390  13600\n",
      "   420 -13600\n",
      "   450  13600\n",
      "   480 -13600\n",
      "   510  13600\n"
     ]
    }
   ],
   "source": [
    "Q0 = 6800 # m3/d\n",
    "kD = 900 # m2/d\n",
    "S  = 0.25 # [-]\n",
    "\n",
    "# all variable that are constant in time:\n",
    "\n",
    "b = 400 # m, distance of well to river shore\n",
    "x1, y1 = -b, 0 # location of well\n",
    "x2, y2 = +b, 0 # location of mirror well\n",
    "x3, y3 = -b, 50\n",
    "x4, y4 = +b, 50\n",
    "\n",
    "# all parameters that are constant in time \n",
    "y = np.linspace(-1000, 1000, 81)\n",
    "x = np.zeros_like(y)\n",
    "\n",
    "dy = y[1:] - y[:-1]\n",
    "\n",
    "r1 = np.sqrt((x - x1) ** 2 + (y - y1) ** 2)\n",
    "r2 = np.sqrt((x - x2) ** 2 + (y - y2) ** 2)\n",
    "r3 = np.sqrt((x - x3) ** 2 + (y - y3) ** 2)\n",
    "r4 = np.sqrt((x - x4) ** 2 + (y - y4) ** 2)\n",
    "\n",
    "alpha1 = np.arctan2(y, x - x1)\n",
    "alpha2 = np.arctan2(y, x - x2)\n",
    "alpha3 = np.arctan2(y, x - x3)\n",
    "alpha4 = np.arctan2(y, x - x4)\n",
    "print()\n",
    "\n",
    "# Set the times when pumping switches\n",
    "#              start, end, step\n",
    "month = np.arange(1, 18, 1) # month numbers at which flow switches\n",
    "                            #counting from Jan 1 in first year\n",
    "Tsw = 30 * month   # t at which flow switches in days\n",
    "\n",
    "# set the pumping flow at the switch points\n",
    "Qsw = Q0 * 2 * (-1) ** np.arange(len(Tsw))\n",
    "Qsw[0] = Q0\n",
    "\n",
    "# Show them\n",
    "print('{:>6} {:>6}'.format('Tsw[d]', 'Qsw'))\n",
    "for tsw, Q in zip(Tsw, Qsw):\n",
    "    print('{:6.0f} {:6.0f}'.format(tsw, Q))"
   ]
  },
  {
   "cell_type": "code",
   "execution_count": 6,
   "metadata": {},
   "outputs": [
    {
     "data": {
      "image/png": "[encoded data removed]",
      "text/plain": [
       "<Figure size 432x288 with 1 Axes>"
      ]
     },
     "metadata": {
      "needs_background": "light"
     },
     "output_type": "display_data"
    },
    {
     "name": "stdout",
     "output_type": "stream",
     "text": [
      "Total inflow with Q=6800 at t=180.0 d equals 9793.8 m3/d\n"
     ]
    }
   ],
   "source": [
    "# total inflow along river\n",
    "\n",
    "Q = 6800 # m3/d\n",
    "\n",
    "a = 50 # m, length of side\n",
    "b = 400 # m, distance of well to river shore\n",
    "t = 180 #d, inflow for the 6 months\n",
    "\n",
    "x1, y1 = -b, 0 # location of well 1\n",
    "x2, y2 = +b, 0 # location of mirror well 1\n",
    "x3, y3 = -b, a # location of well 2 \n",
    "x4, y4 = +b, a # location of mirror well 2\n",
    "\n",
    "y = np.linspace(-2000, 2000, 201)\n",
    "x = np.zeros_like(y)\n",
    "\n",
    "r1 = np.sqrt((x - x1) ** 2 + (y - y1) ** 2)\n",
    "r2 = np.sqrt((x - x2) ** 2 + (y - y2) ** 2)\n",
    "r3 = np.sqrt((x - x3) ** 2 + (y - y3) ** 2)\n",
    "r4 = np.sqrt((x - x4) ** 2 + (y - y4) ** 2)\n",
    "\n",
    "u1 = r1 ** 2 * S / (4 * kD * t)\n",
    "u2 = r2 ** 2 * S / (4 * kD * t)\n",
    "u3 = r3 ** 2 * S / (4 * kD * t)\n",
    "u4 = r4 ** 2 * S / (4 * kD * t)\n",
    "\n",
    "q1 = +Q / (2 * np.pi * r1) * np.exp(-u1)\n",
    "q2 = -Q / (2 * np.pi * r2) * np.exp(-u2)\n",
    "q3 = +Q / (2 * np.pi * r3) * np.exp(-u3)\n",
    "q4 = -Q / (2 * np.pi * r4) * np.exp(-u4)\n",
    "\n",
    "alpha1 = np.arctan2(y, x - x1)\n",
    "alpha2 = np.arctan2(y, x - x2)\n",
    "alpha1 = np.arctan2(y, x - x3)\n",
    "alpha2 = np.arctan2(y, x - x4)\n",
    "\n",
    "qx = q1 * np.cos(alpha1) + q2 * np.cos(alpha2)\n",
    "qy = q1 * np.sin(alpha1) + q2 * np.sin(alpha2)\n",
    "qx1 = q3 * np.cos(alpha1) + q4 * np.cos(alpha2)\n",
    "qy1 = q3 * np.sin(alpha1) + q4 * np.sin(alpha2)\n",
    "\n",
    "qin = qx + qx1\n",
    "\n",
    "plt.title('Inflow along the river')\n",
    "plt.xlabel('y [m]')\n",
    "plt.ylabel('inflow m2/d')\n",
    "plt.grid()\n",
    "plt.plot(y, qin)\n",
    "plt.show()\n",
    "\n",
    "dy = y[1:] - y[:-1]\n",
    "qm = 0.5 * (qin[:-1] + qin[1:])\n",
    "Qin = np.sum(qm * dy)\n",
    "print('Total inflow with Q={:.0f} at t={:.1f} d equals {:.1f} m3/d'\\\n",
    "     .format(Q, t, Qin))"
   ]
  },
  {
   "cell_type": "markdown",
   "metadata": {},
   "source": [
    "## Flow from the river into the groundwater system"
   ]
  },
  {
   "cell_type": "markdown",
   "metadata": {},
   "source": [
    "$ Question: $ Compute as a function of time the flow from the river into the groundwater system. It is assumed that the groundwater head is initially uniform and equal to the river stage (water level in the river). Do this for the average flow during the 6 month of building pit operation (ignore the variation in the extraction for simplicity)."
   ]
  },
  {
   "cell_type": "code",
   "execution_count": 12,
   "metadata": {},
   "outputs": [
    {
     "data": {
      "image/png": "[encoded data removed]",
      "text/plain": [
       "<Figure size 432x288 with 1 Axes>"
      ]
     },
     "metadata": {
      "needs_background": "light"
     },
     "output_type": "display_data"
    }
   ],
   "source": [
    "#Superposition in time\n",
    "\n",
    "kD = 900 # m2/d\n",
    "S = 0.25 # [-]\n",
    "\n",
    "# using arrays instead of lists is convenient in computations\n",
    "Q     = np.array([6800.0, 6100, 5900, 5800, 5600, 5400, 5200, 0]) # pumping rate [m]\n",
    "dQ    = np.hstack((Q[0], np.diff(Q))) # hstack = glue together\n",
    "times = np.array([0,  39,  60, 90, 120, 150, 180]) # days, stage jump moments\n",
    "b = 400 # distance to be considered\n",
    "\n",
    "x1, y1 = -b, 0 # location of well 1\n",
    "x2, y2 = +b, 0 # location of mirror well 1\n",
    "x3, y3 = -b, 50 # location of well 2 \n",
    "x4, y4 = +b, 50 # location of mirror well 2\n",
    "x0, y0 = 450, 50 # critical point\n",
    "\n",
    "r1 = np.sqrt((x0 - x1) ** 2 + (y0 - y1) ** 2) #distance between well 1 from crit. pt\n",
    "r2 = np.sqrt((x0 - x2) ** 2 + (y0 - y2) ** 2) #distance between mirror well 1 amd crit. pt\n",
    "r3 = np.sqrt((x0 - x3) ** 2 + (y0 - y3) ** 2) #distance between well two and crit. pt\n",
    "r4 = np.sqrt((x0 - x4) ** 2 + (y0 - y4) ** 2) #distance between mirror well 2 and crit. pt\n",
    "\n",
    "# The 0.00001 prevents division by zero.\n",
    "# time values to be plotted\n",
    "t = np.linspace(0, 180, 181) + 0.00001 # period to be considered (1 year after drawdown ceases)\n",
    "\n",
    "# total groundwater change\n",
    "s = np.zeros_like(t) # set initially to zero\n",
    "\n",
    "# Loop over all stage changes\n",
    "for tt, dq in zip(times, dQ):\n",
    "    u1 = r1 ** 2 * S / (4 * kD * (t[t>=tt] - tt))\n",
    "    u2 = r2 ** 2 * S / (4 * kD * (t[t>=tt] - tt))\n",
    "    u3 = r3 ** 2 * S / (4 * kD * (t[t>=tt] - tt))\n",
    "    u4 = r4 ** 2 * S / (4 * kD * (t[t>=tt] - tt))\n",
    "    \n",
    "    ds = np.zeros_like(t) # set all values to zero\n",
    "    ds[t>=tt] = dq * (1/(4 * np.pi * kD))*((W(u1)-W(u2))+((W(u3)-W(u4)))) # only values t>=tt\n",
    "    s = (s + ds) # add change due to this stage to total\n",
    "    plt.plot(t, s, lw=1, label= 'change at t = {:.02f} d'.format(tt))\n",
    "    \n",
    "plt.plot(t, s, linewidth=3, label='total effect')    \n",
    "plt.title('Superposition in time')\n",
    "plt.xlabel('Time [d]')\n",
    "plt.ylabel('Drawdown[m]')\n",
    "plt.ylim(-6, 6)\n",
    "plt.legend()\n",
    "plt.grid()\n",
    "plt.show()\n",
    "\n",
    "#print('drawdown for Q={} m^3/d at t={} days equals s{}m'.format(Q, t, s))"
   ]
  },
  {
   "cell_type": "code",
   "execution_count": null,
   "metadata": {},
   "outputs": [],
   "source": []
  },
  {
   "cell_type": "code",
   "execution_count": 8,
   "metadata": {},
   "outputs": [
    {
     "data": {
      "image/png": "[encoded data removed]",
      "text/plain": [
       "<Figure size 432x288 with 1 Axes>"
      ]
     },
     "metadata": {
      "needs_background": "light"
     },
     "output_type": "display_data"
    }
   ],
   "source": [
    "# to also plot the river stage itself,\n",
    "# first generate values for graph of river stage\n",
    "a = np.zeros_like(t)  # initially zero\n",
    "for aa, tt in zip(Q, times):\n",
    "    a[t>=tt] = aa\n",
    "\n",
    "    \n",
    "plt.plot(t, a, 'k', label='river') # plot the river stage\n",
    "plt.xlabel('t, days')\n",
    "plt.ylabel('Q, m^3/d')\n",
    "plt.legend()\n",
    "plt.show()"
   ]
  },
  {
   "cell_type": "markdown",
   "metadata": {},
   "source": [
    "## Impact of the month-long wave in the river stage"
   ]
  },
  {
   "cell_type": "markdown",
   "metadata": {},
   "source": [
    "Use this section to show the effect of the wave in the river. Specifiy it, explain what and how you do it.\n",
    "\n",
    "And finally compare what can be done by pomping to compensate the impact of the wave at the critical point in the building pit."
   ]
  },
  {
   "cell_type": "code",
   "execution_count": 9,
   "metadata": {},
   "outputs": [
    {
     "data": {
      "image/png": "[encoded data removed]",
      "text/plain": [
       "<Figure size 432x288 with 1 Axes>"
      ]
     },
     "metadata": {
      "needs_background": "light"
     },
     "output_type": "display_data"
    },
    {
     "name": "stdout",
     "output_type": "stream",
     "text": [
      "After 30.0 days the head change s, at critical point (x = 450m)  equals 0.33 m\n"
     ]
    }
   ],
   "source": [
    "kD = 900 # m2/d Transmissivity (given)\n",
    "S = 0.25 # [-] Storage coefficient or storativity (given)\n",
    "A = 1. #m change in height due to month long wave (given)\n",
    "\n",
    "x = np.linspace(0, 450, 451) #distance between river and critical point at 1 m intervals\n",
    "t = 30 # day - duration of the wave\n",
    "plt.title ('Half infinite aquifer, sudden change')\n",
    "plt.xlabel ('x [m]')\n",
    "plt.ylabel ('head [m]')\n",
    "plt.grid ()\n",
    "\n",
    "s = A * erfc (x * np.sqrt(S/ (4 * kD * t))) #calculating the drawdown for all values of x from the river to the crit. pt\n",
    "plt.plot (x, s, label= 't={} d'.format(t)) #plotting the graph drawdown vs distance \n",
    "\n",
    "s450 = A * erfc (450*np.sqrt(S/ (4*kD*t))) # drawdown for x = 450\n",
    "plt.legend()\n",
    "plt.show()\n",
    "print('After {:.1f} days the head change s, at critical point (x = 450m)  equals {:.02f} m'\\\n",
    "     .format(t, s450)) #displays value of drawdown at critical point"
   ]
  },
  {
   "cell_type": "markdown",
   "metadata": {},
   "source": [
    "To compensate for the impact of the month long wave, the pumping rate will be increased to mitigate the impact of the wave\n",
    "at the critical point.\n",
    "\n",
    "Since wave happens for the 4th month of extraction, then discharge will be calculated using the formula:\n",
    "\n",
    "Formula will be used to calculate discharge drawdown of 5.33 during 4th month."
   ]
  }
 ],
 "metadata": {
  "kernelspec": {
   "display_name": "Python 3",
   "language": "python",
   "name": "python3"
  },
  "language_info": {
   "codemirror_mode": {
    "name": "ipython",
    "version": 3
   },
   "file_extension": ".py",
   "mimetype": "text/x-python",
   "name": "python",
   "nbconvert_exporter": "python",
   "pygments_lexer": "ipython3",
   "version": "3.7.0"
  }
 },
 "nbformat": 4,
 "nbformat_minor": 2
}
