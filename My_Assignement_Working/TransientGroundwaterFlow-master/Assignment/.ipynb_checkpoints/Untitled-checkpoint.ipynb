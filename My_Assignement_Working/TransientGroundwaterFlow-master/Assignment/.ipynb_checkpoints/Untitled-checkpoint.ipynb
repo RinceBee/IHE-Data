{
 "cells": [
  {
   "cell_type": "code",
   "execution_count": 88,
   "metadata": {},
   "outputs": [],
   "source": [
    "import numpy as np\n",
    "import matplotlib.pyplot as plt\n",
    "from scipy.special import exp1\n",
    "W=exp1"
   ]
  },
  {
   "cell_type": "code",
   "execution_count": null,
   "metadata": {},
   "outputs": [],
   "source": []
  },
  {
   "cell_type": "code",
   "execution_count": 102,
   "metadata": {},
   "outputs": [
    {
     "name": "stdout",
     "output_type": "stream",
     "text": [
      "dQ =  [ 1200  -600   800 -1200  1000  -900  -300]\n"
     ]
    },
    {
     "name": "stderr",
     "output_type": "stream",
     "text": [
      "C:\\Users\\kba003\\AppData\\Local\\Continuum\\anaconda3\\lib\\site-packages\\ipykernel_launcher.py:33: RuntimeWarning: divide by zero encountered in true_divide\n"
     ]
    },
    {
     "data": {
      "image/png": "[encoded data removed]",
      "text/plain": [
       "<Figure size 432x288 with 1 Axes>"
      ]
     },
     "metadata": {
      "needs_background": "light"
     },
     "output_type": "display_data"
    }
   ],
   "source": [
    "kD= 1000  #[m2/d] is Transmissivity\n",
    "S= 0.02  # [-] is Storativity\n",
    "#xr= 400  #[m] distance from the river\n",
    "#l= 50    #[m ]length of square\n",
    "#r0= 0.3  #[m] assumed well radius \n",
    "#t= 30    # [d] 1 month duration\n",
    "#s= 5     # [m] required drawdown\n",
    "\n",
    "\n",
    "times = np.linspace(0, 180,181) # from 0 to 180, 181 points (1 d interval)\n",
    "swt = [0.0, 30,  60, 90, 120 , 150, 180] # days\n",
    "\n",
    "Q   = np.array([1200,600,1400,200,1200,300,0])\n",
    "\n",
    "# changes of flow. hstack((a, b)) glues two arrays or a value and array together\n",
    "dQ = np.hstack( (Q[0], np.diff(Q)) )\n",
    "print('dQ = ', dQ)\n",
    "\n",
    "#xw, yw, x0, y0 = 100, 50, 0.5, -3\n",
    "r = 100\n",
    "\n",
    "\n",
    "plt.title('Superposition in time')\n",
    "plt.xlabel('time [d]')\n",
    "plt.ylabel('drawdown [d]')\n",
    "plt.xlim((0, 400))\n",
    "plt.grid()\n",
    "\n",
    "s = np.zeros_like(times)  # array of zeros same shape as the array of times\n",
    "for st, Q in zip(swt, dQ):\n",
    "    I = times >= st  # logical array I telling which times are greater than switch time st\n",
    "    #print(I)\n",
    "    u=(r**2 * S /(4 * kD * (times[I] - st)))\n",
    "    ds = -Q/(4 * np.pi * kD) * ((W(u))) # negative sign for drawdown indication\n",
    "    #print(ds)\n",
    "    plt.plot(times[I], ds, label='st = {:.0f} d'.format(st))\n",
    "    s[I] += ds\n",
    "plt.plot(times, s, 'r', lw=2, label='total')\n",
    "plt.plot(t,np.zeros_like(t))\n",
    "\n",
    "#Plotting s and Q vs t in same graph\n",
    "plt.plot(t,np.zeros_like(t)-0.5)\n",
    "\n",
    "\n",
    "\n",
    "plt.legend(loc=5)\n",
    "plt.show()"
   ]
  },
  {
   "cell_type": "code",
   "execution_count": 1,
   "metadata": {},
   "outputs": [
    {
     "ename": "NameError",
     "evalue": "name 'np' is not defined",
     "output_type": "error",
     "traceback": [
      "\u001b[1;31m---------------------------------------------------------------------------\u001b[0m",
      "\u001b[1;31mNameError\u001b[0m                                 Traceback (most recent call last)",
      "\u001b[1;32m<ipython-input-1-a875146e1c2e>\u001b[0m in \u001b[0;36m<module>\u001b[1;34m()\u001b[0m\n\u001b[0;32m     12\u001b[0m \u001b[0mr4\u001b[0m\u001b[1;33m=\u001b[0m\u001b[1;36m851.71\u001b[0m\u001b[1;33m\u001b[0m\u001b[0m\n\u001b[0;32m     13\u001b[0m \u001b[0mt\u001b[0m\u001b[1;33m=\u001b[0m\u001b[1;36m203.5\u001b[0m \u001b[1;31m#days\u001b[0m\u001b[1;33m\u001b[0m\u001b[0m\n\u001b[1;32m---> 14\u001b[1;33m \u001b[0mu1\u001b[0m\u001b[1;33m=\u001b[0m\u001b[0mr1\u001b[0m\u001b[1;33m**\u001b[0m\u001b[1;36m2\u001b[0m\u001b[1;33m*\u001b[0m\u001b[0mS\u001b[0m\u001b[1;33m/\u001b[0m\u001b[1;33m(\u001b[0m\u001b[1;36m4\u001b[0m\u001b[1;33m*\u001b[0m\u001b[0mnp\u001b[0m\u001b[1;33m.\u001b[0m\u001b[0mpi\u001b[0m\u001b[1;33m*\u001b[0m\u001b[0mkD\u001b[0m \u001b[1;33m*\u001b[0m\u001b[1;33m(\u001b[0m\u001b[0mt\u001b[0m\u001b[1;33m-\u001b[0m\u001b[0mt1\u001b[0m\u001b[1;33m)\u001b[0m\u001b[1;33m)\u001b[0m\u001b[1;33m\u001b[0m\u001b[0m\n\u001b[0m\u001b[0;32m     15\u001b[0m \u001b[0mu2\u001b[0m\u001b[1;33m=\u001b[0m\u001b[0mr2\u001b[0m\u001b[1;33m**\u001b[0m\u001b[1;36m2\u001b[0m\u001b[1;33m*\u001b[0m\u001b[0mS\u001b[0m\u001b[1;33m/\u001b[0m\u001b[1;33m(\u001b[0m\u001b[1;36m4\u001b[0m\u001b[1;33m*\u001b[0m\u001b[0mnp\u001b[0m\u001b[1;33m.\u001b[0m\u001b[0mpi\u001b[0m\u001b[1;33m*\u001b[0m\u001b[0mkD\u001b[0m \u001b[1;33m*\u001b[0m\u001b[1;33m(\u001b[0m\u001b[0mt\u001b[0m\u001b[1;33m-\u001b[0m\u001b[0mt1\u001b[0m\u001b[1;33m)\u001b[0m\u001b[1;33m)\u001b[0m\u001b[1;33m\u001b[0m\u001b[0m\n\u001b[0;32m     16\u001b[0m \u001b[0mu3\u001b[0m\u001b[1;33m=\u001b[0m\u001b[0mr3\u001b[0m\u001b[1;33m**\u001b[0m\u001b[1;36m2\u001b[0m\u001b[1;33m*\u001b[0m\u001b[0mS\u001b[0m\u001b[1;33m/\u001b[0m\u001b[1;33m(\u001b[0m\u001b[1;36m4\u001b[0m\u001b[1;33m*\u001b[0m\u001b[0mnp\u001b[0m\u001b[1;33m.\u001b[0m\u001b[0mpi\u001b[0m\u001b[1;33m*\u001b[0m\u001b[0mkD\u001b[0m \u001b[1;33m*\u001b[0m\u001b[1;33m(\u001b[0m\u001b[0mt\u001b[0m\u001b[1;33m-\u001b[0m\u001b[0mt1\u001b[0m\u001b[1;33m)\u001b[0m\u001b[1;33m)\u001b[0m\u001b[1;33m\u001b[0m\u001b[0m\n",
      "\u001b[1;31mNameError\u001b[0m: name 'np' is not defined"
     ]
    }
   ],
   "source": [
    "kD, S= 900, 0.25\n",
    "Q1, t1=6797.28, 0\n",
    "Q2, t2=6099.48, 30\n",
    "Q3,t3 =5847.55, 60\n",
    "Q4, t4=5717.77, 90\n",
    "Q5, t5=5638.68, 120\n",
    "Q6, t6=5585.44, 150 \n",
    "Q7,t7=0,180\n",
    "r1 = 50\n",
    "r2=70.71\n",
    "r3=850\n",
    "r4=851.71\n",
    "t=203.5 #days\n",
    "u1=r1**2*S/(4*np.pi*kD *(t-t1))\n",
    "u2=r2**2*S/(4*np.pi*kD *(t-t1))\n",
    "u3=r3**2*S/(4*np.pi*kD *(t-t1))\n",
    "u4=r4**2*S/(4*np.pi*kD *(t-t1))\n",
    "u5=r1**2*S/(4*np.pi*kD *(t-t2))\n",
    "u6=r2**2*S/(4*np.pi*kD *(t-t2))\n",
    "u7=r3**2*S/(4*np.pi*kD *(t-t2))\n",
    "u8=r4**2*S/(4*np.pi*kD *(t-t2))\n",
    "u9=r1**2*S/(4*np.pi*kD *(t-t3))\n",
    "u10=r2**2*S/(4*np.pi*kD *(t-t3))\n",
    "u11=r3**2*S/(4*np.pi*kD *(t-t3))\n",
    "u12=r4**2*S/(4*np.pi*kD *(t-t3))\n",
    "u13=r1**2*S/(4*np.pi*kD *(t-t4))\n",
    "u14=r2**2*S/(4*np.pi*kD *(t-t4))\n",
    "u15=r3**2*S/(4*np.pi*kD *(t-t4))\n",
    "u16=r4**2*S/(4*np.pi*kD *(t-t4))\n",
    "u17=r1**2*S/(4*np.pi*kD *(t-t5))\n",
    "u18=r2**2*S/(4*np.pi*kD *(t-t5))\n",
    "u19=r3**2*S/(4*np.pi*kD *(t-t5))\n",
    "u20=r4**2*S/(4*np.pi*kD *(t-t5))\n",
    "u21=r1**2*S/(4*np.pi*kD *(t-t6))\n",
    "u22=r2**2*S/(4*np.pi*kD *(t-t6))\n",
    "u23=r3**2*S/(4*np.pi*kD *(t-t6))\n",
    "u24=r4**2*S/(4*np.pi*kD *(t-t6))\n",
    "u25=r1**2*S/(4*np.pi*kD *(t-t7))\n",
    "u26=r2**2*S/(4*np.pi*kD *(t-t7))\n",
    "u27=r3**2*S/(4*np.pi*kD *(t-t7))\n",
    "u28=r4**2*S/(4*np.pi*kD *(t-t7))\n",
    "F=4*np.pi*kD\n",
    "s= ((1/F)*((Q1*(W(u1)+W(u2)-W(u3)-W(u4)))+((Q2-Q1)*(W(u5)+W(u6)-W(u7)-W(u8)))+((Q3-Q2)*(W(u9)+W(u10)-W(u11)-W(u12)))+\n",
    "           ((Q4-Q3)*(W(u13)+W(u14)-W(u15)-W(u16)))+((Q5-Q4)*(W(u17)+W(u18)-W(u19)-W(u20)))+\n",
    "           ((Q6-Q5)*(W(u21)+W(u22)-W(u23)-W(u24)))+((Q7-Q6)*(W(u25)+W(u26)-W(u27)-W(u28))) ) )\n",
    "print(round(s,2))  \n",
    "print ('So, after', round((t-180),2), 'days  from the stopage of well the drawdowm of 4.5 m will be disappeared, so tha the value of drawdown will be',round(s,2), 'm.')"
   ]
  },
  {
   "cell_type": "code",
   "execution_count": null,
   "metadata": {},
   "outputs": [],
   "source": []
  }
 ],
 "metadata": {
  "kernelspec": {
   "display_name": "Python 3",
   "language": "python",
   "name": "python3"
  },
  "language_info": {
   "codemirror_mode": {
    "name": "ipython",
    "version": 3
   },
   "file_extension": ".py",
   "mimetype": "text/x-python",
   "name": "python",
   "nbconvert_exporter": "python",
   "pygments_lexer": "ipython3",
   "version": "3.7.0"
  }
 },
 "nbformat": 4,
 "nbformat_minor": 2
}
