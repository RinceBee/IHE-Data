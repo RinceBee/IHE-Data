{
 "cells": [
  {
   "cell_type": "code",
   "execution_count": 2,
   "metadata": {},
   "outputs": [],
   "source": [
    "import numpy as np\n",
    "import matplotlib.pyplot as plt\n",
    "from scipy.special import exp1\n",
    "W=exp1"
   ]
  },
  {
   "cell_type": "code",
   "execution_count": 4,
   "metadata": {},
   "outputs": [
    {
     "data": {
      "image/png": "[encoded data removed]",
      "text/plain": [
       "<Figure size 432x288 with 1 Axes>"
      ]
     },
     "metadata": {
      "needs_background": "light"
     },
     "output_type": "display_data"
    }
   ],
   "source": [
    "kD = 600 # m2/d\n",
    "S  = 0.1\n",
    "t = 1.3 # d\n",
    "xWells = [34, 123, 45. -70, -80.]\n",
    "yWells = [-23., 45., -50., -30., 20.]\n",
    "Qwells = [1200, 600., 350., 1200., 300]\n",
    "\n",
    "x0, y0 = 0.3, 6.7  # multiple assignment, handy\n",
    "\n",
    "times = [0.1, 0.25, 0.3, 0.5, 0.8, 0.82, 0.9, 1.0] # days\n",
    "\n",
    "# plot individual times as a dot\n",
    "plt.title('drawdown')\n",
    "plt.xlabel('time [d]')\n",
    "plt.ylabel('drawdown s[m]')\n",
    "plt.grid()\n",
    "\n",
    "for t in times:\n",
    "    s = 0\n",
    "    for xw, yw, Qw in zip(xWells, yWells, Qwells):\n",
    "        r = np.sqrt((x0 - xw)**2 + (y0 - yw)**2)\n",
    "        s += Qw / (4 * np.pi * kD) * exp1(r**2 * S / (4 * kD * t))\n",
    "    plt.plot(t, s, 'o')\n",
    "    \n",
    "plt.show()\n",
    "\n"
   ]
  },
  {
   "cell_type": "code",
   "execution_count": 4,
   "metadata": {},
   "outputs": [
    {
     "name": "stdout",
     "output_type": "stream",
     "text": [
      "dQ =  [10000 -2000  -500  -500  1000 -3000 -5000]\n"
     ]
    }
   ],
   "source": []
  },
  {
   "cell_type": "code",
   "execution_count": 27,
   "metadata": {},
   "outputs": [
    {
     "name": "stdout",
     "output_type": "stream",
     "text": [
      "dQ =  [ 6797.28  -697.8   -251.93  -129.78   -79.09   -53.24 -5585.44]\n",
      "50\n"
     ]
    },
    {
     "data": {
      "image/png": "[encoded data removed]",
      "text/plain": [
       "<Figure size 432x288 with 1 Axes>"
      ]
     },
     "metadata": {
      "needs_background": "light"
     },
     "output_type": "display_data"
    }
   ],
   "source": [
    "times = np.linspace(0, 360, 361) # from 0 to 180, 181 points (1 d interval)\n",
    "swt = [0, 30,  60, 90, 120 , 150, 180] # days\n",
    "Q   = np.array([6797.28, 6099.48, 5847.55, 5717.77, 5638.68, 5585.44, 0])\n",
    "\n",
    "# changes of flow. hstack((a, b)) glues two arrays or a value and array together\n",
    "dQ = np.hstack( (Q[0], np.diff(Q)) )\n",
    "print('dQ = ', dQ)\n",
    "\n",
    "#xw, yw, x0, y0 = 100, 50, 0.5, -3\n",
    "r = 50\n",
    "r1=70.71\n",
    "r2=850\n",
    "r3=851.71\n",
    "print(r)\n",
    "plt.title('Superposition in tim')\n",
    "plt.xlabel('time [d]')\n",
    "plt.ylabel('drawdown [d]')\n",
    "plt.xlim((0, 360))\n",
    "plt.grid()\n",
    "\n",
    "s = np.zeros_like(times)  # array of zeros same shape as the array of times\n",
    "for st, Q in zip(swt, dQ):\n",
    "    I = times > st  # logical array I telling which times are greater than switch time st\n",
    "    #print(I)\n",
    "    u=(r**2 * S /(4 * kD * (times[I] - st)))\n",
    "    u1=(r1**2 * S /(4 * kD * (times[I] - st)))\n",
    "    u2=(r2**2 * S /(4 * kD * (times[I] - st)))\n",
    "    u3=(r3**2 * S /(4 * kD * (times[I] - st)))\n",
    "    \n",
    "    ds = -Q/(4 * np.pi * kD) * ((W(u)+W(u1)-W(u2)-W(u3))) # negative sign for drawdown indication\n",
    "    #print(ds)\n",
    "    plt.plot(times[I], ds, label='st = {:.0f} d'.format(st))\n",
    "    s[I] += ds\n",
    "plt.plot(times, s, 'k', lw=2, label='total')\n",
    "plt.plot(t,np.zeros_like(t))\n",
    "\n",
    "plt.legend('loc=3')\n",
    "plt.show()\n",
    "\n"
   ]
  },
  {
   "cell_type": "code",
   "execution_count": 10,
   "metadata": {},
   "outputs": [
    {
     "ename": "IndentationError",
     "evalue": "unexpected indent (<ipython-input-10-8f7a0ff0a198>, line 21)",
     "output_type": "error",
     "traceback": [
      "\u001b[1;36m  File \u001b[1;32m\"<ipython-input-10-8f7a0ff0a198>\"\u001b[1;36m, line \u001b[1;32m21\u001b[0m\n\u001b[1;33m    print(I)\u001b[0m\n\u001b[1;37m    ^\u001b[0m\n\u001b[1;31mIndentationError\u001b[0m\u001b[1;31m:\u001b[0m unexpected indent\n"
     ]
    }
   ],
   "source": [
    "times = np.linspace(0, 500, 501) # from 0 to 180, 181 points (1 d interval)\n",
    "swt = [0, 30,  60, 90, 120 , 150, 180] \n",
    "Q   = np.array([10000,8000,8200,7000,8000,7500,0])\n",
    "\n",
    "# changes of flow. hstack((a, b)) glues two arrays or a value and array together\n",
    "dQ = np.hstack( (Q[0], np.diff(Q)) )\n",
    "print('dQ = ', dQ)\n",
    "\n",
    "#xw, yw, x0, y0 = 100, 50, 0.5, -3\n",
    "r = 100\n",
    "print(r)\n",
    "plt.title('drawdown at critical point')\n",
    "plt.xlabel('time [d]')\n",
    "plt.ylabel('drawdown [d]')\n",
    "plt.xlim((0, 500))\n",
    "plt.grid()\n",
    "\n",
    "s = np.zeros_like(times)  # array of zeros same shape as the array of times\n",
    "for st, Q in zip(swt, dQ):\n",
    "    I = times > st  # logical array I telling which times are greater than switch time st\n",
    "     print(I)\n",
    "    ds = -Q/(4 * np.pi * kD) * (exp1(r**2 * S /(4 * kD * (times[I] - st)))\n",
    "    plt.plot(times[I], ds, label='st = {:.0f} d'.format(st))\n",
    "    s[I] += ds\n",
    "plt.plot(times, s, 'k', lw=2, label='total')\n",
    "plt.plot(t,np.zeros_like(t))\n",
    "plt.legend('loc=3')\n",
    "plt.show()"
   ]
  },
  {
   "cell_type": "code",
   "execution_count": null,
   "metadata": {},
   "outputs": [],
   "source": [
    "s=(10000)/()"
   ]
  }
 ],
 "metadata": {
  "kernelspec": {
   "display_name": "Python 3",
   "language": "python",
   "name": "python3"
  },
  "language_info": {
   "codemirror_mode": {
    "name": "ipython",
    "version": 3
   },
   "file_extension": ".py",
   "mimetype": "text/x-python",
   "name": "python",
   "nbconvert_exporter": "python",
   "pygments_lexer": "ipython3",
   "version": "3.7.0"
  }
 },
 "nbformat": 4,
 "nbformat_minor": 2
}
