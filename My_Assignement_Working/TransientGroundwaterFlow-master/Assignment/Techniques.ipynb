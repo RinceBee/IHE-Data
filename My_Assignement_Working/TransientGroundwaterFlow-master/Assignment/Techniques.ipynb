{
 "cells": [
  {
   "cell_type": "markdown",
   "metadata": {},
   "source": [
    "# Some python knowledge, and technologies useful to make your assignment"
   ]
  },
  {
   "cell_type": "markdown",
   "metadata": {},
   "source": [
    "    IHE Transient groundwater\n",
    "    Theo Olsthoorn\n",
    "    2019-01-15"
   ]
  },
  {
   "cell_type": "markdown",
   "metadata": {},
   "source": [
    "To help you get up and going with your assignment, I explain some features of Python and some techniques in Python that will prove usefull."
   ]
  },
  {
   "cell_type": "code",
   "execution_count": 2,
   "metadata": {},
   "outputs": [],
   "source": [
    "import numpy as np\n",
    "import matplotlib.pyplot as plt\n",
    "from scipy.special import exp1"
   ]
  },
  {
   "cell_type": "markdown",
   "metadata": {},
   "source": [
    "# Strings (unchangeble series of characters)"
   ]
  },
  {
   "cell_type": "code",
   "execution_count": 149,
   "metadata": {},
   "outputs": [
    {
     "name": "stdout",
     "output_type": "stream",
     "text": [
      "This is a string\n"
     ]
    }
   ],
   "source": [
    "a = 'This is a string'\n",
    "print(a)"
   ]
  },
  {
   "cell_type": "markdown",
   "metadata": {},
   "source": [
    "Here are the fucntions that can be applied on strings (which is quite a long number). But you cannot change an existing string, you can of course replace it with a new one."
   ]
  },
  {
   "cell_type": "code",
   "execution_count": 150,
   "metadata": {},
   "outputs": [
    {
     "data": {
      "text/plain": [
       "['capitalize',\n",
       " 'casefold',\n",
       " 'center',\n",
       " 'count',\n",
       " 'encode',\n",
       " 'endswith',\n",
       " 'expandtabs',\n",
       " 'find',\n",
       " 'format',\n",
       " 'format_map',\n",
       " 'index',\n",
       " 'isalnum',\n",
       " 'isalpha',\n",
       " 'isdecimal',\n",
       " 'isdigit',\n",
       " 'isidentifier',\n",
       " 'islower',\n",
       " 'isnumeric',\n",
       " 'isprintable',\n",
       " 'isspace',\n",
       " 'istitle',\n",
       " 'isupper',\n",
       " 'join',\n",
       " 'ljust',\n",
       " 'lower',\n",
       " 'lstrip',\n",
       " 'maketrans',\n",
       " 'partition',\n",
       " 'replace',\n",
       " 'rfind',\n",
       " 'rindex',\n",
       " 'rjust',\n",
       " 'rpartition',\n",
       " 'rsplit',\n",
       " 'rstrip',\n",
       " 'split',\n",
       " 'splitlines',\n",
       " 'startswith',\n",
       " 'strip',\n",
       " 'swapcase',\n",
       " 'title',\n",
       " 'translate',\n",
       " 'upper',\n",
       " 'zfill']"
      ]
     },
     "execution_count": 150,
     "metadata": {},
     "output_type": "execute_result"
    }
   ],
   "source": [
    "[x for x in dir(a) if not x.startswith('_')]"
   ]
  },
  {
   "cell_type": "code",
   "execution_count": 151,
   "metadata": {},
   "outputs": [
    {
     "data": {
      "text/plain": [
       "'This Is A String'"
      ]
     },
     "execution_count": 151,
     "metadata": {},
     "output_type": "execute_result"
    }
   ],
   "source": [
    "a.title()"
   ]
  },
  {
   "cell_type": "code",
   "execution_count": 152,
   "metadata": {},
   "outputs": [
    {
     "data": {
      "text/plain": [
       "'THIS IS A STRING'"
      ]
     },
     "execution_count": 152,
     "metadata": {},
     "output_type": "execute_result"
    }
   ],
   "source": [
    "a.upper()"
   ]
  },
  {
   "cell_type": "code",
   "execution_count": 153,
   "metadata": {},
   "outputs": [
    {
     "data": {
      "text/plain": [
       "['This', 'is', 'a', 'string']"
      ]
     },
     "execution_count": 153,
     "metadata": {},
     "output_type": "execute_result"
    }
   ],
   "source": [
    "a.split() # split the string on whitespace"
   ]
  },
  {
   "cell_type": "code",
   "execution_count": 154,
   "metadata": {},
   "outputs": [
    {
     "data": {
      "text/plain": [
       "False"
      ]
     },
     "execution_count": 154,
     "metadata": {},
     "output_type": "execute_result"
    }
   ],
   "source": [
    "a.startswith('John')"
   ]
  },
  {
   "cell_type": "code",
   "execution_count": 155,
   "metadata": {},
   "outputs": [
    {
     "data": {
      "text/plain": [
       "True"
      ]
     },
     "execution_count": 155,
     "metadata": {},
     "output_type": "execute_result"
    }
   ],
   "source": [
    "a.endswith('ing')"
   ]
  },
  {
   "cell_type": "code",
   "execution_count": 156,
   "metadata": {},
   "outputs": [
    {
     "data": {
      "text/plain": [
       "True"
      ]
     },
     "execution_count": 156,
     "metadata": {},
     "output_type": "execute_result"
    }
   ],
   "source": [
    "a.upper().endswith('ING')"
   ]
  },
  {
   "cell_type": "markdown",
   "metadata": {},
   "source": [
    "Insert values into a string on successive locations indicated by {}. This is done by applying the function `format` on the string"
   ]
  },
  {
   "cell_type": "code",
   "execution_count": 157,
   "metadata": {},
   "outputs": [
    {
     "data": {
      "text/plain": [
       "'Today is Monday 3 Feb in the year 2019.'"
      ]
     },
     "execution_count": 157,
     "metadata": {},
     "output_type": "execute_result"
    }
   ],
   "source": [
    "'Today is {} {} {} in the year {}.'.format('Monday', 3, 'Feb', 2019)"
   ]
  },
  {
   "cell_type": "markdown",
   "metadata": {},
   "source": [
    "# Tuples (unchangeble lists)"
   ]
  },
  {
   "cell_type": "code",
   "execution_count": 158,
   "metadata": {},
   "outputs": [
    {
     "name": "stdout",
     "output_type": "stream",
     "text": [
      "(1, 2, 'a', 'string', array([9, 3, 4]))\n"
     ]
    }
   ],
   "source": [
    "# a tuple\n",
    "a = (1, 2, 'a', 'string', np.array([9, 3, 4]))\n",
    "print(a)"
   ]
  },
  {
   "cell_type": "code",
   "execution_count": 159,
   "metadata": {},
   "outputs": [
    {
     "name": "stdout",
     "output_type": "stream",
     "text": [
      "1 , first\n",
      "2 , second\n",
      "[9 3 4] , last\n",
      "string , last but one\n"
     ]
    }
   ],
   "source": [
    "print(a[0], ', first')\n",
    "print(a[1], ', second')\n",
    "print(a[-1], ', last')\n",
    "print(a[-2], ', last but one')"
   ]
  },
  {
   "cell_type": "code",
   "execution_count": 160,
   "metadata": {},
   "outputs": [
    {
     "name": "stdout",
     "output_type": "stream",
     "text": [
      "('a', 'string', array([9, 3, 4])) , third to last\n",
      "(1, 2) , frist up to last but 3\n",
      "1 , first item\n",
      "[9 3 4] , last item\n",
      "('a', 'string', array([9, 3, 4])) , last 3 items\n"
     ]
    }
   ],
   "source": [
    "# selection by slicing [:] = 'all', [:5] from start up to but not including 5, [4:] from 4 to end\n",
    "print(a[2:], ', third to last')\n",
    "print(a[:-3], ', frist up to last but 3')\n",
    "print(a[0], ', first item')\n",
    "print(a[-1], ', last item')\n",
    "print(a[-3:], ', last 3 items')"
   ]
  },
  {
   "cell_type": "code",
   "execution_count": 161,
   "metadata": {},
   "outputs": [],
   "source": [
    "# a tuple consisting of only one item is indicated with a comma\n",
    "b = (2,)\n",
    "c = (2)"
   ]
  },
  {
   "cell_type": "code",
   "execution_count": 162,
   "metadata": {},
   "outputs": [
    {
     "name": "stdout",
     "output_type": "stream",
     "text": [
      "(2,)  a tuple, due to the comma\n",
      "2  a number\n"
     ]
    }
   ],
   "source": [
    "print(b, ' a tuple, due to the comma')\n",
    "print(c, ' a number')"
   ]
  },
  {
   "cell_type": "markdown",
   "metadata": {},
   "source": [
    "# Lists (like tuples, but changeble)"
   ]
  },
  {
   "cell_type": "markdown",
   "metadata": {},
   "source": [
    "Lists are demarcated by straight bracktes [ ] instead of parenthese ( ). But they work further exactly like tuples:"
   ]
  },
  {
   "cell_type": "code",
   "execution_count": 163,
   "metadata": {},
   "outputs": [
    {
     "name": "stdout",
     "output_type": "stream",
     "text": [
      "[1, 2, 'a', 'string', array([9, 3, 4])]\n"
     ]
    }
   ],
   "source": [
    "a = [1, 2, 'a', 'string', np.array([9, 3, 4])]\n",
    "print(a)"
   ]
  },
  {
   "cell_type": "markdown",
   "metadata": {},
   "source": [
    "No need to use a comma to indicate a list a list of onluy one item, because there can be no confusion with other uses of brackets."
   ]
  },
  {
   "cell_type": "markdown",
   "metadata": {},
   "source": [
    "b = [3,]"
   ]
  },
  {
   "cell_type": "markdown",
   "metadata": {},
   "source": [
    "However a list is changable, so you can insert items and extend it, which you cannot with a tuple."
   ]
  },
  {
   "cell_type": "code",
   "execution_count": 164,
   "metadata": {},
   "outputs": [
    {
     "name": "stdout",
     "output_type": "stream",
     "text": [
      "[1, 2, 'a', 'string', array([9, 3, 4]), [['cow', 'chick'], 'bull', 'John', array([4, 3, 2])]]\n"
     ]
    }
   ],
   "source": [
    "a.append([['cow', 'chick'], 'bull', 'John', np.array([4, 3, 2])])\n",
    "print(a)"
   ]
  },
  {
   "cell_type": "markdown",
   "metadata": {},
   "source": [
    "This is what you can do with a list (dir(a) gives the objects associated with list a):"
   ]
  },
  {
   "cell_type": "code",
   "execution_count": 165,
   "metadata": {},
   "outputs": [
    {
     "data": {
      "text/plain": [
       "['append',\n",
       " 'clear',\n",
       " 'copy',\n",
       " 'count',\n",
       " 'extend',\n",
       " 'index',\n",
       " 'insert',\n",
       " 'pop',\n",
       " 'remove',\n",
       " 'reverse',\n",
       " 'sort']"
      ]
     },
     "execution_count": 165,
     "metadata": {},
     "output_type": "execute_result"
    }
   ],
   "source": [
    "[x for x in dir(a) if not x.startswith('_')]"
   ]
  },
  {
   "cell_type": "markdown",
   "metadata": {},
   "source": [
    "Here is what you can do with a tuple"
   ]
  },
  {
   "cell_type": "code",
   "execution_count": 166,
   "metadata": {},
   "outputs": [
    {
     "data": {
      "text/plain": [
       "['count', 'index']"
      ]
     },
     "execution_count": 166,
     "metadata": {},
     "output_type": "execute_result"
    }
   ],
   "source": [
    "[x for x in dir(tuple(a)) if not x.startswith('_')]"
   ]
  },
  {
   "cell_type": "markdown",
   "metadata": {},
   "source": [
    "Only count and index, no append insert or pop or sort, i.e. anything that could alter the tuple."
   ]
  },
  {
   "cell_type": "markdown",
   "metadata": {},
   "source": [
    "# (numpy) arrays, so-called ndarrays (multi-dimensional arrays)"
   ]
  },
  {
   "cell_type": "markdown",
   "metadata": {},
   "source": [
    "Arrays may look like lists, but they are not. Lists can have different type of items as was shown above, while arrays can have only one type of item, like (mostly) floating point numbers. An array forms one contiguous block in memory, in which each item occupies the same number of bytes (a floating point number occupies 8 bytes, an integer 4 bytes). This means that items can be accessed at full speed using indexing and slicing. You can also add arrays of the same size together, take the power on a whole array or other functions etc, which you can never do on a list, because the list may constain completely different types of items. In fact, the items in the list are stored on different locations in memory, while the list is just a number of pointers that points to these places in memory so that they can be accessed."
   ]
  },
  {
   "cell_type": "markdown",
   "metadata": {},
   "source": [
    "If you multiply a list, you copy the list and append it like so"
   ]
  },
  {
   "cell_type": "code",
   "execution_count": 167,
   "metadata": {},
   "outputs": [
    {
     "name": "stdout",
     "output_type": "stream",
     "text": [
      "5 times list a = [3, 2, 5, 'a', 'horse', 3, 2, 5, 'a', 'horse', 3, 2, 5, 'a', 'horse', 3, 2, 5, 'a', 'horse', 3, 2, 5, 'a', 'horse']\n",
      "\n",
      "a + a + a =  [3, 2, 5, 'a', 'horse', 3, 2, 5, 'a', 'horse', 3, 2, 5, 'a', 'horse']\n"
     ]
    }
   ],
   "source": [
    "a = [3, 2, 5, 'a', 'horse']\n",
    "print('5 times list a =', 5 * a)\n",
    "print()\n",
    "print('a + a + a = ', a + a + a)"
   ]
  },
  {
   "cell_type": "code",
   "execution_count": 168,
   "metadata": {},
   "outputs": [],
   "source": [
    "b = np.array([3, 4, 5, 2, 9, 8])"
   ]
  },
  {
   "cell_type": "markdown",
   "metadata": {},
   "source": [
    "b is not a list, but an array, because `np.array(..)` function turns the given list into an array."
   ]
  },
  {
   "cell_type": "code",
   "execution_count": 169,
   "metadata": {},
   "outputs": [
    {
     "name": "stdout",
     "output_type": "stream",
     "text": [
      "<class 'list'>\n",
      "<class 'numpy.ndarray'>\n"
     ]
    }
   ],
   "source": [
    "print(type(a))\n",
    "print(type(b))"
   ]
  },
  {
   "cell_type": "code",
   "execution_count": 170,
   "metadata": {},
   "outputs": [
    {
     "name": "stdout",
     "output_type": "stream",
     "text": [
      "5 times b = [15 20 25 10 45 40]\n"
     ]
    }
   ],
   "source": [
    "print('5 times b =', 5 * b)"
   ]
  },
  {
   "cell_type": "code",
   "execution_count": 171,
   "metadata": {},
   "outputs": [
    {
     "name": "stdout",
     "output_type": "stream",
     "text": [
      "b + b + b = [ 9 12 15  6 27 24]\n"
     ]
    }
   ],
   "source": [
    "print('b + b + b =', b + b + b)"
   ]
  },
  {
   "cell_type": "code",
   "execution_count": 172,
   "metadata": {},
   "outputs": [
    {
     "name": "stdout",
     "output_type": "stream",
     "text": [
      "b * 2 * b**3 =  [  162   512  1250    32 13122  8192]\n"
     ]
    }
   ],
   "source": [
    "print('b * 2 * b**3 = ', b * 2 * b ** 3)"
   ]
  },
  {
   "cell_type": "code",
   "execution_count": 173,
   "metadata": {},
   "outputs": [
    {
     "name": "stdout",
     "output_type": "stream",
     "text": [
      "[1.73205081 2.         2.23606798 1.41421356 3.         2.82842712]\n"
     ]
    }
   ],
   "source": [
    "print(np.sqrt(b))"
   ]
  },
  {
   "cell_type": "code",
   "execution_count": 174,
   "metadata": {},
   "outputs": [
    {
     "name": "stdout",
     "output_type": "stream",
     "text": [
      "[0.02021246 0.02694853 0.03368336 0.01347549 0.06060436 0.05387748]\n"
     ]
    }
   ],
   "source": [
    "print(np.sin(b * np.exp(-5)))"
   ]
  },
  {
   "cell_type": "markdown",
   "metadata": {},
   "source": [
    "# Some ways to generate arrays"
   ]
  },
  {
   "cell_type": "code",
   "execution_count": 175,
   "metadata": {},
   "outputs": [
    {
     "name": "stdout",
     "output_type": "stream",
     "text": [
      "[3 2 4 5]\n"
     ]
    }
   ],
   "source": [
    "a = np.array([3, 2, 4, 5])\n",
    "print(a)"
   ]
  },
  {
   "cell_type": "code",
   "execution_count": 176,
   "metadata": {},
   "outputs": [
    {
     "name": "stdout",
     "output_type": "stream",
     "text": [
      "[3.  3.3 3.6 3.9 4.2 4.5 4.8 5.1 5.4 5.7 6.  6.3 6.6 6.9]\n"
     ]
    }
   ],
   "source": [
    "a = np.arange(3, 7, 0.3) # start at 3 upto (not including 7, with steps of 0.3)\n",
    "print(a)"
   ]
  },
  {
   "cell_type": "code",
   "execution_count": 177,
   "metadata": {},
   "outputs": [
    {
     "name": "stdout",
     "output_type": "stream",
     "text": [
      "[1.  1.3 1.6 1.9 2.2 2.5 2.8 3.1 3.4 3.7 4. ]\n"
     ]
    }
   ],
   "source": [
    "a = np.linspace(1, 4, 11) # give 11 points starting at 1 and ending at 4\n",
    "print(a)"
   ]
  },
  {
   "cell_type": "code",
   "execution_count": 178,
   "metadata": {},
   "outputs": [
    {
     "name": "stdout",
     "output_type": "stream",
     "text": [
      "[ 0.01        0.01258925  0.01584893  0.01995262  0.02511886  0.03162278\n",
      "  0.03981072  0.05011872  0.06309573  0.07943282  0.1         0.12589254\n",
      "  0.15848932  0.19952623  0.25118864  0.31622777  0.39810717  0.50118723\n",
      "  0.63095734  0.79432823  1.          1.25892541  1.58489319  1.99526231\n",
      "  2.51188643  3.16227766  3.98107171  5.01187234  6.30957344  7.94328235\n",
      " 10.        ]\n"
     ]
    }
   ],
   "source": [
    "a = np.logspace(-2, 1, 31) # 10**(-2) to 10**1 in 30 steps (31 values)\n",
    "print(a)"
   ]
  },
  {
   "cell_type": "code",
   "execution_count": 179,
   "metadata": {},
   "outputs": [
    {
     "name": "stdout",
     "output_type": "stream",
     "text": [
      "[0. 0. 0. 0. 0. 0. 0. 0. 0. 0. 0. 0. 0. 0. 0. 0. 0. 0. 0. 0. 0. 0. 0. 0.\n",
      " 0. 0. 0. 0. 0. 0. 0.]\n"
     ]
    }
   ],
   "source": [
    "a = np.zeros_like(a)\n",
    "print(a)"
   ]
  },
  {
   "cell_type": "code",
   "execution_count": 180,
   "metadata": {},
   "outputs": [
    {
     "name": "stdout",
     "output_type": "stream",
     "text": [
      "[[5. 5.]\n",
      " [5. 5.]\n",
      " [5. 5.]]\n"
     ]
    }
   ],
   "source": [
    "a = 5 * np.ones((3, 2)) # 2D array with 3 rows and 2 columns\n",
    "print(a)"
   ]
  },
  {
   "cell_type": "code",
   "execution_count": 181,
   "metadata": {},
   "outputs": [
    {
     "name": "stdout",
     "output_type": "stream",
     "text": [
      "[[5.         3.14159265]\n",
      " [5.         3.14159265]\n",
      " [5.         3.14159265]]\n"
     ]
    }
   ],
   "source": [
    "a[:, 1] = np.pi # replace all rows of column 2 (with index 1) by np.pi\n",
    "print(a)"
   ]
  },
  {
   "cell_type": "code",
   "execution_count": 182,
   "metadata": {},
   "outputs": [
    {
     "name": "stdout",
     "output_type": "stream",
     "text": [
      "[[-1.2246468e-15  7.7685322e-01]\n",
      " [-1.2246468e-15  7.7685322e-01]\n",
      " [-1.2246468e-15  7.7685322e-01]]\n"
     ]
    }
   ],
   "source": [
    "b = np.sin(2 * np.pi * a) # apply function on all values in array\n",
    "print(b)"
   ]
  },
  {
   "cell_type": "markdown",
   "metadata": {},
   "source": [
    "# For-loops with zipping and enumerate"
   ]
  },
  {
   "cell_type": "code",
   "execution_count": 73,
   "metadata": {},
   "outputs": [
    {
     "name": "stdout",
     "output_type": "stream",
     "text": [
      "1\n",
      "3\n",
      "5\n",
      "4\n",
      "6\n",
      "2\n",
      "2\n"
     ]
    }
   ],
   "source": [
    "a = [1, 3, 5, 4, 6, 2, 2]  # a list, this is a so-called iterable\n",
    "b = np.array(a)   # turn list a into an array, an array is also an iterable\n",
    "c = ['a', 'bear', 'c', 'd', 'echo', 'f', 'gulf'] # list of strings\n",
    "for x in a:\n",
    "    print(x)"
   ]
  },
  {
   "cell_type": "markdown",
   "metadata": {},
   "source": [
    "We can take the next of a number of iterable in each cycle of a loop, by putting the iterables in a `zip(..)` function."
   ]
  },
  {
   "cell_type": "code",
   "execution_count": 74,
   "metadata": {},
   "outputs": [
    {
     "name": "stdout",
     "output_type": "stream",
     "text": [
      "[1, 1, 'a']\n",
      "[3, 3, 'bear']\n",
      "[5, 5, 'c']\n",
      "[4, 4, 'd']\n",
      "[6, 6, 'echo']\n",
      "[2, 2, 'f']\n",
      "[2, 2, 'gulf']\n"
     ]
    }
   ],
   "source": [
    "for aa, bb, cc in zip(a, b, c):\n",
    "    print([aa, bb, cc])"
   ]
  },
  {
   "cell_type": "markdown",
   "metadata": {},
   "source": [
    "Same, but we will also have a serial number while looping. This is done by packing the iterable in an `enumerate(..)` function. Note that counting starts with 0 in python, not 1."
   ]
  },
  {
   "cell_type": "code",
   "execution_count": 75,
   "metadata": {},
   "outputs": [
    {
     "name": "stdout",
     "output_type": "stream",
     "text": [
      "[0, 1, 1, 'a']\n",
      "[1, 3, 3, 'bear']\n",
      "[2, 5, 5, 'c']\n",
      "[3, 4, 4, 'd']\n",
      "[4, 6, 6, 'echo']\n",
      "[5, 2, 2, 'f']\n",
      "[6, 2, 2, 'gulf']\n"
     ]
    }
   ],
   "source": [
    "for i, (aa, bb, cc) in enumerate(zip(a, b, c)):\n",
    "    print([i, aa, bb, cc])"
   ]
  },
  {
   "cell_type": "markdown",
   "metadata": {},
   "source": [
    "This type of  looping is efficient and extremely useful in practice. For instance we have 5 wells so 5 x vales, 5 y values 5 flows for which we want the drawdown at a given point x0, y0"
   ]
  },
  {
   "cell_type": "code",
   "execution_count": 5,
   "metadata": {},
   "outputs": [
    {
     "data": {
      "image/png": "[encoded data removed]",
      "text/plain": [
       "<Figure size 432x288 with 1 Axes>"
      ]
     },
     "metadata": {
      "needs_background": "light"
     },
     "output_type": "display_data"
    }
   ],
   "source": [
    "kD = 600 # m2/d\n",
    "S  = 0.1\n",
    "t = 1.3 # d\n",
    "xWells = [34, 123, 45. -70, -80.]\n",
    "yWells = [-23., 45., -50., -30., 20.]\n",
    "Qwells = [1200, 600., 350., 1200., 300]\n",
    "\n",
    "x0, y0 = 0.3, 6.7  # multiple assignment, handy\n",
    "\n",
    "times = [0.1, 0.25, 0.3, 0.5, 0.8, 0.82, 0.9, 1.0] # days\n",
    "\n",
    "# plot individual times as a dot\n",
    "plt.title('drawdown')\n",
    "plt.xlabel('time [d]')\n",
    "plt.ylabel('drawdown s[m]')\n",
    "plt.grid()\n",
    "\n",
    "for t in times:\n",
    "    s = 0\n",
    "    for xw, yw, Qw in zip(xWells, yWells, Qwells):\n",
    "        r = np.sqrt((x0 - xw)**2 + (y0 - yw)**2)\n",
    "        s += Qw / (4 * np.pi * kD) * exp1(r**2 * S / (4 * kD * t))\n",
    "    plt.plot(t, s, 'o')\n",
    "    \n",
    "plt.show()\n",
    "\n"
   ]
  },
  {
   "cell_type": "markdown",
   "metadata": {},
   "source": [
    "Dealing with superposition, given a set of times on which the boundary conditions change, the switch times and an array of many times at short intervals, to give a detailed graph. And you want to apply a function on only the times after a given switch time. This is what is done when we do superposition."
   ]
  },
  {
   "cell_type": "code",
   "execution_count": 8,
   "metadata": {},
   "outputs": [],
   "source": [
    "times = np.linspace(0, 360, 361) # from 0 to 360, 361 points (1 d interval)\n",
    "swt = [0, 30, 34, 60, 90, 96, 110, 150, 200, 220, 300, 305, 330]\n",
    "Q   = np.array([300, 0, 200, 50, -30, 120, 50, 60, 150, 35, -50, 100, 0])\n",
    "\n",
    "# changes of flow. hstack((a, b)) glues two arrays or a value and array together\n",
    "dQ = np.hstack( (Q[0], np.diff(Q)) )\n",
    "#print('dQ = ', dQ)"
   ]
  },
  {
   "cell_type": "code",
   "execution_count": 14,
   "metadata": {},
   "outputs": [
    {
     "data": {
      "image/png": "[encoded data removed]",
      "text/plain": [
       "<Figure size 432x288 with 1 Axes>"
      ]
     },
     "metadata": {
      "needs_background": "light"
     },
     "output_type": "display_data"
    }
   ],
   "source": [
    "xw, yw, x0, y0 = 100, 50, 0.5, -3\n",
    "r = np.sqrt((xw - x0)**2 + (yw - y0)**2)\n",
    "\n",
    "plt.title('Superposition in time, one well, many switches')\n",
    "plt.xlabel('time [d]')\n",
    "plt.ylabel('drawdown [d]')\n",
    "plt.xlim((0, 600))\n",
    "plt.grid()\n",
    "\n",
    "s = np.zeros_like(times)  # array of zeros same shape as the array of times\n",
    "for st, Q in zip(swt, dQ):\n",
    "    I = times > st  # logical array I telling which times are greater than switch time st\n",
    "     #print(I)\n",
    "    ds = Q/(4 * np.pi * kD) * exp1(r**2 * S /(4 * kD * times[I] - st))\n",
    "    plt.plot(times[I], ds, label='st = {:.0f} d'.format(st))\n",
    "    s[I] += ds\n",
    "plt.plot(times, s, 'k', lw=3, label='total')\n",
    "plt.legend()\n",
    "plt.show()\n",
    "    "
   ]
  },
  {
   "cell_type": "markdown",
   "metadata": {},
   "source": [
    "It's extremely useful to get used to logical indexing of arrays. A logical index is an array of booleans (i.e. True/False values) of the same shape as the target arrays that can be used as indices. Like so"
   ]
  },
  {
   "cell_type": "code",
   "execution_count": 101,
   "metadata": {},
   "outputs": [
    {
     "name": "stdout",
     "output_type": "stream",
     "text": [
      "[False  True False  True  True  True  True False  True]\n"
     ]
    }
   ],
   "source": [
    "a = np.array([-3, 2, -1, 1.2, 3.2, 0.7, 3.2, -3, 5.1])\n",
    "I = a > 0.15 # this yields a boolean array I\n",
    "print(I)"
   ]
  },
  {
   "cell_type": "markdown",
   "metadata": {},
   "source": [
    "Then use the boolean array to pick values"
   ]
  },
  {
   "cell_type": "code",
   "execution_count": 104,
   "metadata": {},
   "outputs": [
    {
     "name": "stdout",
     "output_type": "stream",
     "text": [
      "[2.  1.2 3.2 0.7 3.2 5.1]\n",
      "[2.  1.2 3.2 0.7 3.2 5.1]\n"
     ]
    }
   ],
   "source": [
    "b = a[I]\n",
    "print(b)\n",
    "print(a[a > 0.15]) # read \"a where a > 0.15\""
   ]
  },
  {
   "cell_type": "markdown",
   "metadata": {},
   "source": [
    "We applied logical indexing above to select the times that were greater than ts, and did something with those times only.\n",
    "\n",
    "Note that while the boolean array is as along as the target array. So boolean array `I` is as long as floating point array `a`, `a[I]` is smaller, i.e. it's as long as the number of True values in `I`"
   ]
  },
  {
   "cell_type": "code",
   "execution_count": 112,
   "metadata": {},
   "outputs": [
    {
     "name": "stdout",
     "output_type": "stream",
     "text": [
      "a.shape =  (9,)\n",
      "I.shape = (9,)\n",
      "Number of True values in I: 6\n",
      "Number of values in array a[I]:  (6,)\n",
      "Number of values in array a[I]:  6\n"
     ]
    }
   ],
   "source": [
    "print('a.shape = ', a.shape) # yields a tuple with the array dimensions here, just 9\n",
    "print('I.shape =', I.shape)\n",
    "print('Number of True values in I:', np.sum(I)) # True becomes 1 in computations\n",
    "print('Number of values in array a[I]: ', a[I].shape) # shape yields a tuple\n",
    "print('Number of values in array a[I]: ', len(a[I]))  # len yiels an integer"
   ]
  },
  {
   "cell_type": "markdown",
   "metadata": {},
   "source": [
    "Here's an example of elegant usage of logical indexing to select subareas."
   ]
  },
  {
   "cell_type": "code",
   "execution_count": 147,
   "metadata": {},
   "outputs": [
    {
     "data": {
      "image/png": "[encoded data removed]",
      "text/plain": [
       "<Figure size 432x288 with 1 Axes>"
      ]
     },
     "metadata": {
      "needs_background": "light"
     },
     "output_type": "display_data"
    }
   ],
   "source": [
    "x = np.linspace(-200, 1000, 241) #; print(x)\n",
    "y = np.random.rand(len(x)) * 1000 # randon number as many as there are x-values\n",
    "\n",
    "# logical indexing, specifying subarea, names are intuitive\n",
    "sea = x < 0\n",
    "dunes = np.logical_and(x > 0, x <=300)\n",
    "grass = np.logical_and(x > 300, x < 500)\n",
    "urban = x >= 500\n",
    "\n",
    "plt.title('Area with dots')\n",
    "plt.xlabel('x [m]')\n",
    "plt.ylabel('y [m]')\n",
    "plt.grid()\n",
    "\n",
    "plt.plot(x[sea], y[sea], 'b.', label='sea')           # b. means blue as dots\n",
    "plt.plot(x[dunes], y[dunes], 'y.', label='dune area') # y. means yellow as dots\n",
    "plt.plot(x[grass], y[grass], 'g.', label = 'meadows') # g. means green as dots\n",
    "plt.plot(x[urban], y[urban], 'm.' , label= 'urban')   # m. means magenta as dots\n",
    "\n",
    "plt.legend()\n",
    "plt.show()"
   ]
  },
  {
   "cell_type": "markdown",
   "metadata": {},
   "source": [
    "# Generating lists with comprehensions and filtering them"
   ]
  },
  {
   "cell_type": "code",
   "execution_count": 187,
   "metadata": {},
   "outputs": [],
   "source": [
    "a = [-3, 2, -1, 1.2, 3.2, 0.7, 3.2, -3, 5.1]"
   ]
  },
  {
   "cell_type": "markdown",
   "metadata": {},
   "source": [
    "Generate a list from this array with values greater than 1.1"
   ]
  },
  {
   "cell_type": "code",
   "execution_count": 192,
   "metadata": {},
   "outputs": [
    {
     "name": "stdout",
     "output_type": "stream",
     "text": [
      "b =  [-3, 2, -1, 1.2, 3.2, 0.7, 3.2, -3, 5.1]\n",
      "\n",
      "b =  [2, 1.2, 3.2, 3.2, 5.1]\n"
     ]
    }
   ],
   "source": [
    "b = [y for y in a] # most basic list comprehension, b will be the same as a\n",
    "print('b = ', b)\n",
    "print()\n",
    "b = [x for x in a if x > 1.1] # same but filtering out some values according to condition\n",
    "print('b = ', b)"
   ]
  },
  {
   "cell_type": "code",
   "execution_count": 116,
   "metadata": {},
   "outputs": [
    {
     "name": "stdout",
     "output_type": "stream",
     "text": [
      "[1.3862943611198906, 0.36464311358790924, 2.3263016196113617, -0.7133498878774649, 2.3263016196113617, 3.25848107946056]\n"
     ]
    }
   ],
   "source": [
    "c = [np.log(x**2) for x in a if x > 0]\n",
    "print(c)"
   ]
  },
  {
   "cell_type": "code",
   "execution_count": 118,
   "metadata": {},
   "outputs": [
    {
     "data": {
      "text/plain": [
       "['AHA', 'JOHN']"
      ]
     },
     "execution_count": 118,
     "metadata": {},
     "output_type": "execute_result"
    }
   ],
   "source": [
    "a = ['aha', 1, np.array([3, 4.2]), 'John']\n",
    "[x.upper() for x in a if isinstance(x, str)] # get the strings from the list of items in uppercase"
   ]
  },
  {
   "cell_type": "markdown",
   "metadata": {},
   "source": [
    "Clearly, comprehensions are extremely flexible for generating new lists from iterables (an iterable can be a list, tuple, array, string, i.e. is somethign you can iterate over like in `for this in that`. Then `that` is the iterable and `this` is an item from the iterable.\n",
    "\n",
    "You can always turn the obtained list into an array if it contains only numbers:"
   ]
  },
  {
   "cell_type": "code",
   "execution_count": 123,
   "metadata": {},
   "outputs": [
    {
     "name": "stdout",
     "output_type": "stream",
     "text": [
      "[0.44360758 0.55146249 0.27013734 0.91942316 0.44321882 0.40393045\n",
      " 0.3955952  0.98448821 0.250119   0.78179419]\n"
     ]
    }
   ],
   "source": [
    "a = np.random.rand(10) # 10 random numbers\n",
    "print(a)"
   ]
  },
  {
   "cell_type": "code",
   "execution_count": 138,
   "metadata": {},
   "outputs": [
    {
     "name": "stdout",
     "output_type": "stream",
     "text": [
      "b =  [0.4436075826177891, 0.5514624923760638, 0.2701373390467795, 0.9194231636648504, 0.4432188182406721, 0.4039304509960895, 0.39559519895019424, 0.9844882108827223, 0.2501190033859848, 0.781794191943657]\n",
      "\n",
      "c =  [0.44360758 0.55146249 0.27013734 0.91942316 0.44321882 0.40393045\n",
      " 0.3955952  0.98448821 0.250119   0.78179419]\n",
      "\n",
      "d =  ['y = 0.44', 'y = 0.27', 'y = 0.44', 'y = 0.40', 'y = 0.40', 'y = 0.25']\n",
      "joined into a single string:  y = 0.44;  y = 0.27;  y = 0.44;  y = 0.40;  y = 0.40;  y = 0.25\n"
     ]
    }
   ],
   "source": [
    "b = [y for y in a if y > 0.2]\n",
    "print('b = ', b) # list\n",
    "print()\n",
    "c = np.array([y for y in a if y > 0.2])\n",
    "print('c = ', c) # an array\n",
    "print()\n",
    "d = ['y = {:.2f}'.format(y) for y in a if y < 0.5] # an array of strings\n",
    "print('d = ', d)\n",
    "print('joined into a single string: ', ';  '.join(d)) # this is now a string"
   ]
  },
  {
   "cell_type": "markdown",
   "metadata": {},
   "source": [
    "# Conclusions"
   ]
  },
  {
   "cell_type": "markdown",
   "metadata": {},
   "source": [
    "* We showed strings, tuples, lists and numerical arrays (numpy ndarrays), which are all iterables (can be iterated over)\n",
    "* We showed some basic logical indexing\n",
    "* And used in loops\n",
    "* We looped using several iterable in parallel to get values of them that belong together like  the x, y and Q of successive wells.\n",
    "\n",
    "* We have only used one-dimensional arrays here. That is we only scratched the surface of the possibilities. \n",
    "* We did not use list of lists or list of tuples or tuples of lists etc. either. \n",
    "* We only used basic examples of list-comprehensions.\n",
    "* We did not look at dicts and dict comprehensions (generating dictionaries)\n",
    "* We only showed the simplist logical indexing\n",
    "\n",
    "* There is still a world of plotting possibilities to be explored (matplotlib gallery)\n",
    "* But it's a good start.\n",
    " "
   ]
  },
  {
   "cell_type": "code",
   "execution_count": null,
   "metadata": {},
   "outputs": [],
   "source": []
  }
 ],
 "metadata": {
  "kernelspec": {
   "display_name": "Python 3",
   "language": "python",
   "name": "python3"
  },
  "language_info": {
   "codemirror_mode": {
    "name": "ipython",
    "version": 3
   },
   "file_extension": ".py",
   "mimetype": "text/x-python",
   "name": "python",
   "nbconvert_exporter": "python",
   "pygments_lexer": "ipython3",
   "version": "3.7.0"
  }
 },
 "nbformat": 4,
 "nbformat_minor": 2
}
