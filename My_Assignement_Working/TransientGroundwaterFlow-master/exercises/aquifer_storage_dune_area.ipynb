{
 "cells": [
  {
   "cell_type": "markdown",
   "metadata": {},
   "source": [
    "# Q1, Q2 and Q5 on page 53 of the syllabus\n",
    "\n",
    "A canal in a dune area is used to provide storage for drinking water in the case of an emergency. During this emergency, the water level in the canal is suddenly lowered by 5 m."
   ]
  },
  {
   "cell_type": "code",
   "execution_count": 2,
   "metadata": {},
   "outputs": [],
   "source": [
    "import numpy as np\n",
    "import matplotlib.pyplot as plt\n",
    "import scipy.special as sp"
   ]
  },
  {
   "cell_type": "code",
   "execution_count": 3,
   "metadata": {},
   "outputs": [],
   "source": [
    "kD = 100 # m2/d\n",
    "S = 0.2 # [-]\n",
    "A = 5 # m, the sudden drop of head in the canal"
   ]
  },
  {
   "cell_type": "markdown",
   "metadata": {},
   "source": [
    "## Q1\n",
    "How much water will flow into the canal from two sides in 1 day, 1 week, 1 month and 6 weeks?\n",
    "\n",
    "The transient flow solution that applies is\n",
    "\n",
    "$$ s = A \\, erfc ( u) =  A \\frac {2} {\\sqrt \\pi} \\intop_u^\\infty e^{-y^2} dt $$\n",
    "\n",
    "$$ u = \\sqrt{\\frac {x^2 S} {4 kD t}} $$\n",
    "\n",
    "the flow Q is\n",
    "\n",
    "$$ Q = -kD \\frac {\\partial s} {\\partial x} $$\n",
    "\n",
    "$$ Q = A \\sqrt{ \\frac {kD S} {\\pi t}}  \\exp \\left( -u^2 \\right)$$\n",
    "\n",
    "at $x=0$\n",
    "\n",
    "$$ Q = A \\sqrt{ \\frac {kD S} {\\pi t}}$$\n",
    "\n",
    "The extracted volume since $t=0$ is\n",
    "\n",
    "$$ V = \\intop_0^t Q dt = A \\sqrt {\\frac {4 kD S t} {\\pi} } $$\n"
   ]
  },
  {
   "cell_type": "code",
   "execution_count": 4,
   "metadata": {},
   "outputs": [
    {
     "name": "stdout",
     "output_type": "stream",
     "text": [
      "t =    1 d, V =   25.2 m3/d\n",
      "t =    7 d, V =   66.8 m3/d\n",
      "t =   30 d, V =  138.2 m3/d\n",
      "t =   42 d, V =  163.5 m3/d\n"
     ]
    }
   ],
   "source": [
    "times = [1, 7, 30, 42] # days\n",
    "\n",
    "for t in times:\n",
    "    V = A * np.sqrt(4 * kD * S * t / np.pi)\n",
    "    #print('t =', t, 'd, V =', V, 'm3/m')\n",
    "    print('t = {:4.0f} d, V = {:6.1f} m3/d'.format(t, V))"
   ]
  },
  {
   "cell_type": "markdown",
   "metadata": {},
   "source": [
    "## Q2\n",
    "What is the drawdown after 6 weeks at different distances ? "
   ]
  },
  {
   "cell_type": "code",
   "execution_count": 28,
   "metadata": {},
   "outputs": [
    {
     "name": "stdout",
     "output_type": "stream",
     "text": [
      "s[t=42d] at x=   0m = 5.00 m\n",
      "s[t=42d] at x=  10m = 4.81 m\n",
      "s[t=42d] at x= 100m = 3.13 m\n",
      "s[t=42d] at x= 300m = 0.72 m\n",
      "s[t=42d] at x=1000m = 0.00 m\n"
     ]
    }
   ],
   "source": [
    "# distances\n",
    "x = [0,10, 100, 300, 1000] # m\n",
    "t = 7 * 6 #d (6 weeks)\n",
    "\n",
    "for xx in x:\n",
    "    s = A * sp.erfc(np.sqrt(xx**2 * S / (4 * kD * t)))    \n",
    "    print('s[t={}d] at x={:4.0f}m = {:4.2f} m'.format(t, xx, s))\n",
    "\n"
   ]
  },
  {
   "cell_type": "markdown",
   "metadata": {},
   "source": [
    "## Q5\n",
    "Wat is the ratio between the amount of groundwater extracted in 6 weeks compared to the amount of water in the 20 m wide canal?\n",
    "\n",
    "From the ground we have from two sides\n",
    "\n",
    "$$ V =  2 \\, A \\sqrt {\\frac {4 kD S t} {\\pi} } $$\n",
    "\n",
    "The volume in the canal is\n",
    "\n",
    "$$ V_{canal} = A w $$\n",
    "\n",
    "with $w$ the canal width.\n",
    "\n",
    "Hence\n",
    "\n",
    "$$ \\frac {V_{canal}} {V_{grw} } = \\frac {w \\sqrt{\\pi}} {2 \\sqrt{4 kD S t}}$$\n",
    "\n"
   ]
  },
  {
   "cell_type": "code",
   "execution_count": 35,
   "metadata": {},
   "outputs": [
    {
     "name": "stdout",
     "output_type": "stream",
     "text": [
      "V_c over V after 42 days = 31%\n"
     ]
    }
   ],
   "source": [
    "w = 20 # m, width of canal\n",
    "t = 42 # d\n",
    "\n",
    "# V_c over V is the ratio of the water from the canal over that from the ground\n",
    "\n",
    "V_c_over_V = w * np.sqrt(np.pi) / (2 * np.sqrt(4 * kD * S *t))\n",
    "\n",
    "print('V_c over V after {} days = {:.0%}'.format(t, V_c_over_V))"
   ]
  },
  {
   "cell_type": "code",
   "execution_count": null,
   "metadata": {
    "collapsed": true
   },
   "outputs": [],
   "source": []
  }
 ],
 "metadata": {
  "kernelspec": {
   "display_name": "Python 3",
   "language": "python",
   "name": "python3"
  },
  "language_info": {
   "codemirror_mode": {
    "name": "ipython",
    "version": 3
   },
   "file_extension": ".py",
   "mimetype": "text/x-python",
   "name": "python",
   "nbconvert_exporter": "python",
   "pygments_lexer": "ipython3",
   "version": "3.7.0"
  }
 },
 "nbformat": 4,
 "nbformat_minor": 2
}
