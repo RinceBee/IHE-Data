{
 "cells": [
  {
   "cell_type": "code",
   "execution_count": null,
   "metadata": {},
   "outputs": [],
   "source": [
    "kD, S= 900, 0.25\n",
    "Q1, t1=6797.28, 0\n",
    "Q2, t2=6099.48, 30\n",
    "Q3,t3 =5847.55, 60\n",
    "Q4, t4=5717.77, 90\n",
    "Q5, t5=5638.68, 120\n",
    "Q6, t6=5585.44, 150 \n",
    "Q7,t7=0,180\n",
    "r1 = 50\n",
    "r2=70.71\n",
    "r3=850\n",
    "r4=851.71\n",
    "t=203.5 #days\n",
    "u1=r1**2*S/(4*np.pi*kD *(t-t1))\n",
    "u2=r2**2*S/(4*np.pi*kD *(t-t1))\n",
    "u3=r3**2*S/(4*np.pi*kD *(t-t1))\n",
    "u4=r4**2*S/(4*np.pi*kD *(t-t1))\n",
    "u5=r1**2*S/(4*np.pi*kD *(t-t2))\n",
    "u6=r2**2*S/(4*np.pi*kD *(t-t2))\n",
    "u7=r3**2*S/(4*np.pi*kD *(t-t2))\n",
    "u8=r4**2*S/(4*np.pi*kD *(t-t2))\n",
    "u9=r1**2*S/(4*np.pi*kD *(t-t3))\n",
    "u10=r2**2*S/(4*np.pi*kD *(t-t3))\n",
    "u11=r3**2*S/(4*np.pi*kD *(t-t3))\n",
    "u12=r4**2*S/(4*np.pi*kD *(t-t3))\n",
    "u13=r1**2*S/(4*np.pi*kD *(t-t4))\n",
    "u14=r2**2*S/(4*np.pi*kD *(t-t4))\n",
    "u15=r3**2*S/(4*np.pi*kD *(t-t4))\n",
    "u16=r4**2*S/(4*np.pi*kD *(t-t4))\n",
    "u17=r1**2*S/(4*np.pi*kD *(t-t5))\n",
    "u18=r2**2*S/(4*np.pi*kD *(t-t5))\n",
    "u19=r3**2*S/(4*np.pi*kD *(t-t5))\n",
    "u20=r4**2*S/(4*np.pi*kD *(t-t5))\n",
    "u21=r1**2*S/(4*np.pi*kD *(t-t6))\n",
    "u22=r2**2*S/(4*np.pi*kD *(t-t6))\n",
    "u23=r3**2*S/(4*np.pi*kD *(t-t6))\n",
    "u24=r4**2*S/(4*np.pi*kD *(t-t6))\n",
    "u25=r1**2*S/(4*np.pi*kD *(t-t7))\n",
    "u26=r2**2*S/(4*np.pi*kD *(t-t7))\n",
    "u27=r3**2*S/(4*np.pi*kD *(t-t7))\n",
    "u28=r4**2*S/(4*np.pi*kD *(t-t7))\n",
    "F=4*np.pi*kD\n",
    "s= ((1/F)*((Q1*(W(u1)+W(u2)-W(u3)-W(u4)))+((Q2-Q1)*(W(u5)+W(u6)-W(u7)-W(u8)))+((Q3-Q2)*(W(u9)+W(u10)-W(u11)-W(u12)))+\n",
    "           ((Q4-Q3)*(W(u13)+W(u14)-W(u15)-W(u16)))+((Q5-Q4)*(W(u17)+W(u18)-W(u19)-W(u20)))+\n",
    "           ((Q6-Q5)*(W(u21)+W(u22)-W(u23)-W(u24)))+((Q7-Q6)*(W(u25)+W(u26)-W(u27)-W(u28))) ) )\n",
    "print(round(s,2))  \n",
    "print ('So, after', round((t-180),2), 'days  from the stopage of well the drawdowm of 4.5 m will be disappeared, so tha the value of drawdown will be',round(s,2), 'm.')"
   ]
  }
 ],
 "metadata": {
  "kernelspec": {
   "display_name": "Python 3",
   "language": "python",
   "name": "python3"
  },
  "language_info": {
   "codemirror_mode": {
    "name": "ipython",
    "version": 3
   },
   "file_extension": ".py",
   "mimetype": "text/x-python",
   "name": "python",
   "nbconvert_exporter": "python",
   "pygments_lexer": "ipython3",
   "version": "3.7.0"
  }
 },
 "nbformat": 4,
 "nbformat_minor": 2
}
