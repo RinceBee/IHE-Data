{
 "cells": [
  {
   "cell_type": "markdown",
   "metadata": {},
   "source": [
    "# Theis well near a river\n",
    "\n",
    "Assume we have a well near a river that is in good contact with the aquifer. For the rest, the aquifer extends to infinity.\n",
    "\n",
    "To simulate the well in relation to the river we need a mirror well at the opposite side, with opposite flow.\n",
    "\n",
    "The Theis well drawdown is\n",
    "\n",
    "$$ s = \\frac {Q_0} {4 \\pi kD} W(u) $$\n",
    "\n",
    "where\n",
    "\n",
    "$$ W(u) = exp1(u)$$\n",
    "\n",
    "the exponential integral, and\n",
    "\n",
    "$$ u = \\frac {r^2 S} { 4 kD t} $$\n",
    "\n",
    "\n",
    "\n",
    "The flow throug a ring with radius $r$ caused by such as well equals\n",
    "\n",
    "$$ Q_r = Q_0 e^{-u} $$\n",
    "\n",
    "\n",
    "\n",
    "Assume the river is straight along the y axis, and that the well is at point ($-a,\\, 0$) and has a constant extraction $Q$ starting at $t=0$.\n",
    "\n",
    "To simulate a river that causes a constant head in the groundwater, we just place a mirror well with opposite flow at the other side of the river shore, at location ($+a,\\, 0$)\n",
    "\n",
    "We will first compute the drawdown in an arbitrary point, not necessarily at the river shore. Next we well compute the inflow from the river. "
   ]
  },
  {
   "cell_type": "code",
   "execution_count": 20,
   "metadata": {
    "collapsed": true
   },
   "outputs": [],
   "source": [
    "import numpy as np\n",
    "import matplotlib.pyplot as plt\n",
    "import scipy.special as sp\n",
    "W = sp.exp1"
   ]
  },
  {
   "cell_type": "code",
   "execution_count": 21,
   "metadata": {},
   "outputs": [
    {
     "name": "stdout",
     "output_type": "stream",
     "text": [
      "The ddn s at x0=50.0, y0=100.0 at t=1.00 d with Q=1200 m3/d equals -0.02 m\n"
     ]
    }
   ],
   "source": [
    "kD = 600 # m2/d\n",
    "S = 0.2 # [-]\n",
    "x0 = 250 # m # distance from river\n",
    "Q = 1200 # m3/d, extraction of te real well\n",
    "r0 = 0.25 # well radius\n",
    "t = 1.0 # d\n",
    "a = 125 # m distance between well and river shore\n",
    "\n",
    "# locations of well, mirror well an observation points\n",
    "x1, y1 = -a, 0.  # location of extraction well\n",
    "x2, y2 = +a, 0.  # location of mirror well\n",
    "x0, y0 = 50., 100.  # location of observation point\n",
    "\n",
    "r1 = np.sqrt((x1 - x0)**2 + (y1 - y0)**2)\n",
    "r2 = np.sqrt((x2 - x0)**2 + (y2 - y0)**2)\n",
    "\n",
    "u1 = r1 ** 2 * S / (4 * kD * t)\n",
    "u2 = r2 ** 2 * S / (4 * kD * t)\n",
    "\n",
    "# drawdown\n",
    "s = Q /(4 * np.pi * kD) * (W(u1) - W(u2)) # minus because mirror well has opposite Q\n",
    "\n",
    "print(\"The ddn s at x0={:.1f}, y0={:.1f} at t={:.2f} d with Q={:.0f} m3/d equals {:.2f} m\"\\\n",
    "      .format(x0, y0, t, Q, s))\n",
    "                       "
   ]
  },
  {
   "cell_type": "markdown",
   "metadata": {},
   "source": [
    "## Many observation points\n",
    "\n",
    "Instead of 1 observation point, we can take many, for instance along a line throug both wells.\n",
    "\n",
    "To prevent that the distance r becomes zero at the cell center, we set the minimum distance equal to the well radius $r_w$, which will normally be around 0.25 m."
   ]
  },
  {
   "cell_type": "code",
   "execution_count": 22,
   "metadata": {},
   "outputs": [
    {
     "data": {
      "image/png": "[encoded data removed]",
      "text/plain": [
       "<Figure size 432x288 with 1 Axes>"
      ]
     },
     "metadata": {
      "needs_background": "light"
     },
     "output_type": "display_data"
    }
   ],
   "source": [
    "# Drawdown as arbitraty points x, y\n",
    "x  = np.linspace(-2 * a, 2 * a, 201)\n",
    "#y  =np.linspace(-25,25,201)\n",
    "y  = np.zeros_like(x)\n",
    "rw = 0.25 # well radius (radius of borehole)\n",
    "\n",
    "r1 = np.sqrt((x1 - x)**2 + (y1 - y)**2)\n",
    "r2 = np.sqrt((x2 - x)**2 + (y2 - y)**2)\n",
    "#print(r1,r2)\n",
    "# Use logical indexing to set only a limited number of points\n",
    "# Logical indexing gives as many values as the array that are \n",
    "# True of correct and False otherwise. Only the True values will be set.\n",
    "r1[r1<rw] = rw\n",
    "r2[r2<rw] = rw\n",
    "\n",
    "u1 = r1**2 * S / (4 * kD * t)\n",
    "u2 = r2**2 * S / (4 * kD * t)\n",
    "\n",
    "s = Q / (4 * np.pi *kD) * (W(u1) - W(u2))\n",
    "plt.title('Drawdown along a line throug the well and its mirror')\n",
    "plt.xlabel('x [m], y=0')\n",
    "plt.ylabel('s [m]')\n",
    "plt.grid()\n",
    "plt.plot(x, s)\n",
    "plt.ylim(2, -2) # invert the direction of the y-axis\n",
    "\n",
    "plt.show()"
   ]
  },
  {
   "cell_type": "code",
   "execution_count": 26,
   "metadata": {},
   "outputs": [
    {
     "data": {
      "image/png": "[encoded data removed]",
      "text/plain": [
       "<Figure size 432x288 with 1 Axes>"
      ]
     },
     "metadata": {
      "needs_background": "light"
     },
     "output_type": "display_data"
    }
   ],
   "source": [
    "# Drawdown as arbitraty points x, y\n",
    "x  = np.linspace(-2 * a, 2 * a, 201)\n",
    "#y  =np.linspace(-25,25,201)\n",
    "y  = np.zeros_like(x)+50\n",
    "rw = 0.25 # well radius (radius of borehole)\n",
    "\n",
    "r1 = np.sqrt((x1 - x)**2 + (y1 - y)**2)\n",
    "r2 = np.sqrt((x2 - x)**2 + (y2 - y)**2)\n",
    "#print(r1,r2)\n",
    "# Use logical indexing to set only a limited number of points\n",
    "# Logical indexing gives as many values as the array that are \n",
    "# True of correct and False otherwise. Only the True values will be set.\n",
    "r1[r1<rw] = rw\n",
    "r2[r2<rw] = rw\n",
    "\n",
    "u1 = r1**2 * S / (4 * kD * t)\n",
    "u2 = r2**2 * S / (4 * kD * t)\n",
    "\n",
    "s = Q / (4 * np.pi *kD) * (W(u1) - W(u2))\n",
    "plt.title('Drawdown along a line throug the well and its mirror')\n",
    "plt.xlabel('x [m], y=1')\n",
    "plt.ylabel('s [m]')\n",
    "plt.grid()\n",
    "plt.plot(x, s)\n",
    "plt.ylim(2, -2) # invert the direction of the y-axis\n",
    "\n",
    "plt.show()"
   ]
  },
  {
   "cell_type": "markdown",
   "metadata": {},
   "source": [
    "# Compute the flow across a ring with radius r\n",
    "\n",
    "The total flow across a ring with radius $r$ around a transient well is\n",
    "\n",
    "$$ Q_r = Q_0 e^{-u} $$\n",
    "\n",
    "And the specific discharge\n",
    "\n",
    "$$ q_r = \\frac {Q_0} {2 \\pi r} e^{-u} $$\n",
    "\n",
    "and points in the direction of the well."
   ]
  },
  {
   "cell_type": "markdown",
   "metadata": {},
   "source": [
    "#### The specific discharge as randomly chosen points around a well\n",
    "\n",
    "Here we have a single well in location x0, y0 and a set random points with coordinates in the arrays x, and y.\n",
    "\n",
    "The specific discharge is computed at all points. Then we compute the x and y components of these vectors. Finally we show them in a simple way, in which the point is indicated by a small circle and the discharge vector by a line with length proportional to its strength."
   ]
  },
  {
   "cell_type": "code",
   "execution_count": 15,
   "metadata": {},
   "outputs": [
    {
     "data": {
      "image/png": "[encoded data removed]",
      "text/plain": [
       "<matplotlib.figure.Figure at 0x15127ce978>"
      ]
     },
     "metadata": {},
     "output_type": "display_data"
    }
   ],
   "source": [
    "Q0 = 1200 # m3/d Well\n",
    "x0, y0 = 0., 0.  # the location of the well\n",
    "\n",
    "# The random observation points\n",
    "a = 50 # m  a length to scale randomly chosen points\n",
    "x = a * (np.random.randn(25) - 0.5)  # choose 25 random values\n",
    "y = a * (np.random.randn(25) - 0.5)  # same\n",
    "\n",
    "# Distance from each point to the well\n",
    "r = np.sqrt((x-x0)**2 + (y-y0)**2)\n",
    "\n",
    "# u\n",
    "u = r**2 * S /(4 * kD * t)\n",
    "\n",
    "# the specific discharge\n",
    "q = Q0 / (2 * np.pi * r) * np.exp(-u) # m2/d\n",
    "alpha = np.arctan2(y - y0, x- x0) # angle between vector and horizontal\n",
    "qx = q * np.cos(alpha)   # x component of specific discharge\n",
    "qy = q * np.sin(alpha)   # y component of specific discharge\n",
    "\n",
    "scale = 2.0 # scale factor to plot specific discharge vectors\n",
    "\n",
    "# plot the location of the well as  black ('k') circle ('o') of size 8\n",
    "plt.plot(x0, y0, 'ko', markersize=8)\n",
    "\n",
    "# in a loop, plot one vector after another\n",
    "for xx, yy, qxx, qyy in zip(x, y, qx, qy):\n",
    "    plt.plot(x, y, 'o', markersize=4)    # plot marker at obs. point\n",
    "    plt.plot([x, x - scale * qx], [y, y - scale * qy]) # plot vector\n",
    "\n",
    "# embelishment of the plot\n",
    "plt.title('Specific discharge vectors due to well at x0={:.1f}, y0={:.1f}'\\\n",
    "         .format(x0, y0))\n",
    "plt.xlabel('x [m]')\n",
    "plt.ylabel('y [m]')\n",
    "plt.grid()\n",
    "\n",
    "# show it all\n",
    "plt.show()"
   ]
  },
  {
   "cell_type": "markdown",
   "metadata": {},
   "source": [
    "## Inflow from the river"
   ]
  },
  {
   "cell_type": "code",
   "execution_count": 17,
   "metadata": {},
   "outputs": [
    {
     "data": {
      "image/png": "[encoded data removed]",
      "text/plain": [
       "<matplotlib.figure.Figure at 0x1512db7dd8>"
      ]
     },
     "metadata": {},
     "output_type": "display_data"
    }
   ],
   "source": [
    "Q = 1200 # m3/d\n",
    "\n",
    "b = 125 # m, distance of well to river shore\n",
    "x1, y1 = -b, 0 # location of well\n",
    "x2, y2 = +b, 0 # location of mirror well\n",
    "\n",
    "y = np.linspace(-1000, 1000, 81)\n",
    "x = np.zeros_like(y)\n",
    "\n",
    "r1 = np.sqrt((x - x1) ** 2 + (y - y1) ** 2)\n",
    "r2 = np.sqrt((x - x2) ** 2 + (y - y2) ** 2)\n",
    "\n",
    "u1 = r1 ** 2 * S / (4 * kD * t)\n",
    "u2 = r2 ** 2 * S / (4 * kD * t)\n",
    "\n",
    "q1 = +Q / (2 * np.pi * r1) * np.exp(-u1)\n",
    "q2 = -Q / (2 * np.pi * r2) * np.exp(-u2)\n",
    "\n",
    "alpha1 = np.arctan2(y, x - x1)\n",
    "alpha2 = np.arctan2(y, x - x2)\n",
    "\n",
    "qx = q1 * np.cos(alpha1) + q2 * np.cos(alpha2)\n",
    "qy = q1 * np.sin(alpha1) + q2 * np.sin(alpha2)\n",
    "\n",
    "qin = qx\n",
    "\n",
    "plt.title('Inflow along the river')\n",
    "plt.xlabel('y [m]')\n",
    "plt.ylabel('inflow m2/d')\n",
    "plt.grid()\n",
    "plt.plot(y, qin)\n",
    "plt.show()"
   ]
  },
  {
   "cell_type": "markdown",
   "metadata": {},
   "source": [
    "###  Compute the total inflow for a single time\n",
    "\n",
    "We have to integrate the inflow along the y axis.\n",
    "\n",
    "To do this, we take the pieces $\\Delta y$ between the chosen point on the $y$ axis and multiply them with the averate value of $q_{in}$ at each piece on the $y$ axis."
   ]
  },
  {
   "cell_type": "code",
   "execution_count": 29,
   "metadata": {},
   "outputs": [
    {
     "name": "stdout",
     "output_type": "stream",
     "text": [
      "Total inflow with Q=1200 at t=200.0 d equals 1067.9 m3/d\n"
     ]
    }
   ],
   "source": [
    "dy = y[1:] - y[:-1]\n",
    "qm = 0.5 * (qin[:-1] + qin[1:])\n",
    "Qin = np.sum(qm * dy)\n",
    "print('Total inflow with Q={:.0f} at t={:.1f} d equals {:.1f} m3/d'\\\n",
    "     .format(Q, t, Qin))"
   ]
  },
  {
   "cell_type": "markdown",
   "metadata": {},
   "source": [
    "# Show the total inflow for many times but a constant well extraction\n",
    "\n",
    "To to this, a loop it necessary to compute the inflow for each time at a time and collect the results."
   ]
  },
  {
   "cell_type": "markdown",
   "metadata": {},
   "source": [
    "# Everything combined, many times, with varying well extraction\n",
    "\n",
    "Every winter the extration is Q0 and during the summer it is -Q0"
   ]
  },
  {
   "cell_type": "markdown",
   "metadata": {},
   "source": [
    "We simulate 10 years using superosition in time. The winter injection\n",
    "will start each year in September and the summer extraction each year in april. Let's define the start times in days since the start of of the first year, assuming for simplicity that a month as always 30 days."
   ]
  },
  {
   "cell_type": "code",
   "execution_count": 15,
   "metadata": {
    "collapsed": true
   },
   "outputs": [],
   "source": [
    "Q0 = 2400 # m3/d\n",
    "kD = 500 # m2/d\n",
    "S  = 0.2 # [-]\n",
    "\n",
    "# all variable that are constant in time:\n",
    "\n",
    "b = 1500 # m, distance of well to river shore\n",
    "x1, y1 = -b, 0 # location of well\n",
    "x2, y2 = +b, 0 # location of mirror well\n",
    "\n",
    "# all parameters that are constant in time \n",
    "y = np.linspace(-1000, 1000, 81)\n",
    "x = np.zeros_like(y)\n",
    "\n",
    "dy = y[1:] - y[:-1]\n",
    "\n",
    "r1 = np.sqrt((x - x1) ** 2 + (y - y1) ** 2)\n",
    "r2 = np.sqrt((x - x2) ** 2 + (y - y2) ** 2)\n",
    "\n",
    "alpha1 = np.arctan2(y, x - x1)\n",
    "alpha2 = np.arctan2(y, x - x2)\n",
    "\n"
   ]
  },
  {
   "cell_type": "markdown",
   "metadata": {},
   "source": [
    "The first time the injection is Q.\n",
    "Then at each time when extraction starts, is has -2Q\n",
    "And then each time when we switch back to injection the flow is +2Q\n",
    "\n",
    "The flows to be used for superposition in time are\n",
    "\n",
    "Month  9,  15,  21,  27,  33,  39,  45, ...\n",
    "\n",
    "Flow   Q, -2Q, 2Q, -2Q,  2Q, -2Q,  2Q, ...\n",
    "\n",
    "Now define the times at which the total inflow is to be computed."
   ]
  },
  {
   "cell_type": "code",
   "execution_count": 16,
   "metadata": {},
   "outputs": [
    {
     "name": "stdout",
     "output_type": "stream",
     "text": [
      "Tsw[d]    Qsw\n",
      "   270   2400\n",
      "   450  -4800\n",
      "   630   4800\n",
      "   810  -4800\n",
      "   990   4800\n",
      "  1170  -4800\n",
      "  1350   4800\n",
      "  1530  -4800\n",
      "  1710   4800\n",
      "  1890  -4800\n",
      "  2070   4800\n",
      "  2250  -4800\n",
      "  2430   4800\n",
      "  2610  -4800\n",
      "  2790   4800\n",
      "  2970  -4800\n",
      "  3150   4800\n",
      "  3330  -4800\n",
      "  3510   4800\n"
     ]
    }
   ],
   "source": [
    "# Set the times when pumping switches\n",
    "#              start, end, step\n",
    "month = np.arange(9, 120, 6) # month numbers at which flow switches\n",
    "                            #counting from Jan 1 in first year\n",
    "Tsw = 30 * month   # t at which flow switches in days\n",
    "\n",
    "# set the pumping flow at the switch points\n",
    "Qsw = Q0 * 2 * (-1) ** np.arange(len(Tsw))\n",
    "Qsw[0] = Q0\n",
    "\n",
    "# Show them\n",
    "print('{:>6} {:>6}'.format('Tsw[d]', 'Qsw'))\n",
    "for tsw, Q in zip(Tsw, Qsw):\n",
    "    print('{:6.0f} {:6.0f}'.format(tsw, Q))\n"
   ]
  },
  {
   "cell_type": "markdown",
   "metadata": {},
   "source": [
    "Choose times at which we want to see the total inflow"
   ]
  },
  {
   "cell_type": "code",
   "execution_count": 12,
   "metadata": {
    "collapsed": true
   },
   "outputs": [],
   "source": [
    "# The small values prevents computing flows at the time the well starts\n",
    "# t is now just a negilible time later.\n",
    "#            start  end      step\n",
    "times = np.arange(0, 30 * 12 * 10, 10) + 0.00001  # 10 years in days in 10 day steps"
   ]
  },
  {
   "cell_type": "markdown",
   "metadata": {},
   "source": [
    "Actual computation for all times"
   ]
  }
 ],
 "metadata": {
  "kernelspec": {
   "display_name": "Python 3",
   "language": "python",
   "name": "python3"
  },
  "language_info": {
   "codemirror_mode": {
    "name": "ipython",
    "version": 3
   },
   "file_extension": ".py",
   "mimetype": "text/x-python",
   "name": "python",
   "nbconvert_exporter": "python",
   "pygments_lexer": "ipython3",
   "version": "3.7.0"
  }
 },
 "nbformat": 4,
 "nbformat_minor": 2
}
