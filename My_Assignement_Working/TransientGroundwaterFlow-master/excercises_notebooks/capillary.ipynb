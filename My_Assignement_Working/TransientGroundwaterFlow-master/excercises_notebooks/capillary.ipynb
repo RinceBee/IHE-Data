{
 "cells": [
  {
   "cell_type": "markdown",
   "metadata": {},
   "source": [
    "# Suction and capillary fringe thickness (p 20)"
   ]
  },
  {
   "cell_type": "markdown",
   "metadata": {},
   "source": [
    "How much capillary rise can we expect depending on pore radius?\n",
    "\n",
    "(see exercise 14 on page 27 of the syllabus.\n",
    "\n",
    "\n",
    "T.N. Olsthoorn (2018-12-30)"
   ]
  },
  {
   "cell_type": "code",
   "execution_count": 1,
   "metadata": {},
   "outputs": [],
   "source": [
    "import nbconvert"
   ]
  },
  {
   "cell_type": "markdown",
   "metadata": {},
   "source": [
    "Let a straw with radius $r$ represent the porous medium with the same effective pore size. Then the equlibrium at elevation where presssure is equal to atmospheric pressure, i.e. bij definition, this is the water table, we have\n",
    "\n",
    "$$ \\rho g h \\pi r^2 = 2 \\pi r \\gamma \\cos{\\alpha} $$\n",
    "\n",
    "and so\n",
    "\n",
    "$$ h = \\frac {2 \\gamma \\cos \\alpha} {\\rho g r} $$\n",
    "\n",
    "If the direction of the cohesion is virtually in the direction of the water surface in the straw, meaning its tension equals the surface tension of the water in the straw, $\\tau = 75 \\times 10^-3 $ N/m.\n",
    "\n",
    "Assuming that the angle $\\gamma$ is quite small, we may say $\\cos \\alpha \\approx 1$, which yields\n",
    "\n",
    "$$h \\approx \\frac {2 \\gamma} {\\rho g r}$$"
   ]
  },
  {
   "cell_type": "code",
   "execution_count": 9,
   "metadata": {},
   "outputs": [],
   "source": [
    "import numpy as np\n",
    "import matplotlib.pyplot as plt\n",
    "rho = 1e3 # kg/m3\n",
    "g = 9.81 # N/kg\n",
    "gam = 75e-3 # N/m\n",
    "r = np.logspace(-5, -3, 31)\n",
    "h = 2 * gam / (rho * g * r)"
   ]
  },
  {
   "cell_type": "code",
   "execution_count": 10,
   "metadata": {},
   "outputs": [
    {
     "data": {
      "text/plain": [
       "[<matplotlib.lines.Line2D at 0x11bb5dbe0>]"
      ]
     },
     "execution_count": 10,
     "metadata": {},
     "output_type": "execute_result"
    },
    {
     "data": {
      "image/png": "[encoded data removed]",
      "text/plain": [
       "<Figure size 432x288 with 1 Axes>"
      ]
     },
     "metadata": {
      "needs_background": "light"
     },
     "output_type": "display_data"
    }
   ],
   "source": [
    "plt.title('Capillary rise in straw of given radius')\n",
    "plt.xlabel('pore radius [m]')\n",
    "plt.ylabel('capillary rise [m]')\n",
    "plt.xscale('log')\n",
    "plt.grid()\n",
    "plt.plot(r, h)\n"
   ]
  },
  {
   "cell_type": "markdown",
   "metadata": {},
   "source": [
    "Note that the effective grain diameter is about 10 times the effective pore radius. How to derive this, is another matter. It can be one by comparing Poisseuille flow in a tube with a porous medium by using the hydraulic radius instead of pore radius for both.\n",
    "\n",
    "A sand of a grain diameter of say 0.2 mm will have a conductivity of around 10 m/d and a capillary rise of about 20 cm. This should correspond with a pore radius of 0.02 mm\n",
    "\n",
    "\n"
   ]
  },
  {
   "cell_type": "code",
   "execution_count": null,
   "metadata": {},
   "outputs": [],
   "source": []
  }
 ],
 "metadata": {
  "kernelspec": {
   "display_name": "Python 3",
   "language": "python",
   "name": "python3"
  },
  "language_info": {
   "codemirror_mode": {
    "name": "ipython",
    "version": 3
   },
   "file_extension": ".py",
   "mimetype": "text/x-python",
   "name": "python",
   "nbconvert_exporter": "python",
   "pygments_lexer": "ipython3",
   "version": "3.7.0"
  }
 },
 "nbformat": 4,
 "nbformat_minor": 2
}
