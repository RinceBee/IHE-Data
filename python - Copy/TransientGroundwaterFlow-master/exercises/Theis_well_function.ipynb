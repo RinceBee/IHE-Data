{
 "cells": [
  {
   "cell_type": "markdown",
   "metadata": {},
   "source": [
    "# Theis well function\n",
    "\n",
    "The transient drawdown to a well in an aquifer of infinite extent and constant transmissivity is given by Theis\n",
    "\n",
    "$$ s = \\frac {Q} {4 \\pi kD} W\\left( u \\right) $$\n",
    "with\n",
    "$$ u = \\frac {r^2 S} {4 kD t} $$\n",
    "\n",
    "Where $W(u)$ is know as Theis' well function, which is mathematically known as the exponential integral, which is known to Python as exp1\n",
    "present in module scipy.special.\n",
    "\n",
    "$$ W(u) = exp1(u) = \\intop_u^{\\infty} \\frac {e^{-y}} {y}  dy $$\n",
    "\n",
    "The graph of W(u) versus 1/u both on logarithmic scale is called the \"Theis type curve\". We'll show it below."
   ]
  },
  {
   "cell_type": "code",
   "execution_count": 13,
   "metadata": {
    "collapsed": true
   },
   "outputs": [],
   "source": [
    "# First import the required functionality\n",
    "\n",
    "import numpy as np                  # numerical stuff\n",
    "import matplotlib.pyplot as plt     # plotting and visualization stuff\n",
    "import scipy.special as sp          # mathematical functions"
   ]
  },
  {
   "cell_type": "code",
   "execution_count": 14,
   "metadata": {},
   "outputs": [
    {
     "data": {
      "image/png": "[encoded data removed]",
      "text/plain": [
       "<matplotlib.figure.Figure at 0x15137d8748>"
      ]
     },
     "metadata": {},
     "output_type": "display_data"
    }
   ],
   "source": [
    "# Theis type curve W(u) vs 1/u\n",
    "\n",
    "# This plots it\n",
    "u = np.logspace(-6, 1, 71)  # 71 points on log scale between 10e-6 and 10\n",
    "\n",
    "plt.plot(1/u, sp.exp1(u))\n",
    "\n",
    "# here is the embellishement of the plot\n",
    "plt.title('Theis type curve (exp1(u) vs 1/u)')\n",
    "plt.xlabel('1/u -->')\n",
    "plt.ylabel('W(u) = exp1(u)')\n",
    "plt.xscale('log')\n",
    "plt.yscale('log')\n",
    "plt.grid()           # show grid lines in the plot\n",
    "plt.show()           # actually show the plot on screen"
   ]
  },
  {
   "cell_type": "markdown",
   "metadata": {},
   "source": [
    "To actually compute drawdowns you just use the data and the well fucntion"
   ]
  },
  {
   "cell_type": "code",
   "execution_count": 15,
   "metadata": {},
   "outputs": [
    {
     "name": "stdout",
     "output_type": "stream",
     "text": [
      "Drawdown at r= 50 and t= 1.2 equals  0.227152221703 m.\n",
      "\n",
      "And now a bit nicer formatted:\n",
      "Drawdown at r=50 m and t=1.20 d equals 0.23 m\n"
     ]
    }
   ],
   "source": [
    "W = sp.exp1   # W is know the same as sp.exp1\n",
    "kD = 500 # m2/d\n",
    "S = 0.2 # [-]\n",
    "Q = 1200 # m3/d\n",
    "r = 50 # m\n",
    "t = 1.2 # d\n",
    "\n",
    "u0 = r**2 * S /(4 * kD * t)\n",
    "\n",
    "s = Q/(4 * np.pi * kD) * W(u0)\n",
    "\n",
    "print('Drawdown at r=',r, 'and t=', t, 'equals ',s ,'m.' )\n",
    "\n",
    "print(\"\\nAnd now a bit nicer formatted:\")\n",
    "print('Drawdown at r={:.0f} m and t={:.2f} d equals {:.2f} m'.format(r, t, s))\n"
   ]
  },
  {
   "cell_type": "markdown",
   "metadata": {},
   "source": [
    "# The flow $Q_r$ throug a ring around the well with radius r\n",
    "\n",
    "The flow $Q_r$ can be derived by differentiation with respect to $r$:\n",
    "\n",
    "$$ Q_r = -kD (2 \\pi r) \\frac {\\partial s} {\\partial r} $$\n",
    "\n",
    "$$ Q_r = kD \\,\\, 2 \\pi r \\,\\, \\frac {Q_0} {4 \\pi kD} \\frac {e^{-u}} u \\frac {2 r S} {4 kD t} $$\n",
    "\n",
    "note for the last factor that\n",
    "\n",
    "$$ \\frac {2 r S} {4 kD t} = \\frac 2 r \\frac {r^2 S} { 4 kD t} = \\frac 2 r u$$\n",
    "\n",
    "so that\n",
    "\n",
    "$$ \\frac {Q_r} {Q_0} = \\frac {kD \\,\\, 2 \\pi r} {4 \\pi kD} \\frac {e^{-u}} u \\frac {2 u} r $$\n",
    "\n",
    "And finally, we have\n",
    "\n",
    "$$ Q_r = Q_0 \\, e^{-u} $$\n",
    "\n",
    "The flow strength at this ring with radius $r$ equals\n",
    "\n",
    "$$q_r = \\frac {Q_r} {2 \\pi r} = \\frac {Q_0} {2 \\pi r} e^{-u}$$\n",
    "\n",
    "\n",
    "The simplest way to envision the flow $Q_r$ is by setting\n",
    "\n",
    "$$ \\frac {Q_r} {Q_0} = e^{-u} $$"
   ]
  },
  {
   "cell_type": "code",
   "execution_count": 17,
   "metadata": {},
   "outputs": [
    {
     "data": {
      "image/png": "[encoded data removed]",
      "text/plain": [
       "<matplotlib.figure.Figure at 0x1513ca80b8>"
      ]
     },
     "metadata": {},
     "output_type": "display_data"
    }
   ],
   "source": [
    "u = np.logspace(-6, 1, 71)\n",
    "plt.plot(1/u, np.exp(-u))\n",
    "\n",
    "plt.title(\"The flow throug a ring at distance r from the Theis well\")\n",
    "plt.xlabel('1/u')\n",
    "plt.ylabel('$Q_r / Q_0$')\n",
    "plt.xscale('log')\n",
    "plt.yscale('log')\n",
    "plt.grid()\n",
    "plt.show()"
   ]
  },
  {
   "cell_type": "markdown",
   "metadata": {},
   "source": [
    "Remember, $1/u$ is proportional to time. So this type curve is a scaled graph of $Q_r/Q_0$ with time. It shows that initially the flow through a ring at distance $r$ is zero and that it finally approaches $Q_0$ itself. This is, the water, which all comes from storage, is coming from ever increasing distances, for the difference between $Q_0 - Q_r$ is the amount released form storage between $r=0$ and $r=r$ at a given time, will deminish with time, implying that the water is realsed from storage at an ever greater distance from the well."
   ]
  },
  {
   "cell_type": "code",
   "execution_count": null,
   "metadata": {
    "collapsed": true
   },
   "outputs": [],
   "source": []
  }
 ],
 "metadata": {
  "kernelspec": {
   "display_name": "Python 3",
   "language": "python",
   "name": "python3"
  },
  "language_info": {
   "codemirror_mode": {
    "name": "ipython",
    "version": 3
   },
   "file_extension": ".py",
   "mimetype": "text/x-python",
   "name": "python",
   "nbconvert_exporter": "python",
   "pygments_lexer": "ipython3",
   "version": "3.6.3"
  }
 },
 "nbformat": 4,
 "nbformat_minor": 2
}
