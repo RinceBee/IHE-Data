{
 "cells": [
  {
   "cell_type": "markdown",
   "metadata": {},
   "source": [
    "# Assigment, transient groundwater 2019\n",
    "\n",
    "IHE, transient groundwater\n",
    "\n",
    "Olsthoorn, 2019-01-04\n",
    "\n",
    "## Assignment"
   ]
  },
  {
   "cell_type": "markdown",
   "metadata": {},
   "source": [
    "This is the assigment for them module Transient Groundwater Flow of the course dec 2018/jan 2019.\n",
    "\n",
    "Work out the assigment in this Jupyter notebook. Take some time to become familiar with it. There is a tremendous amount of help on the internet to get you going. The site on `github.com/Olsthoorn/TransientGroundwaterFlow` hold numerous examples from the syllabus in the form of `jupyter notebooks`.\n",
    "\n",
    "Also refer to the notebooks for the second year students of the TUDelft by Mark bakker (search for `Bakker exploratory` computing to find them).\n",
    "\n",
    "* You will gain some experience with the Notebooks (see their help)\n",
    "* with python\n",
    "* with numpy\n",
    "* with functions in scipy\n",
    "\n",
    "Make sure your assigment is a self-contained document, that you could also export as html or pdf for sharing to those who do not have python installed.\n",
    "\n",
    "Theo Olsthoorn, 2019-01-05"
   ]
  },
  {
   "cell_type": "markdown",
   "metadata": {},
   "source": [
    "## Situation (a building pit next to a stright river)"
   ]
  },
  {
   "cell_type": "markdown",
   "metadata": {},
   "source": [
    "A large construction is to be realized next to a river that is in direct contact with the aquifer next to it. The building pit measures 50x50 m and river side is at 400 m distance from the river shore.\n",
    "\n",
    "Transmissivity and storage coefficient are given.\n",
    "\n",
    "    kD = 900 m2/d\n",
    "    S = 0.25 [-]"
   ]
  },
  {
   "cell_type": "markdown",
   "metadata": {},
   "source": [
    "Two extraction wells are used at the corners of the building pit.\n",
    "\n",
    "The drawdown everywhere in the building pit must be at least 5 m, to be reached within one month of pumping.\n",
    "\n",
    "The pumping will continue after this month for 5 more months during which the drawdown is to be maintained. However the pumping can be reuced after the first month. Adjust the pumping once per month, such that at the end of each month the darwdown fullfils the requied 5 m.\n",
    "\n",
    "After 6 months, pumping is stopped, so that the water levels can restore."
   ]
  },
  {
   "cell_type": "markdown",
   "metadata": {},
   "source": [
    "## Questions"
   ]
  },
  {
   "cell_type": "markdown",
   "metadata": {},
   "source": [
    "\n",
    "* On which two corners of the builing pit should you place the two extraction wells to have most effect.\n",
    "\n",
    "* Find the most critical point and make sure that the drawdown is as required at that point.\n",
    "\n",
    "* Show the extraction as a function of time form the start until one year after the stop. Also plot the drawdown at the critical location for this period.\n",
    "\n",
    "* Compute as a function of time the flow from the river into the groundwater system. It is assumed that the groundwater head is initially uniform and equal to the river stage (water level in the river). Do this for the averate flow during the 6 month of building pit operation (ignore the variation in the extraction for simplicity).\n",
    "\n",
    "* How much time is required after stopping until about 90% of the drawdown has disappeared?\n",
    "\n",
    "\n",
    "* After exactly 3 months, the water level in the river rises suddenly by 1 m and stays so during one month, after which it suddenly returns to its original level.\n",
    "\n",
    "    To what extent does this wave affect the water level in the building pit if no measure is taken?\n",
    "\n",
    "    What must be the extraction during this month to guarantee that the building pit fulfills the required 5 m drawdown relative to the original water level? If both effects do not overlap, say so, and explain what you could to as building-pit owner to better counteract the effect of the wave  in the river stage on the head below the building pit\n",
    "\n",
    "* If the river is influenced by sea tide, such that its level fluctuates twice a day between +1 and -1 m relative to the average value. How does this tide influence the required pumping? Is the location of the most critical point still the same?\n",
    "\n",
    "    How much is the delay between the tide in the river and the fluctuation at the critical point in the building pit?\n",
    "\n"
   ]
  },
  {
   "cell_type": "markdown",
   "metadata": {},
   "source": [
    "## Modules you wil need are imported here"
   ]
  },
  {
   "cell_type": "code",
   "execution_count": 109,
   "metadata": {},
   "outputs": [],
   "source": [
    "import numpy as np\n",
    "import matplotlib.pyplot as plt\n",
    "from scipy.special import exp1 # Theis well function\n",
    "from scipy.special import erfc"
   ]
  },
  {
   "cell_type": "markdown",
   "metadata": {},
   "source": [
    "## Setup the situation, define the wells and observation point"
   ]
  },
  {
   "cell_type": "markdown",
   "metadata": {},
   "source": [
    "Use this section to specify the data and set up the simulation of the drawdown."
   ]
  },
  {
   "cell_type": "markdown",
   "metadata": {},
   "source": [
    "## Impact of the month-long wave in the river stage"
   ]
  },
  {
   "cell_type": "markdown",
   "metadata": {},
   "source": [
    "Use this section to show the effect of the wave in the river. Specifiy it, explain what and how you do it.\n",
    "\n",
    "And finally compare what can be done by pomping to compensate the impact of the wave at the critical point in the building pit."
   ]
  },
  {
   "cell_type": "markdown",
   "metadata": {},
   "source": [
    "## Impact of river tide"
   ]
  },
  {
   "cell_type": "markdown",
   "metadata": {},
   "source": [
    "Use this section to compute the impact of the tide in the river at the critical point in the building pit. Explain your approach, carry it out and discuss the result. Is it important to consider in this case or not?"
   ]
  },
  {
   "cell_type": "markdown",
   "metadata": {},
   "source": [
    "## How much water is extracted from the river?"
   ]
  },
  {
   "cell_type": "markdown",
   "metadata": {},
   "source": [
    "This requires to compute the dynamic entry of water into the bank of the river. The derivation is shown below, it is also available in the syllabus. It is wise to do this analysis yourself and understand how it is done and how it is used to compute the inflow."
   ]
  },
  {
   "cell_type": "markdown",
   "metadata": {},
   "source": [
    "Last point is how much water will be extracted from the river both in absolute terms and in relative terms?\n",
    "\n",
    "The discharge towards a Theis well is obtained from the solution\n",
    "\n",
    "$$ s = \\frac Q {4 \\pi kD} \\intop _u ^\\infty \\frac {e^{-y}} {y} dy $$"
   ]
  },
  {
   "cell_type": "markdown",
   "metadata": {},
   "source": [
    "$$ Q_r = -kD (2 \\pi r) \\frac {\\partial s} {\\partial r} $$"
   ]
  },
  {
   "cell_type": "markdown",
   "metadata": {},
   "source": [
    "$$ Q_r = -kD (2 \\pi r) \\frac Q {4 \\pi kD}  \\frac {-e^{-u}} u \\frac {du} {dr} $$"
   ]
  },
  {
   "cell_type": "markdown",
   "metadata": {},
   "source": [
    "$$ \\frac {du} {dr} = \\frac {2 r S} {4 kD t} = \\frac {2u} r $$"
   ]
  },
  {
   "cell_type": "markdown",
   "metadata": {},
   "source": [
    "$$ Q_r  = Q e^{-u} $$\n",
    "\n",
    "$$ q_r = \\frac Q {2 \\pi r} e^{-u} $$"
   ]
  },
  {
   "cell_type": "markdown",
   "metadata": {},
   "source": [
    "Take a point xr yr along the river and consider as well at $x_w$, $y_w$\n",
    "\n",
    "$$ r = \\sqrt{(x_w - x_r) ^2 + (y_w - y_r)^2} $$\n",
    "\n",
    "Then the flow perpendicular to the shore is\n",
    "\n",
    "$$ q_p = \\frac {Q_r} {2 \\pi r} \\cos (\\alpha) = \\frac {x_w - x_r} {r^2} \\frac {Q e^{-u}} {2 \\pi } $$"
   ]
  },
  {
   "cell_type": "markdown",
   "metadata": {},
   "source": [
    "## Discussion"
   ]
  },
  {
   "cell_type": "markdown",
   "metadata": {},
   "source": [
    "Discuss your results."
   ]
  },
  {
   "cell_type": "code",
   "execution_count": null,
   "metadata": {},
   "outputs": [],
   "source": []
  }
 ],
 "metadata": {
  "kernelspec": {
   "display_name": "Python 3",
   "language": "python",
   "name": "python3"
  },
  "language_info": {
   "codemirror_mode": {
    "name": "ipython",
    "version": 3
   },
   "file_extension": ".py",
   "mimetype": "text/x-python",
   "name": "python",
   "nbconvert_exporter": "python",
   "pygments_lexer": "ipython3",
   "version": "3.6.7"
  }
 },
 "nbformat": 4,
 "nbformat_minor": 2
}
