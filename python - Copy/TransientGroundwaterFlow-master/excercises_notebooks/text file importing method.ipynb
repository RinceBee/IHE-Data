{
 "cells": [
  {
   "cell_type": "code",
   "execution_count": 5,
   "metadata": {},
   "outputs": [],
   "source": [
    "import numpy as np\n",
    "from scipy.special import exp1\n",
    "import matplotlib.pyplot as plt"
   ]
  },
  {
   "cell_type": "code",
   "execution_count": null,
   "metadata": {},
   "outputs": [],
   "source": []
  },
  {
   "cell_type": "code",
   "execution_count": 6,
   "metadata": {},
   "outputs": [
    {
     "name": "stdout",
     "output_type": "stream",
     "text": [
      "drawdown s= 1.1081798763072156e-05 m\n",
      "drawdown s=1.108e-05 m\n"
     ]
    }
   ],
   "source": [
    "#simple drawdown\n",
    "kD = 900  # m2/d\n",
    "S =0.25 # [-]\n",
    "c= 300 # day\n",
    "lamb = np.sqrt (kD*c)\n",
    "Q= 1200 # m3/d\n",
    "r= 350 # m\n",
    "t= 1.2 # day\n",
    "u= r**2*S/ (4*kD*t)\n",
    "\n",
    "s = Q/ ( 4*np.pi *kD)* exp1(u)\n",
    "print('drawdown s=', s, 'm')\n",
    "print('drawdown s={:.4g} m'.format(s))"
   ]
  },
  {
   "cell_type": "code",
   "execution_count": 7,
   "metadata": {},
   "outputs": [],
   "source": [
    "from scipy.special import exp1 as W"
   ]
  },
  {
   "cell_type": "code",
   "execution_count": 8,
   "metadata": {},
   "outputs": [
    {
     "data": {
      "image/png": "[encoded data removed]",
      "text/plain": [
       "<Figure size 432x288 with 1 Axes>"
      ]
     },
     "metadata": {
      "needs_background": "light"
     },
     "output_type": "display_data"
    }
   ],
   "source": [
    "u = np.logspace(-5,1, 61) \n",
    "plt.title('theis type curve')\n",
    "plt.xlabel('1/u')\n",
    "plt.ylabel(' w(u)')\n",
    "plt.plot(1/u, W(u))\n",
    "plt.xscale('log')\n",
    "plt.yscale('log')\n",
    "plt.grid()\n",
    "plt.show()"
   ]
  },
  {
   "cell_type": "markdown",
   "metadata": {},
   "source": [
    "Compute by Python the theis well function"
   ]
  },
  {
   "cell_type": "markdown",
   "metadata": {},
   "source": [
    "$$ W(u) = \\intop_u^\\infty \\frac { e^{-y}} {y} dy $$"
   ]
  },
  {
   "cell_type": "code",
   "execution_count": 9,
   "metadata": {},
   "outputs": [
    {
     "name": "stdout",
     "output_type": "stream",
     "text": [
      "1.8229742553684722\n",
      "1.8229239584193906\n",
      "1.8229239584193906\n",
      "17.78882531887625\n"
     ]
    }
   ],
   "source": [
    "u   = 0.1 \n",
    "r= 0.2\n",
    "\n",
    "\n",
    "\n",
    "def expint(u):\n",
    "    'retur to the well fucntion by theis'\n",
    "    \n",
    "    y   = np.logspace( np.log10(u), 20, 5000)\n",
    "    arg = np.exp (-y)/y\n",
    "    dy  = np.diff (y)\n",
    "    return np.sum(0.5*(arg [:-1]+arg[1:])*dy)   #  average of all\n",
    "\n",
    "\n",
    "def Wh(u, rho):\n",
    "    'return to out well fucntion'\n",
    "    \n",
    "    y   = np.logspace( np.log10(u), 20, 5000)\n",
    "    arg = np.exp ((-y-(rho/2)**2)/y)/y\n",
    "    dy  = np.diff (y)\n",
    "    return np.sum(0.5*(arg [:-1]+arg[1:])*dy)\n",
    "\n",
    "print (expint(u))                               #  \n",
    "print(exp1(u))   \n",
    "print(W(u))              #\n",
    "print(Wh(u, r/lamb))                              # \n",
    "\n",
    "\n",
    "     #arg [34:38]\n",
    "     #arg[:-3] # from first but not last 3\n",
    "     #arg [1:] # second to last\n"
   ]
  },
  {
   "cell_type": "code",
   "execution_count": null,
   "metadata": {},
   "outputs": [],
   "source": []
  },
  {
   "cell_type": "code",
   "execution_count": 10,
   "metadata": {},
   "outputs": [
    {
     "data": {
      "text/plain": [
       "['30\\t30\\t0.1\\t0.04\\n',\n",
       " '30\\t30\\t0.25\\t0.08\\n',\n",
       " '30\\t30\\t0.5\\t0.13\\n',\n",
       " '30\\t30\\t0.7\\t0.18\\n',\n",
       " '30\\t30\\t1\\t0.23\\n']"
      ]
     },
     "execution_count": 10,
     "metadata": {},
     "output_type": "execute_result"
    }
   ],
   "source": [
    "fname='Korendijk_data.txt'\n",
    "f = open ( fname, 'r')\n",
    "data = f. readlines ()\n",
    "data = data [1:] # remove the header\n",
    "data [:5]\n"
   ]
  },
  {
   "cell_type": "code",
   "execution_count": 11,
   "metadata": {},
   "outputs": [],
   "source": [
    "#d= 'John has, five hour time'\n",
    "#e= d.split(',') # if not comma, the word will be individual\n",
    "#print(e) # illustration of comprehension will be sse ifor the next exercise\n",
    "#f= [d.upper() for d in e]\n",
    "#g= [len(d)**3 for d in e]\n",
    "#print (g)\n",
    "#print (f)"
   ]
  },
  {
   "cell_type": "code",
   "execution_count": 12,
   "metadata": {},
   "outputs": [
    {
     "data": {
      "text/plain": [
       "[['30', '30', '0.1', '0.04'],\n",
       " ['30', '30', '0.25', '0.08'],\n",
       " ['30', '30', '0.5', '0.13'],\n",
       " ['30', '30', '0.7', '0.18'],\n",
       " ['30', '30', '1', '0.23'],\n",
       " ['30', '30', '1.4', '0.28']]"
      ]
     },
     "execution_count": 12,
     "metadata": {},
     "output_type": "execute_result"
    }
   ],
   "source": [
    "toklist = [d.split() for d in data ]\n",
    "toklist [:6]\n"
   ]
  },
  {
   "cell_type": "code",
   "execution_count": 13,
   "metadata": {},
   "outputs": [
    {
     "data": {
      "text/plain": [
       "[['30', '30', '0.1', '0.04'],\n",
       " ['30', '30', '0.25', '0.08'],\n",
       " ['30', '30', '0.5', '0.13'],\n",
       " ['30', '30', '0.7', '0.18'],\n",
       " ['30', '30', '1', '0.23'],\n",
       " ['30', '30', '1.4', '0.28']]"
      ]
     },
     "execution_count": 13,
     "metadata": {},
     "output_type": "execute_result"
    }
   ],
   "source": [
    "toklist=[d.split() for d in data]\n",
    "toklist [:6]\n"
   ]
  },
  {
   "cell_type": "code",
   "execution_count": null,
   "metadata": {},
   "outputs": [],
   "source": []
  },
  {
   "cell_type": "code",
   "execution_count": null,
   "metadata": {},
   "outputs": [],
   "source": []
  },
  {
   "cell_type": "code",
   "execution_count": 14,
   "metadata": {},
   "outputs": [],
   "source": [
    "values = [] \n",
    "for line in toklist: \n",
    "    values.append ( [ float (d)  for d in line])\n",
    "    \n",
    "values = np.array ( values)\n",
    "    "
   ]
  },
  {
   "cell_type": "code",
   "execution_count": 15,
   "metadata": {},
   "outputs": [
    {
     "data": {
      "text/plain": [
       "array([[30.  , 30.  ,  0.1 ,  0.04],\n",
       "       [30.  , 30.  ,  0.25,  0.08],\n",
       "       [30.  , 30.  ,  0.5 ,  0.13],\n",
       "       [30.  , 30.  ,  0.7 ,  0.18],\n",
       "       [30.  , 30.  ,  1.  ,  0.23],\n",
       "       [30.  , 30.  ,  1.4 ,  0.28],\n",
       "       [30.  , 30.  ,  1.9 ,  0.33],\n",
       "       [30.  , 30.  ,  2.33,  0.36],\n",
       "       [30.  , 30.  ,  2.8 ,  0.39],\n",
       "       [30.  , 30.  ,  3.36,  0.42]])"
      ]
     },
     "execution_count": 15,
     "metadata": {},
     "output_type": "execute_result"
    }
   ],
   "source": [
    "values [:10]"
   ]
  },
  {
   "cell_type": "code",
   "execution_count": 16,
   "metadata": {},
   "outputs": [
    {
     "data": {
      "text/plain": [
       "array([  60.14 ,   60.33 ,   60.63 ,   60.88 ,   61.23 ,   61.68 ,\n",
       "         62.23 ,   62.69 ,   63.19 ,   63.78 ,   64.45 ,   65.85 ,\n",
       "         67.34 ,   68.87 ,   69.28 ,   70.6  ,   73.74 ,   78.68 ,\n",
       "         87.742,   93.753,  101.779,  108.793,  119.819,  140.855,\n",
       "        155.873,  199.915,  241.935,  305.966,  360.99 ,  421.007,\n",
       "        541.05 ,  661.053,  789.072,  891.088,  115.515,  116.021,\n",
       "        116.183,  116.704,  117.054,  117.575,  118.09 ,  118.434,\n",
       "        119.633,  120.153,  121.678,  123.206,  127.25 ,  129.275,\n",
       "        132.305,  139.348,  144.364,  154.404,  167.429,  174.444,\n",
       "        189.467,  204.494,  219.507,  234.528,  264.55 ,  294.569,\n",
       "        362.593,  415.614,  477.636,  536.657,  656.679,  716.688,\n",
       "        794.701,  899.718,  959.716,  301.089,  362.138,  420.165,\n",
       "        486.186,  540.196,  601.207,  665.214,  841.227, 1015.25 ])"
      ]
     },
     "execution_count": 16,
     "metadata": {},
     "output_type": "execute_result"
    }
   ],
   "source": [
    "np.sum( values, axis=1) # 1 means horizontal will be sum of row, if 0 it will calculate the column"
   ]
  },
  {
   "cell_type": "code",
   "execution_count": 17,
   "metadata": {},
   "outputs": [
    {
     "data": {
      "text/plain": [
       "array([[-0.98803162, -0.98803162,  0.09983342,  0.03998933],\n",
       "       [-0.98803162, -0.98803162,  0.24740396,  0.07991469],\n",
       "       [-0.98803162, -0.98803162,  0.47942554,  0.12963414],\n",
       "       [-0.98803162, -0.98803162,  0.64421769,  0.17902957],\n",
       "       [-0.98803162, -0.98803162,  0.84147098,  0.22797752],\n",
       "       [-0.98803162, -0.98803162,  0.98544973,  0.27635565],\n",
       "       [-0.98803162, -0.98803162,  0.94630009,  0.32404303],\n",
       "       [-0.98803162, -0.98803162,  0.72538439,  0.35227423],\n",
       "       [-0.98803162, -0.98803162,  0.33498815,  0.38018842],\n",
       "       [-0.98803162, -0.98803162, -0.21667508,  0.40776045],\n",
       "       [-0.98803162, -0.98803162, -0.7568025 ,  0.43496553],\n",
       "       [-0.98803162, -0.98803162, -0.80352016,  0.47942554],\n",
       "       [-0.98803162, -0.98803162,  0.49411335,  0.51413599],\n",
       "       [-0.98803162, -0.98803162,  0.90217183,  0.53963205],\n",
       "       [-0.98803162, -0.98803162,  0.66296923,  0.54802394],\n",
       "       [-0.98803162, -0.98803162, -0.54402111,  0.56464247],\n",
       "       [-0.98803162, -0.98803162,  0.50866146,  0.59719544],\n",
       "       [-0.98803162, -0.98803162, -0.75098725,  0.62879302],\n",
       "       [-0.98803162, -0.98803162,  0.95637593,  0.6757635 ],\n",
       "       [-0.98803162, -0.98803162,  0.99991186,  0.68383076],\n",
       "       [-0.98803162, -0.98803162, -0.15862267,  0.70256815],\n",
       "       [-0.98803162, -0.98803162, -0.76825466,  0.71246161],\n",
       "       [-0.98803162, -0.98803162,  0.63673801,  0.73046324],\n",
       "       [-0.98803162, -0.98803162, -0.99388865,  0.75457092],\n",
       "       [-0.98803162, -0.98803162,  0.68326171,  0.76625997],\n",
       "       [-0.98803162, -0.98803162,  0.69608013,  0.79256259],\n",
       "       [-0.98803162, -0.98803162, -0.9364514 ,  0.80459908],\n",
       "       [-0.98803162, -0.98803162, -0.04421256,  0.82261792],\n",
       "       [-0.98803162, -0.98803162, -0.99975584,  0.83602598],\n",
       "       [-0.98803162, -0.98803162,  0.95891572,  0.84523245],\n",
       "       [-0.98803162, -0.98803162,  0.61601671,  0.86742323],\n",
       "       [-0.98803162, -0.98803162,  0.04418245,  0.86891203],\n",
       "       [-0.98803162, -0.98803162, -0.75094744,  0.878159  ],\n",
       "       [-0.98803162, -0.98803162,  0.58066027,  0.88570017],\n",
       "       [ 0.89399666, -0.90557836,  0.99749499,  0.01499944],\n",
       "       [ 0.89399666, -0.90557836,  0.90929743,  0.02099846],\n",
       "       [ 0.89399666, -0.90557836,  0.83138346,  0.02299797],\n",
       "       [ 0.89399666, -0.90557836,  0.46319126,  0.0439858 ],\n",
       "       [ 0.89399666, -0.90557836,  0.14112001,  0.05397376],\n",
       "       [ 0.89399666, -0.90557836, -0.35078323,  0.07492971],\n",
       "       [ 0.89399666, -0.90557836, -0.7568025 ,  0.08987855],\n",
       "       [ 0.89399666, -0.90557836, -0.92777586,  0.10381262],\n",
       "       [ 0.89399666, -0.90557836, -0.70554033,  0.13260824],\n",
       "       [ 0.89399666, -0.90557836, -0.2794155 ,  0.15240377],\n",
       "       [ 0.89399666, -0.90557836,  0.93799998,  0.17706153],\n",
       "       [ 0.89399666, -0.90557836,  0.41211849,  0.20454612],\n",
       "       [ 0.89399666, -0.90557836,  0.42016704,  0.24740396],\n",
       "       [ 0.89399666, -0.90557836,  0.65028784,  0.27154694],\n",
       "       [ 0.89399666, -0.90557836, -0.75098725,  0.30029318],\n",
       "       [ 0.89399666, -0.90557836, -0.13235175,  0.34101838],\n",
       "       [ 0.89399666, -0.90557836, -0.98803162,  0.35601499],\n",
       "       [ 0.89399666, -0.90557836,  0.74511316,  0.39309946],\n",
       "       [ 0.89399666, -0.90557836,  0.39592515,  0.41596163],\n",
       "       [ 0.89399666, -0.90557836, -0.30481062,  0.42955505],\n",
       "       [ 0.89399666, -0.90557836, -0.38778164,  0.45020955],\n",
       "       [ 0.89399666, -0.90557836,  0.89399666,  0.47415145],\n",
       "       [ 0.89399666, -0.90557836, -0.97053528,  0.48555682],\n",
       "       [ 0.89399666, -0.90557836,  0.58061118,  0.50380672],\n",
       "       [ 0.89399666, -0.90557836, -0.71487643,  0.52268723],\n",
       "       [ 0.89399666, -0.90557836, -0.80115264,  0.53878988],\n",
       "       [ 0.89399666, -0.90557836,  0.18475212,  0.55885134],\n",
       "       [ 0.89399666, -0.90557836, -0.55876405,  0.57614146],\n",
       "       [ 0.89399666, -0.90557836, -0.98935386,  0.59398229],\n",
       "       [ 0.89399666, -0.90557836,  0.85553559,  0.61074412],\n",
       "       [ 0.89399666, -0.90557836,  0.99716876,  0.62801514],\n",
       "       [ 0.89399666, -0.90557836, -0.92679586,  0.63499342],\n",
       "       [ 0.89399666, -0.90557836,  0.98804092,  0.64498221],\n",
       "       [ 0.89399666, -0.90557836, -0.38772606,  0.65787974],\n",
       "       [ 0.89399666, -0.90557836,  0.08830863,  0.65637218],\n",
       "       [ 0.98024562,  0.91294525, -0.02655115,  0.08888255],\n",
       "       [ 0.98024562,  0.91294525,  0.97263007,  0.1375624 ],\n",
       "       [ 0.98024562,  0.91294525,  0.34662118,  0.16425233],\n",
       "       [ 0.98024562,  0.91294525, -0.32159386,  0.18492938],\n",
       "       [ 0.98024562,  0.91294525, -0.26240394,  0.19474749],\n",
       "       [ 0.98024562,  0.91294525,  0.99999007,  0.20552487],\n",
       "       [ 0.98024562,  0.91294525,  0.38775385,  0.21237035],\n",
       "       [ 0.98024562,  0.91294525,  0.32156532,  0.2250555 ],\n",
       "       [ 0.98024562,  0.91294525,  0.77392886,  0.24740396]])"
      ]
     },
     "execution_count": 17,
     "metadata": {},
     "output_type": "execute_result"
    }
   ],
   "source": [
    "np.sin ( values)"
   ]
  },
  {
   "cell_type": "code",
   "execution_count": 18,
   "metadata": {},
   "outputs": [
    {
     "data": {
      "text/plain": [
       "array([ 30.,  90., 215.])"
      ]
     },
     "execution_count": 18,
     "metadata": {},
     "output_type": "execute_result"
    }
   ],
   "source": [
    "np.unique ( values [:, 0])"
   ]
  },
  {
   "cell_type": "code",
   "execution_count": 19,
   "metadata": {},
   "outputs": [
    {
     "data": {
      "text/plain": [
       "array([0.015, 0.021, 0.023, 0.04 , 0.044, 0.054, 0.075, 0.08 , 0.089,\n",
       "       0.09 , 0.104, 0.13 , 0.133, 0.138, 0.153, 0.165, 0.178, 0.18 ,\n",
       "       0.186, 0.196, 0.206, 0.207, 0.214, 0.227, 0.23 , 0.25 , 0.275,\n",
       "       0.28 , 0.305, 0.33 , 0.348, 0.36 , 0.364, 0.39 , 0.404, 0.42 ,\n",
       "       0.429, 0.444, 0.45 , 0.467, 0.494, 0.5  , 0.507, 0.528, 0.54 ,\n",
       "       0.55 , 0.569, 0.57 , 0.58 , 0.593, 0.6  , 0.614, 0.636, 0.64 ,\n",
       "       0.657, 0.679, 0.68 , 0.688, 0.701, 0.716, 0.718, 0.742, 0.753,\n",
       "       0.779, 0.793, 0.819, 0.855, 0.873, 0.915, 0.935, 0.966, 0.99 ,\n",
       "       1.007, 1.05 , 1.053, 1.072, 1.088])"
      ]
     },
     "execution_count": 19,
     "metadata": {},
     "output_type": "execute_result"
    }
   ],
   "source": [
    "np.unique ( values[:, 3])"
   ]
  },
  {
   "cell_type": "code",
   "execution_count": 23,
   "metadata": {},
   "outputs": [
    {
     "name": "stdout",
     "output_type": "stream",
     "text": [
      "Object `varies` not found.\n"
     ]
    }
   ],
   "source": []
  },
  {
   "cell_type": "code",
   "execution_count": 22,
   "metadata": {},
   "outputs": [
    {
     "ename": "NameError",
     "evalue": "name 'varies' is not defined",
     "output_type": "error",
     "traceback": [
      "\u001b[1;31m---------------------------------------------------------------------------\u001b[0m",
      "\u001b[1;31mNameError\u001b[0m                                 Traceback (most recent call last)",
      "\u001b[1;32m<ipython-input-22-035a7bfd7a65>\u001b[0m in \u001b[0;36m<module>\u001b[1;34m()\u001b[0m\n\u001b[0;32m      7\u001b[0m \u001b[1;32mfor\u001b[0m \u001b[0md\u001b[0m \u001b[1;32min\u001b[0m \u001b[0mdistances\u001b[0m\u001b[1;33m:\u001b[0m\u001b[1;33m\u001b[0m\u001b[0m\n\u001b[0;32m      8\u001b[0m     \u001b[0mI\u001b[0m \u001b[1;33m=\u001b[0m \u001b[0mvalues\u001b[0m \u001b[1;33m[\u001b[0m \u001b[1;33m:\u001b[0m\u001b[1;33m,\u001b[0m \u001b[1;36m0\u001b[0m\u001b[1;33m]\u001b[0m \u001b[1;33m==\u001b[0m\u001b[0md\u001b[0m\u001b[1;33m\u001b[0m\u001b[0m\n\u001b[1;32m----> 9\u001b[1;33m     \u001b[0mt\u001b[0m\u001b[1;33m=\u001b[0m \u001b[0mvaries\u001b[0m\u001b[1;33m[\u001b[0m\u001b[0mI\u001b[0m\u001b[1;33m,\u001b[0m \u001b[1;36m2\u001b[0m\u001b[1;33m]\u001b[0m\u001b[1;33m\u001b[0m\u001b[0m\n\u001b[0m\u001b[0;32m     10\u001b[0m     \u001b[0mplt\u001b[0m\u001b[1;33m.\u001b[0m\u001b[0mplot\u001b[0m\u001b[1;33m(\u001b[0m \u001b[0mvlaues\u001b[0m \u001b[1;33m[\u001b[0m\u001b[0mI\u001b[0m\u001b[1;33m,\u001b[0m\u001b[1;36m2\u001b[0m\u001b[1;33m]\u001b[0m\u001b[1;33m,\u001b[0m \u001b[0mvalues\u001b[0m\u001b[1;33m[\u001b[0m\u001b[0mI\u001b[0m\u001b[1;33m,\u001b[0m \u001b[1;36m3\u001b[0m\u001b[1;33m]\u001b[0m\u001b[1;33m,\u001b[0m \u001b[1;34m' . '\u001b[0m\u001b[1;33m,\u001b[0m \u001b[0mlabel\u001b[0m\u001b[1;33m=\u001b[0m\u001b[1;34m'$t/r^2$={} m'\u001b[0m\u001b[1;33m.\u001b[0m \u001b[0mformat\u001b[0m \u001b[1;33m(\u001b[0m \u001b[0mr\u001b[0m\u001b[1;33m)\u001b[0m\u001b[1;33m)\u001b[0m\u001b[1;33m\u001b[0m\u001b[0m\n\u001b[0;32m     11\u001b[0m     \u001b[0mA\u001b[0m\u001b[1;33m=\u001b[0m\u001b[1;36m1\u001b[0m\u001b[1;33m\u001b[0m\u001b[0m\n",
      "\u001b[1;31mNameError\u001b[0m: name 'varies' is not defined"
     ]
    },
    {
     "data": {
      "image/png": "[encoded data removed]",
      "text/plain": [
       "<Figure size 432x288 with 1 Axes>"
      ]
     },
     "metadata": {
      "needs_background": "light"
     },
     "output_type": "display_data"
    }
   ],
   "source": [
    "\n",
    "plt.title ('korendijk_data.txt')\n",
    "plt.ylabel('[]')\n",
    "plt.xlabel('$ t/r^2$')\n",
    "plt.grid()\n",
    "distances = np.unique ( values [ :, 0])\n",
    "for d in distances:\n",
    "    I = values [ :, 0] ==d\n",
    "    t= values [I, 2]\n",
    "    plt.plot( vlaues [I,2], values[I, 3], ' . ', label='$t/r^2$={} m'. format ( r))\n",
    "    A=1 \n",
    "    B=1\n",
    "    u = np.logspace ( -3, 1, 41)\n",
    "    plt.plt ( B *1/u, A* exp1(u), 'k', lw =3, label ='theis type curve')\n",
    "plt.legend()\n",
    "plt.show()"
   ]
  },
  {
   "cell_type": "code",
   "execution_count": null,
   "metadata": {},
   "outputs": [],
   "source": []
  }
 ],
 "metadata": {
  "kernelspec": {
   "display_name": "Python 3",
   "language": "python",
   "name": "python3"
  },
  "language_info": {
   "codemirror_mode": {
    "name": "ipython",
    "version": 3
   },
   "file_extension": ".py",
   "mimetype": "text/x-python",
   "name": "python",
   "nbconvert_exporter": "python",
   "pygments_lexer": "ipython3",
   "version": "3.7.0"
  }
 },
 "nbformat": 4,
 "nbformat_minor": 2
}
