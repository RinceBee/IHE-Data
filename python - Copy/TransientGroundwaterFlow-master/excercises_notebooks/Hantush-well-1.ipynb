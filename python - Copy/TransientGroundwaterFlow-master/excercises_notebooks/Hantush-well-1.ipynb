{
 "cells": [
  {
   "cell_type": "markdown",
   "metadata": {},
   "source": [
    "# Hantush wells introduction type curves\n",
    "\n",
    "IHE, module transient groundwater\n",
    "\n",
    "Olsthoorn, 2019-01-03"
   ]
  },
  {
   "cell_type": "markdown",
   "metadata": {},
   "source": [
    "Hantush (1956) considered the transient flow due to a well with a constant extraction since $t=0$ placed in a uniform confined aquifer of infinite extent covered by a layer with constant vertical resistance $c$ above which a constant head is maintained."
   ]
  },
  {
   "cell_type": "markdown",
   "metadata": {},
   "source": [
    "The partial differential equation now contains the leakage between the aquifer and the layer with maintained head."
   ]
  },
  {
   "cell_type": "markdown",
   "metadata": {},
   "source": [
    "$$ \\frac {\\partial s^2} {\\partial r^2} + \\frac 1 r \\frac {\\partial \\phi} {\\partial r} \n",
    "- \\frac s {kD c} = \\frac S {kD} \\frac {\\partial s} {\\partial t} $$\n",
    "\n",
    "$$ s(x, t) = 0$$\n",
    "\n",
    "$$ Q = kD (2 \\pi r) \\frac {\\partial \\phi} {\\partial r}, \\,\\,\\, \\mathtt{for}\\,\\,\\, r=r_0 $$"
   ]
  },
  {
   "cell_type": "markdown",
   "metadata": {},
   "source": [
    "The solution may be opbtained by straighforward Lapace transformation and looking up de result from the Laplace inversions table. It reads with\n",
    "$$ \\lambda = \\sqrt{ kD c} $$"
   ]
  },
  {
   "cell_type": "markdown",
   "metadata": {},
   "source": [
    "$$ s(r, t) = \\frac Q {4 \\pi kD} W_h(u, \\frac r \\lambda),\\,\\,\\,\\, u = \\frac {r^2 S} {4 kD t}$$"
   ]
  },
  {
   "cell_type": "markdown",
   "metadata": {},
   "source": [
    "where $W_h(..)$ is the so-called Hantush well function, which, obviously differs from the Theis well function\n",
    "\n",
    "Theis:\n",
    "\n",
    "$$ W(z) = \\mathtt{exp1}(z) = \\intop _z ^\\infty \\frac {e^{-y}} {y} dy $$\n",
    "\n",
    "Hantush:\n",
    "\n",
    "$$ W_h(z, \\rho) = \\intop_u ^\\infty \\frac {e^{-y-\\left(\\frac \\rho 2 \\right)^2}} y dy $$\n",
    "\n",
    "with $\\rho = \\frac r \\lambda $ and $u = \\frac {r^2 S} {4 kD t} $"
   ]
  },
  {
   "cell_type": "markdown",
   "metadata": {},
   "source": [
    "An alternative expression is\n",
    "\n",
    "$$ W_h(u,\\rho) = \\sum _{n=0} ^\\infty \\frac {(-1)^n} {n!} \\left( \\frac {\\rho ^2} {4u}\\right) ^{n} E_{n+1}\n",
    "\\left( u \\right) $$\n",
    "\n",
    "$$ E_{n+1} = \\frac 1 n \\left\\{e^{-u} - u E_n(u) \\right\\}, \\,\\,\\, (n = 1, 1, 3 ...) $$"
   ]
  },
  {
   "cell_type": "markdown",
   "metadata": {},
   "source": [
    "The exponential integral lives in scipy special as the function $\\mathtt{exp1}(z)$ and can readily be imported. The Hantush well function is not available in the `scipy.special` libary, so we have to implement it.\n"
   ]
  },
  {
   "cell_type": "code",
   "execution_count": 1,
   "metadata": {},
   "outputs": [],
   "source": [
    "from scipy.special import exp1\n",
    "import numpy as np\n",
    "import matplotlib.pyplot as plt"
   ]
  },
  {
   "cell_type": "markdown",
   "metadata": {},
   "source": [
    "## Implementing the integral"
   ]
  },
  {
   "cell_type": "code",
   "execution_count": 71,
   "metadata": {},
   "outputs": [],
   "source": [
    "\n",
    "def WH(U, rho):\n",
    "    '''Collect results of individual values of u'''\n",
    "    W = np.zeros_like(U)\n",
    "    for i, u in enumerate(U):\n",
    "        W[i] = Wh(u, rho)\n",
    "    return W\n",
    "\n",
    "\n",
    "def Wh(u, rho):\n",
    "    '''Hantush well function implemented as integral'''\n",
    "    uMax = 30.\n",
    "    y  = np.logspace(np.log10(u), np.log10(uMax), 1000)\n",
    "    dy = np.diff(y)\n",
    "    ym = 0.5 * (y[:-1] + y[1:])\n",
    "    return np.sum(np.exp(-ym - rho**2 / 4 /ym)  / ym * dy)\n",
    "\n",
    "def WH2(U, rho):\n",
    "    '''return resutls for all values of u'''\n",
    "    W = np.zeros_like(U)\n",
    "    for i, u in enumerate(U):\n",
    "        W[i] = Wh2(u, rho)\n",
    "    return W\n",
    "\n",
    "def Wh2(u, rho, tol=1e-14):\n",
    "    '''Hantush well function implemented as power series\n",
    "    \n",
    "    This implementation works but has a limited reach; for very small\n",
    "    values of u (u<0.001) the solution will deteriorate into nonsense,\n",
    "    '''\n",
    "    #import pdb\n",
    "    #pdb.set_trace()\n",
    "    tau = (rho/2)**2 / u\n",
    "    f0 = 1\n",
    "    E =  exp1(u)\n",
    "    w0= f0 * E\n",
    "    W = w0\n",
    "    for n in range(1, 500):\n",
    "        E = (1/n) * (np.exp(-u) - u * E)\n",
    "        f0 = -f0 / n * tau\n",
    "        w1 = f0 * E\n",
    "        #print(w1)\n",
    "        if abs(w0 + w1) < tol: # use w0 + w1 because terms alternate sign\n",
    "            #print('succes')\n",
    "            break\n",
    "        W += w1\n",
    "        w0 = w1 # remember previous value\n",
    "    return W\n",
    "    "
   ]
  },
  {
   "cell_type": "markdown",
   "metadata": {},
   "source": [
    "How does the drawdown behave for diffent distances from the well?\n",
    "\n",
    "For this assume a real situation."
   ]
  },
  {
   "cell_type": "markdown",
   "metadata": {},
   "source": [
    "## Hantush Type curves"
   ]
  },
  {
   "cell_type": "code",
   "execution_count": 3,
   "metadata": {},
   "outputs": [
    {
     "data": {
      "image/png": "[encoded data removed]",
      "text/plain": [
       "<Figure size 432x288 with 1 Axes>"
      ]
     },
     "metadata": {
      "needs_background": "light"
     },
     "output_type": "display_data"
    }
   ],
   "source": [
    "u = np.logspace(-6, 1)\n",
    "rhos = [0.01, 0.03, 0.1, 0.3, 1]\n",
    "\n",
    "plt.title('Hantush type curves (integral implementation)')\n",
    "plt.xlabel('1/u')\n",
    "plt.ylabel('Wh')\n",
    "plt.xscale('log')\n",
    "plt.yscale('log')\n",
    "plt.ylim((0.1, 100))\n",
    "plt.grid()\n",
    "\n",
    "plt.plot(1/u, exp1(u), label='Theis')\n",
    "for rho in rhos:\n",
    "    plt.plot(1/u, WH(u, rho), label='rho={:.2f}'.format(rho))\n",
    "    \n",
    "plt.legend()\n",
    "plt.show()"
   ]
  },
  {
   "cell_type": "markdown",
   "metadata": {},
   "source": [
    "## Hantush type curves, implemented as power series"
   ]
  },
  {
   "cell_type": "code",
   "execution_count": 66,
   "metadata": {},
   "outputs": [
    {
     "name": "stdout",
     "output_type": "stream",
     "text": [
      "-2.3741763449594672e-05\n",
      "1.5321142630770784e-10\n",
      "-8.551623855098275e-16\n",
      "4.015161174270875e-21\n",
      "succes\n"
     ]
    },
    {
     "data": {
      "text/plain": [
       "4.037905834927875"
      ]
     },
     "execution_count": 66,
     "metadata": {},
     "output_type": "execute_result"
    }
   ],
   "source": [
    "Wh2(1e-2, 0.001)"
   ]
  },
  {
   "cell_type": "code",
   "execution_count": 67,
   "metadata": {},
   "outputs": [
    {
     "data": {
      "text/plain": [
       "4.0378762470001295"
      ]
     },
     "execution_count": 67,
     "metadata": {},
     "output_type": "execute_result"
    }
   ],
   "source": [
    "Wh(1e-2, 0.001)"
   ]
  },
  {
   "cell_type": "code",
   "execution_count": 75,
   "metadata": {},
   "outputs": [
    {
     "data": {
      "image/png": "[encoded data removed]",
      "text/plain": [
       "<Figure size 432x288 with 1 Axes>"
      ]
     },
     "metadata": {
      "needs_background": "light"
     },
     "output_type": "display_data"
    }
   ],
   "source": [
    "u = np.logspace(-2, 2, 41)\n",
    "rhos = [0.01, 0.03, 0.1, 0.3, 1]\n",
    "\n",
    "plt.title('Hantush type curves (power series implementation)')\n",
    "plt.xlabel('1/u')\n",
    "plt.ylabel('Wh')\n",
    "plt.xscale('log')\n",
    "plt.yscale('log')\n",
    "plt.ylim((0.1, 100))\n",
    "plt.xlim((0.1, 100))\n",
    "plt.grid()\n",
    "\n",
    "plt.plot(1/u, exp1(u), label='Theis')\n",
    "for rho in rhos:\n",
    "    plt.plot(1/u, WH2(u, rho), label='rho={:.2f}'.format(rho))\n",
    "    \n",
    "plt.legend()\n",
    "plt.show()"
   ]
  },
  {
   "cell_type": "markdown",
   "metadata": {},
   "source": [
    "The series does not work for $u<10^{-2}$"
   ]
  }
 ],
 "metadata": {
  "kernelspec": {
   "display_name": "Python 3",
   "language": "python",
   "name": "python3"
  },
  "language_info": {
   "codemirror_mode": {
    "name": "ipython",
    "version": 3
   },
   "file_extension": ".py",
   "mimetype": "text/x-python",
   "name": "python",
   "nbconvert_exporter": "python",
   "pygments_lexer": "ipython3",
   "version": "3.6.7"
  }
 },
 "nbformat": 4,
 "nbformat_minor": 2
}
